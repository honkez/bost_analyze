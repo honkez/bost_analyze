{
 "cells": [
  {
   "cell_type": "code",
   "execution_count": 22,
   "id": "6bc01100",
   "metadata": {},
   "outputs": [],
   "source": [
    "import pandas as pd\n",
    "import numpy as np\n"
   ]
  },
  {
   "cell_type": "code",
   "execution_count": 23,
   "id": "c6f9e20a",
   "metadata": {},
   "outputs": [],
   "source": [
    "bost_df=pd.read_csv('scrape_booli_2022-07-19.csv',index_col=False)"
   ]
  },
  {
   "cell_type": "markdown",
   "id": "beb1472c",
   "metadata": {},
   "source": [
    "Assess  \n",
    "Define  \n",
    "Clean  \n",
    "Visualize  "
   ]
  },
  {
   "cell_type": "markdown",
   "id": "151a81e7",
   "metadata": {},
   "source": [
    "\n",
    "\n",
    "Assess:\n",
    "- Alla kolumner kan ha bättre namn   \n",
    "\n",
    "unnamed:\n",
    "- [X] Ta bort index då det inte behövs, unnamed   \n",
    "\n",
    "b_size:\n",
    "-  delas till 2 kolumner\n",
    " - ant_rum\n",
    " - bost_stlk_m2\n",
    "\n",
    "b_price:  \n",
    "- ta bort kr i b-price\n",
    "- gör om datatyp\n",
    "\n",
    "b_pr_m2 :  \n",
    "- ta bort kr/m2 på alla hus\n",
    "\n",
    "b_sale_date:\n",
    "gör om till date_time\n",
    "\n",
    "\n",
    "\n",
    "\n"
   ]
  },
  {
   "cell_type": "code",
   "execution_count": 24,
   "id": "bd1b482c",
   "metadata": {
    "scrolled": true
   },
   "outputs": [
    {
     "data": {
      "text/html": [
       "<div>\n",
       "<style scoped>\n",
       "    .dataframe tbody tr th:only-of-type {\n",
       "        vertical-align: middle;\n",
       "    }\n",
       "\n",
       "    .dataframe tbody tr th {\n",
       "        vertical-align: top;\n",
       "    }\n",
       "\n",
       "    .dataframe thead th {\n",
       "        text-align: right;\n",
       "    }\n",
       "</style>\n",
       "<table border=\"1\" class=\"dataframe\">\n",
       "  <thead>\n",
       "    <tr style=\"text-align: right;\">\n",
       "      <th></th>\n",
       "      <th>Unnamed: 0</th>\n",
       "      <th>b_loc</th>\n",
       "      <th>b_size</th>\n",
       "      <th>b_price</th>\n",
       "      <th>b_pr_m2</th>\n",
       "      <th>b_sale_rslt</th>\n",
       "      <th>b_sale_date</th>\n",
       "    </tr>\n",
       "  </thead>\n",
       "  <tbody>\n",
       "    <tr>\n",
       "      <th>0</th>\n",
       "      <td>0</td>\n",
       "      <td>Kärleksstigen 28</td>\n",
       "      <td>6 rum, 161 m²</td>\n",
       "      <td>2 500 000 kr</td>\n",
       "      <td>15 500 kr/m²</td>\n",
       "      <td>0.0</td>\n",
       "      <td>2022-07-15</td>\n",
       "    </tr>\n",
       "    <tr>\n",
       "      <th>1</th>\n",
       "      <td>1</td>\n",
       "      <td>Hagagatan 7</td>\n",
       "      <td>4 rum, 122 m²</td>\n",
       "      <td>1 100 000 kr</td>\n",
       "      <td>9 000 kr/m²</td>\n",
       "      <td>-7.9</td>\n",
       "      <td>2022-07-14</td>\n",
       "    </tr>\n",
       "    <tr>\n",
       "      <th>2</th>\n",
       "      <td>2</td>\n",
       "      <td>Uddabergsvägen 15</td>\n",
       "      <td>4 rum, 119 m²</td>\n",
       "      <td>4 680 000 kr</td>\n",
       "      <td>39 300 kr/m²</td>\n",
       "      <td>4.1</td>\n",
       "      <td>2022-07-13</td>\n",
       "    </tr>\n",
       "    <tr>\n",
       "      <th>3</th>\n",
       "      <td>3</td>\n",
       "      <td>Lerdala Åbod gatan</td>\n",
       "      <td>2 rum, 73 m²</td>\n",
       "      <td>1 650 000 kr</td>\n",
       "      <td>22 600 kr/m²</td>\n",
       "      <td>-2.1</td>\n",
       "      <td>2022-07-12</td>\n",
       "    </tr>\n",
       "    <tr>\n",
       "      <th>4</th>\n",
       "      <td>4</td>\n",
       "      <td>Rönnbärsvägen 21</td>\n",
       "      <td>7 rum, 164 m²</td>\n",
       "      <td>2 300 000 kr</td>\n",
       "      <td>14 000 kr/m²</td>\n",
       "      <td>4.8</td>\n",
       "      <td>2022-07-12</td>\n",
       "    </tr>\n",
       "  </tbody>\n",
       "</table>\n",
       "</div>"
      ],
      "text/plain": [
       "   Unnamed: 0               b_loc         b_size       b_price       b_pr_m2  \\\n",
       "0           0    Kärleksstigen 28  6 rum, 161 m²  2 500 000 kr  15 500 kr/m²   \n",
       "1           1         Hagagatan 7  4 rum, 122 m²  1 100 000 kr   9 000 kr/m²   \n",
       "2           2   Uddabergsvägen 15  4 rum, 119 m²  4 680 000 kr  39 300 kr/m²   \n",
       "3           3  Lerdala Åbod gatan   2 rum, 73 m²  1 650 000 kr  22 600 kr/m²   \n",
       "4           4    Rönnbärsvägen 21  7 rum, 164 m²  2 300 000 kr  14 000 kr/m²   \n",
       "\n",
       "   b_sale_rslt b_sale_date  \n",
       "0          0.0  2022-07-15  \n",
       "1         -7.9  2022-07-14  \n",
       "2          4.1  2022-07-13  \n",
       "3         -2.1  2022-07-12  \n",
       "4          4.8  2022-07-12  "
      ]
     },
     "execution_count": 24,
     "metadata": {},
     "output_type": "execute_result"
    }
   ],
   "source": [
    "bost_df.head()"
   ]
  },
  {
   "cell_type": "code",
   "execution_count": 25,
   "id": "965c8c8b",
   "metadata": {
    "collapsed": true
   },
   "outputs": [
    {
     "data": {
      "text/html": [
       "<div>\n",
       "<style scoped>\n",
       "    .dataframe tbody tr th:only-of-type {\n",
       "        vertical-align: middle;\n",
       "    }\n",
       "\n",
       "    .dataframe tbody tr th {\n",
       "        vertical-align: top;\n",
       "    }\n",
       "\n",
       "    .dataframe thead th {\n",
       "        text-align: right;\n",
       "    }\n",
       "</style>\n",
       "<table border=\"1\" class=\"dataframe\">\n",
       "  <thead>\n",
       "    <tr style=\"text-align: right;\">\n",
       "      <th></th>\n",
       "      <th>Unnamed: 0</th>\n",
       "      <th>b_sale_rslt</th>\n",
       "    </tr>\n",
       "  </thead>\n",
       "  <tbody>\n",
       "    <tr>\n",
       "      <th>count</th>\n",
       "      <td>175.000000</td>\n",
       "      <td>175.000000</td>\n",
       "    </tr>\n",
       "    <tr>\n",
       "      <th>mean</th>\n",
       "      <td>87.000000</td>\n",
       "      <td>3.477714</td>\n",
       "    </tr>\n",
       "    <tr>\n",
       "      <th>std</th>\n",
       "      <td>50.662281</td>\n",
       "      <td>11.136820</td>\n",
       "    </tr>\n",
       "    <tr>\n",
       "      <th>min</th>\n",
       "      <td>0.000000</td>\n",
       "      <td>-23.600000</td>\n",
       "    </tr>\n",
       "    <tr>\n",
       "      <th>25%</th>\n",
       "      <td>43.500000</td>\n",
       "      <td>-4.000000</td>\n",
       "    </tr>\n",
       "    <tr>\n",
       "      <th>50%</th>\n",
       "      <td>87.000000</td>\n",
       "      <td>0.000000</td>\n",
       "    </tr>\n",
       "    <tr>\n",
       "      <th>75%</th>\n",
       "      <td>130.500000</td>\n",
       "      <td>9.800000</td>\n",
       "    </tr>\n",
       "    <tr>\n",
       "      <th>max</th>\n",
       "      <td>174.000000</td>\n",
       "      <td>43.300000</td>\n",
       "    </tr>\n",
       "  </tbody>\n",
       "</table>\n",
       "</div>"
      ],
      "text/plain": [
       "       Unnamed: 0  b_sale_rslt\n",
       "count  175.000000   175.000000\n",
       "mean    87.000000     3.477714\n",
       "std     50.662281    11.136820\n",
       "min      0.000000   -23.600000\n",
       "25%     43.500000    -4.000000\n",
       "50%     87.000000     0.000000\n",
       "75%    130.500000     9.800000\n",
       "max    174.000000    43.300000"
      ]
     },
     "execution_count": 25,
     "metadata": {},
     "output_type": "execute_result"
    }
   ],
   "source": [
    "bost_df.describe()"
   ]
  },
  {
   "cell_type": "code",
   "execution_count": null,
   "id": "6a085934",
   "metadata": {},
   "outputs": [],
   "source": []
  },
  {
   "cell_type": "markdown",
   "id": "7270a8fa",
   "metadata": {},
   "source": [
    "**Define** \n",
    "Ta bort column 0\n",
    "<!-- bost_df.reset_index() -->\n",
    "Code :"
   ]
  },
  {
   "cell_type": "code",
   "execution_count": 26,
   "id": "6c05ca7b",
   "metadata": {},
   "outputs": [],
   "source": [
    "#Drop column 0\n",
    "bost_df.drop(bost_df.iloc[:,0:1],axis=1,inplace=True)\n",
    "# Osäker på om denna behövs:\n",
    "#bost_df.reset_index()"
   ]
  },
  {
   "cell_type": "markdown",
   "id": "fb2563cb",
   "metadata": {},
   "source": [
    "Test:"
   ]
  },
  {
   "cell_type": "code",
   "execution_count": 57,
   "id": "c362fe8d",
   "metadata": {
    "scrolled": true
   },
   "outputs": [
    {
     "data": {
      "text/html": [
       "<div>\n",
       "<style scoped>\n",
       "    .dataframe tbody tr th:only-of-type {\n",
       "        vertical-align: middle;\n",
       "    }\n",
       "\n",
       "    .dataframe tbody tr th {\n",
       "        vertical-align: top;\n",
       "    }\n",
       "\n",
       "    .dataframe thead th {\n",
       "        text-align: right;\n",
       "    }\n",
       "</style>\n",
       "<table border=\"1\" class=\"dataframe\">\n",
       "  <thead>\n",
       "    <tr style=\"text-align: right;\">\n",
       "      <th></th>\n",
       "      <th>b_loc</th>\n",
       "      <th>b_size</th>\n",
       "      <th>b_price</th>\n",
       "      <th>b_pr_m2</th>\n",
       "      <th>b_sale_rslt</th>\n",
       "      <th>b_sale_date</th>\n",
       "      <th>ant_rum</th>\n",
       "      <th>kvm</th>\n",
       "    </tr>\n",
       "  </thead>\n",
       "  <tbody>\n",
       "    <tr>\n",
       "      <th>0</th>\n",
       "      <td>Kärleksstigen 28</td>\n",
       "      <td>6 rum, 161 m²</td>\n",
       "      <td>2 500 000 kr</td>\n",
       "      <td>15 500 kr/m²</td>\n",
       "      <td>0.0</td>\n",
       "      <td>2022-07-15</td>\n",
       "      <td>6 rum</td>\n",
       "      <td>161</td>\n",
       "    </tr>\n",
       "    <tr>\n",
       "      <th>1</th>\n",
       "      <td>Hagagatan 7</td>\n",
       "      <td>4 rum, 122 m²</td>\n",
       "      <td>1 100 000 kr</td>\n",
       "      <td>9 000 kr/m²</td>\n",
       "      <td>-7.9</td>\n",
       "      <td>2022-07-14</td>\n",
       "      <td>4 rum</td>\n",
       "      <td>122</td>\n",
       "    </tr>\n",
       "  </tbody>\n",
       "</table>\n",
       "</div>"
      ],
      "text/plain": [
       "              b_loc         b_size       b_price       b_pr_m2  b_sale_rslt  \\\n",
       "0  Kärleksstigen 28  6 rum, 161 m²  2 500 000 kr  15 500 kr/m²          0.0   \n",
       "1       Hagagatan 7  4 rum, 122 m²  1 100 000 kr   9 000 kr/m²         -7.9   \n",
       "\n",
       "  b_sale_date ant_rum   kvm  \n",
       "0  2022-07-15   6 rum   161  \n",
       "1  2022-07-14   4 rum   122  "
      ]
     },
     "execution_count": 57,
     "metadata": {},
     "output_type": "execute_result"
    }
   ],
   "source": [
    "bost_df.head(2)"
   ]
  },
  {
   "cell_type": "markdown",
   "id": "0a37db49",
   "metadata": {},
   "source": [
    "**Define:**  \n",
    "    Dela på antal rum och kvm  \n",
    "    Code:"
   ]
  },
  {
   "cell_type": "code",
   "execution_count": 44,
   "id": "602edbb7",
   "metadata": {},
   "outputs": [],
   "source": [
    "#dela på b_size\n",
    "bost_df[['ant_rum','kvm']]=bost_df.b_size.str.split(',',expand=True)"
   ]
  },
  {
   "cell_type": "markdown",
   "id": "e1dee9ec",
   "metadata": {},
   "source": [
    "**Define**  \n",
    "Ta bort ' m²' från kvm  \n",
    "Code:"
   ]
  },
  {
   "cell_type": "code",
   "execution_count": 51,
   "id": "64233b26",
   "metadata": {},
   "outputs": [],
   "source": [
    "bost_df.kvm=bost_df.kvm.str.replace(' m²','')"
   ]
  },
  {
   "cell_type": "markdown",
   "id": "66ce2af0",
   "metadata": {},
   "source": [
    "Test:"
   ]
  },
  {
   "cell_type": "code",
   "execution_count": 37,
   "id": "2018af85",
   "metadata": {},
   "outputs": [
    {
     "data": {
      "text/plain": [
       "175"
      ]
     },
     "execution_count": 37,
     "metadata": {},
     "output_type": "execute_result"
    }
   ],
   "source": [
    "len(room)"
   ]
  },
  {
   "cell_type": "code",
   "execution_count": 52,
   "id": "717cdb6f",
   "metadata": {
    "collapsed": true
   },
   "outputs": [
    {
     "data": {
      "text/html": [
       "<div>\n",
       "<style scoped>\n",
       "    .dataframe tbody tr th:only-of-type {\n",
       "        vertical-align: middle;\n",
       "    }\n",
       "\n",
       "    .dataframe tbody tr th {\n",
       "        vertical-align: top;\n",
       "    }\n",
       "\n",
       "    .dataframe thead th {\n",
       "        text-align: right;\n",
       "    }\n",
       "</style>\n",
       "<table border=\"1\" class=\"dataframe\">\n",
       "  <thead>\n",
       "    <tr style=\"text-align: right;\">\n",
       "      <th></th>\n",
       "      <th>b_loc</th>\n",
       "      <th>b_size</th>\n",
       "      <th>b_price</th>\n",
       "      <th>b_pr_m2</th>\n",
       "      <th>b_sale_rslt</th>\n",
       "      <th>b_sale_date</th>\n",
       "      <th>ant_rum</th>\n",
       "      <th>kvm</th>\n",
       "    </tr>\n",
       "  </thead>\n",
       "  <tbody>\n",
       "    <tr>\n",
       "      <th>0</th>\n",
       "      <td>Kärleksstigen 28</td>\n",
       "      <td>6 rum, 161 m²</td>\n",
       "      <td>2 500 000 kr</td>\n",
       "      <td>15 500 kr/m²</td>\n",
       "      <td>0.0</td>\n",
       "      <td>2022-07-15</td>\n",
       "      <td>6 rum</td>\n",
       "      <td>161</td>\n",
       "    </tr>\n",
       "    <tr>\n",
       "      <th>1</th>\n",
       "      <td>Hagagatan 7</td>\n",
       "      <td>4 rum, 122 m²</td>\n",
       "      <td>1 100 000 kr</td>\n",
       "      <td>9 000 kr/m²</td>\n",
       "      <td>-7.9</td>\n",
       "      <td>2022-07-14</td>\n",
       "      <td>4 rum</td>\n",
       "      <td>122</td>\n",
       "    </tr>\n",
       "    <tr>\n",
       "      <th>2</th>\n",
       "      <td>Uddabergsvägen 15</td>\n",
       "      <td>4 rum, 119 m²</td>\n",
       "      <td>4 680 000 kr</td>\n",
       "      <td>39 300 kr/m²</td>\n",
       "      <td>4.1</td>\n",
       "      <td>2022-07-13</td>\n",
       "      <td>4 rum</td>\n",
       "      <td>119</td>\n",
       "    </tr>\n",
       "    <tr>\n",
       "      <th>3</th>\n",
       "      <td>Lerdala Åbod gatan</td>\n",
       "      <td>2 rum, 73 m²</td>\n",
       "      <td>1 650 000 kr</td>\n",
       "      <td>22 600 kr/m²</td>\n",
       "      <td>-2.1</td>\n",
       "      <td>2022-07-12</td>\n",
       "      <td>2 rum</td>\n",
       "      <td>73</td>\n",
       "    </tr>\n",
       "    <tr>\n",
       "      <th>4</th>\n",
       "      <td>Rönnbärsvägen 21</td>\n",
       "      <td>7 rum, 164 m²</td>\n",
       "      <td>2 300 000 kr</td>\n",
       "      <td>14 000 kr/m²</td>\n",
       "      <td>4.8</td>\n",
       "      <td>2022-07-12</td>\n",
       "      <td>7 rum</td>\n",
       "      <td>164</td>\n",
       "    </tr>\n",
       "  </tbody>\n",
       "</table>\n",
       "</div>"
      ],
      "text/plain": [
       "                b_loc         b_size       b_price       b_pr_m2  b_sale_rslt  \\\n",
       "0    Kärleksstigen 28  6 rum, 161 m²  2 500 000 kr  15 500 kr/m²          0.0   \n",
       "1         Hagagatan 7  4 rum, 122 m²  1 100 000 kr   9 000 kr/m²         -7.9   \n",
       "2   Uddabergsvägen 15  4 rum, 119 m²  4 680 000 kr  39 300 kr/m²          4.1   \n",
       "3  Lerdala Åbod gatan   2 rum, 73 m²  1 650 000 kr  22 600 kr/m²         -2.1   \n",
       "4    Rönnbärsvägen 21  7 rum, 164 m²  2 300 000 kr  14 000 kr/m²          4.8   \n",
       "\n",
       "  b_sale_date ant_rum   kvm  \n",
       "0  2022-07-15   6 rum   161  \n",
       "1  2022-07-14   4 rum   122  \n",
       "2  2022-07-13   4 rum   119  \n",
       "3  2022-07-12   2 rum    73  \n",
       "4  2022-07-12   7 rum   164  "
      ]
     },
     "execution_count": 52,
     "metadata": {},
     "output_type": "execute_result"
    }
   ],
   "source": [
    "bost_df.head()"
   ]
  },
  {
   "cell_type": "markdown",
   "id": "780a9e9b",
   "metadata": {},
   "source": [
    "**Define**\n",
    "- Ta bort rum från ant_rum kolumnen  \n",
    "Code:"
   ]
  },
  {
   "cell_type": "code",
   "execution_count": 61,
   "id": "9e72e8b9",
   "metadata": {},
   "outputs": [],
   "source": [
    "bost_df.ant_rum=bost_df.ant_rum.str.replace(' rum','')"
   ]
  },
  {
   "cell_type": "markdown",
   "id": "5ab08970",
   "metadata": {},
   "source": [
    "Test:\n",
    "    "
   ]
  },
  {
   "cell_type": "code",
   "execution_count": 64,
   "id": "cbe53906",
   "metadata": {
    "scrolled": true
   },
   "outputs": [
    {
     "data": {
      "text/html": [
       "<div>\n",
       "<style scoped>\n",
       "    .dataframe tbody tr th:only-of-type {\n",
       "        vertical-align: middle;\n",
       "    }\n",
       "\n",
       "    .dataframe tbody tr th {\n",
       "        vertical-align: top;\n",
       "    }\n",
       "\n",
       "    .dataframe thead th {\n",
       "        text-align: right;\n",
       "    }\n",
       "</style>\n",
       "<table border=\"1\" class=\"dataframe\">\n",
       "  <thead>\n",
       "    <tr style=\"text-align: right;\">\n",
       "      <th></th>\n",
       "      <th>b_loc</th>\n",
       "      <th>b_size</th>\n",
       "      <th>b_price</th>\n",
       "      <th>b_pr_m2</th>\n",
       "      <th>b_sale_rslt</th>\n",
       "      <th>b_sale_date</th>\n",
       "      <th>ant_rum</th>\n",
       "      <th>kvm</th>\n",
       "    </tr>\n",
       "  </thead>\n",
       "  <tbody>\n",
       "    <tr>\n",
       "      <th>0</th>\n",
       "      <td>Kärleksstigen 28</td>\n",
       "      <td>6 rum, 161 m²</td>\n",
       "      <td>2 500 000 kr</td>\n",
       "      <td>15 500 kr/m²</td>\n",
       "      <td>0.0</td>\n",
       "      <td>2022-07-15</td>\n",
       "      <td>6</td>\n",
       "      <td>161</td>\n",
       "    </tr>\n",
       "  </tbody>\n",
       "</table>\n",
       "</div>"
      ],
      "text/plain": [
       "              b_loc         b_size       b_price       b_pr_m2  b_sale_rslt  \\\n",
       "0  Kärleksstigen 28  6 rum, 161 m²  2 500 000 kr  15 500 kr/m²          0.0   \n",
       "\n",
       "  b_sale_date ant_rum   kvm  \n",
       "0  2022-07-15       6   161  "
      ]
     },
     "execution_count": 64,
     "metadata": {},
     "output_type": "execute_result"
    }
   ],
   "source": [
    "bost_df.head(1)"
   ]
  },
  {
   "cell_type": "code",
   "execution_count": 88,
   "id": "012d686e",
   "metadata": {},
   "outputs": [],
   "source": [
    "bost_df['ant_rum']=bost_df['ant_rum'].replace('None',np.nan)"
   ]
  },
  {
   "cell_type": "code",
   "execution_count": 94,
   "id": "b0938c10",
   "metadata": {},
   "outputs": [
    {
     "data": {
      "text/plain": [
       "0      6.0\n",
       "1      4.0\n",
       "2      4.0\n",
       "3      2.0\n",
       "4      7.0\n",
       "5      8.0\n",
       "6      5.0\n",
       "7      5.0\n",
       "8      4.0\n",
       "9      4.0\n",
       "10     8.0\n",
       "12     5.0\n",
       "13     7.0\n",
       "14     6.0\n",
       "15     3.0\n",
       "16     8.0\n",
       "17     5.0\n",
       "18     3.0\n",
       "19     7.0\n",
       "20     5.0\n",
       "21     4.0\n",
       "22     5.0\n",
       "23     6.0\n",
       "24     4.0\n",
       "25     5.0\n",
       "26     5.0\n",
       "27     6.0\n",
       "31     4.0\n",
       "32     7.0\n",
       "33     7.0\n",
       "      ... \n",
       "70     4.0\n",
       "75     7.0\n",
       "82     4.0\n",
       "83     4.0\n",
       "85     6.0\n",
       "86     6.0\n",
       "87     5.0\n",
       "88     4.0\n",
       "93     5.0\n",
       "99     5.0\n",
       "100    6.0\n",
       "107    5.0\n",
       "108    5.0\n",
       "110    5.0\n",
       "112    5.0\n",
       "113    2.0\n",
       "114    5.0\n",
       "117    6.0\n",
       "123    3.0\n",
       "124    6.0\n",
       "125    7.0\n",
       "129    6.0\n",
       "142    6.0\n",
       "144    7.0\n",
       "147    6.0\n",
       "156    6.0\n",
       "162    4.0\n",
       "163    6.0\n",
       "164    5.0\n",
       "173    6.0\n",
       "Name: ant_rum, Length: 74, dtype: float64"
      ]
     },
     "execution_count": 94,
     "metadata": {},
     "output_type": "execute_result"
    }
   ],
   "source": [
    "bost_df.ant_rum.dropna()"
   ]
  },
  {
   "cell_type": "code",
   "execution_count": 95,
   "id": "83dc1937",
   "metadata": {
    "scrolled": true
   },
   "outputs": [
    {
     "ename": "ValueError",
     "evalue": "Cannot convert non-finite values (NA or inf) to integer",
     "output_type": "error",
     "traceback": [
      "\u001b[1;31m---------------------------------------------------------------------------\u001b[0m",
      "\u001b[1;31mValueError\u001b[0m                                Traceback (most recent call last)",
      "\u001b[1;32m<ipython-input-95-83ad1ff50c0a>\u001b[0m in \u001b[0;36m<module>\u001b[1;34m\u001b[0m\n\u001b[1;32m----> 1\u001b[1;33m \u001b[0mbost_df\u001b[0m\u001b[1;33m[\u001b[0m\u001b[1;34m'ant_rum'\u001b[0m\u001b[1;33m]\u001b[0m\u001b[1;33m=\u001b[0m\u001b[0mbost_df\u001b[0m\u001b[1;33m[\u001b[0m\u001b[1;34m'ant_rum'\u001b[0m\u001b[1;33m]\u001b[0m\u001b[1;33m.\u001b[0m\u001b[0mastype\u001b[0m\u001b[1;33m(\u001b[0m\u001b[1;34m'Int64'\u001b[0m\u001b[1;33m)\u001b[0m\u001b[1;33m\u001b[0m\u001b[1;33m\u001b[0m\u001b[0m\n\u001b[0m",
      "\u001b[1;32m~\\anaconda3\\envs\\upskill\\lib\\site-packages\\pandas\\util\\_decorators.py\u001b[0m in \u001b[0;36mwrapper\u001b[1;34m(*args, **kwargs)\u001b[0m\n\u001b[0;32m    116\u001b[0m                 \u001b[1;32melse\u001b[0m\u001b[1;33m:\u001b[0m\u001b[1;33m\u001b[0m\u001b[1;33m\u001b[0m\u001b[0m\n\u001b[0;32m    117\u001b[0m                     \u001b[0mkwargs\u001b[0m\u001b[1;33m[\u001b[0m\u001b[0mnew_arg_name\u001b[0m\u001b[1;33m]\u001b[0m \u001b[1;33m=\u001b[0m \u001b[0mnew_arg_value\u001b[0m\u001b[1;33m\u001b[0m\u001b[1;33m\u001b[0m\u001b[0m\n\u001b[1;32m--> 118\u001b[1;33m             \u001b[1;32mreturn\u001b[0m \u001b[0mfunc\u001b[0m\u001b[1;33m(\u001b[0m\u001b[1;33m*\u001b[0m\u001b[0margs\u001b[0m\u001b[1;33m,\u001b[0m \u001b[1;33m**\u001b[0m\u001b[0mkwargs\u001b[0m\u001b[1;33m)\u001b[0m\u001b[1;33m\u001b[0m\u001b[1;33m\u001b[0m\u001b[0m\n\u001b[0m\u001b[0;32m    119\u001b[0m         \u001b[1;32mreturn\u001b[0m \u001b[0mwrapper\u001b[0m\u001b[1;33m\u001b[0m\u001b[1;33m\u001b[0m\u001b[0m\n\u001b[0;32m    120\u001b[0m     \u001b[1;32mreturn\u001b[0m \u001b[0m_deprecate_kwarg\u001b[0m\u001b[1;33m\u001b[0m\u001b[1;33m\u001b[0m\u001b[0m\n",
      "\u001b[1;32m~\\anaconda3\\envs\\upskill\\lib\\site-packages\\pandas\\core\\generic.py\u001b[0m in \u001b[0;36mastype\u001b[1;34m(self, dtype, copy, errors, **kwargs)\u001b[0m\n\u001b[0;32m   4002\u001b[0m         \u001b[1;31m# else, only a single dtype is given\u001b[0m\u001b[1;33m\u001b[0m\u001b[1;33m\u001b[0m\u001b[1;33m\u001b[0m\u001b[0m\n\u001b[0;32m   4003\u001b[0m         new_data = self._data.astype(dtype=dtype, copy=copy, errors=errors,\n\u001b[1;32m-> 4004\u001b[1;33m                                      **kwargs)\n\u001b[0m\u001b[0;32m   4005\u001b[0m         \u001b[1;32mreturn\u001b[0m \u001b[0mself\u001b[0m\u001b[1;33m.\u001b[0m\u001b[0m_constructor\u001b[0m\u001b[1;33m(\u001b[0m\u001b[0mnew_data\u001b[0m\u001b[1;33m)\u001b[0m\u001b[1;33m.\u001b[0m\u001b[0m__finalize__\u001b[0m\u001b[1;33m(\u001b[0m\u001b[0mself\u001b[0m\u001b[1;33m)\u001b[0m\u001b[1;33m\u001b[0m\u001b[1;33m\u001b[0m\u001b[0m\n\u001b[0;32m   4006\u001b[0m \u001b[1;33m\u001b[0m\u001b[0m\n",
      "\u001b[1;32m~\\anaconda3\\envs\\upskill\\lib\\site-packages\\pandas\\core\\internals.py\u001b[0m in \u001b[0;36mastype\u001b[1;34m(self, dtype, **kwargs)\u001b[0m\n\u001b[0;32m   3460\u001b[0m \u001b[1;33m\u001b[0m\u001b[0m\n\u001b[0;32m   3461\u001b[0m     \u001b[1;32mdef\u001b[0m \u001b[0mastype\u001b[0m\u001b[1;33m(\u001b[0m\u001b[0mself\u001b[0m\u001b[1;33m,\u001b[0m \u001b[0mdtype\u001b[0m\u001b[1;33m,\u001b[0m \u001b[1;33m**\u001b[0m\u001b[0mkwargs\u001b[0m\u001b[1;33m)\u001b[0m\u001b[1;33m:\u001b[0m\u001b[1;33m\u001b[0m\u001b[1;33m\u001b[0m\u001b[0m\n\u001b[1;32m-> 3462\u001b[1;33m         \u001b[1;32mreturn\u001b[0m \u001b[0mself\u001b[0m\u001b[1;33m.\u001b[0m\u001b[0mapply\u001b[0m\u001b[1;33m(\u001b[0m\u001b[1;34m'astype'\u001b[0m\u001b[1;33m,\u001b[0m \u001b[0mdtype\u001b[0m\u001b[1;33m=\u001b[0m\u001b[0mdtype\u001b[0m\u001b[1;33m,\u001b[0m \u001b[1;33m**\u001b[0m\u001b[0mkwargs\u001b[0m\u001b[1;33m)\u001b[0m\u001b[1;33m\u001b[0m\u001b[1;33m\u001b[0m\u001b[0m\n\u001b[0m\u001b[0;32m   3463\u001b[0m \u001b[1;33m\u001b[0m\u001b[0m\n\u001b[0;32m   3464\u001b[0m     \u001b[1;32mdef\u001b[0m \u001b[0mconvert\u001b[0m\u001b[1;33m(\u001b[0m\u001b[0mself\u001b[0m\u001b[1;33m,\u001b[0m \u001b[1;33m**\u001b[0m\u001b[0mkwargs\u001b[0m\u001b[1;33m)\u001b[0m\u001b[1;33m:\u001b[0m\u001b[1;33m\u001b[0m\u001b[1;33m\u001b[0m\u001b[0m\n",
      "\u001b[1;32m~\\anaconda3\\envs\\upskill\\lib\\site-packages\\pandas\\core\\internals.py\u001b[0m in \u001b[0;36mapply\u001b[1;34m(self, f, axes, filter, do_integrity_check, consolidate, **kwargs)\u001b[0m\n\u001b[0;32m   3327\u001b[0m \u001b[1;33m\u001b[0m\u001b[0m\n\u001b[0;32m   3328\u001b[0m             \u001b[0mkwargs\u001b[0m\u001b[1;33m[\u001b[0m\u001b[1;34m'mgr'\u001b[0m\u001b[1;33m]\u001b[0m \u001b[1;33m=\u001b[0m \u001b[0mself\u001b[0m\u001b[1;33m\u001b[0m\u001b[1;33m\u001b[0m\u001b[0m\n\u001b[1;32m-> 3329\u001b[1;33m             \u001b[0mapplied\u001b[0m \u001b[1;33m=\u001b[0m \u001b[0mgetattr\u001b[0m\u001b[1;33m(\u001b[0m\u001b[0mb\u001b[0m\u001b[1;33m,\u001b[0m \u001b[0mf\u001b[0m\u001b[1;33m)\u001b[0m\u001b[1;33m(\u001b[0m\u001b[1;33m**\u001b[0m\u001b[0mkwargs\u001b[0m\u001b[1;33m)\u001b[0m\u001b[1;33m\u001b[0m\u001b[1;33m\u001b[0m\u001b[0m\n\u001b[0m\u001b[0;32m   3330\u001b[0m             \u001b[0mresult_blocks\u001b[0m \u001b[1;33m=\u001b[0m \u001b[0m_extend_blocks\u001b[0m\u001b[1;33m(\u001b[0m\u001b[0mapplied\u001b[0m\u001b[1;33m,\u001b[0m \u001b[0mresult_blocks\u001b[0m\u001b[1;33m)\u001b[0m\u001b[1;33m\u001b[0m\u001b[1;33m\u001b[0m\u001b[0m\n\u001b[0;32m   3331\u001b[0m \u001b[1;33m\u001b[0m\u001b[0m\n",
      "\u001b[1;32m~\\anaconda3\\envs\\upskill\\lib\\site-packages\\pandas\\core\\internals.py\u001b[0m in \u001b[0;36mastype\u001b[1;34m(self, dtype, copy, errors, values, **kwargs)\u001b[0m\n\u001b[0;32m    542\u001b[0m     \u001b[1;32mdef\u001b[0m \u001b[0mastype\u001b[0m\u001b[1;33m(\u001b[0m\u001b[0mself\u001b[0m\u001b[1;33m,\u001b[0m \u001b[0mdtype\u001b[0m\u001b[1;33m,\u001b[0m \u001b[0mcopy\u001b[0m\u001b[1;33m=\u001b[0m\u001b[1;32mFalse\u001b[0m\u001b[1;33m,\u001b[0m \u001b[0merrors\u001b[0m\u001b[1;33m=\u001b[0m\u001b[1;34m'raise'\u001b[0m\u001b[1;33m,\u001b[0m \u001b[0mvalues\u001b[0m\u001b[1;33m=\u001b[0m\u001b[1;32mNone\u001b[0m\u001b[1;33m,\u001b[0m \u001b[1;33m**\u001b[0m\u001b[0mkwargs\u001b[0m\u001b[1;33m)\u001b[0m\u001b[1;33m:\u001b[0m\u001b[1;33m\u001b[0m\u001b[1;33m\u001b[0m\u001b[0m\n\u001b[0;32m    543\u001b[0m         return self._astype(dtype, copy=copy, errors=errors, values=values,\n\u001b[1;32m--> 544\u001b[1;33m                             **kwargs)\n\u001b[0m\u001b[0;32m    545\u001b[0m \u001b[1;33m\u001b[0m\u001b[0m\n\u001b[0;32m    546\u001b[0m     def _astype(self, dtype, copy=False, errors='raise', values=None,\n",
      "\u001b[1;32m~\\anaconda3\\envs\\upskill\\lib\\site-packages\\pandas\\core\\internals.py\u001b[0m in \u001b[0;36m_astype\u001b[1;34m(self, dtype, copy, errors, values, klass, mgr, **kwargs)\u001b[0m\n\u001b[0;32m    623\u001b[0m \u001b[1;33m\u001b[0m\u001b[0m\n\u001b[0;32m    624\u001b[0m                 \u001b[1;31m# _astype_nansafe works fine with 1-d only\u001b[0m\u001b[1;33m\u001b[0m\u001b[1;33m\u001b[0m\u001b[1;33m\u001b[0m\u001b[0m\n\u001b[1;32m--> 625\u001b[1;33m                 \u001b[0mvalues\u001b[0m \u001b[1;33m=\u001b[0m \u001b[0mastype_nansafe\u001b[0m\u001b[1;33m(\u001b[0m\u001b[0mvalues\u001b[0m\u001b[1;33m.\u001b[0m\u001b[0mravel\u001b[0m\u001b[1;33m(\u001b[0m\u001b[1;33m)\u001b[0m\u001b[1;33m,\u001b[0m \u001b[0mdtype\u001b[0m\u001b[1;33m,\u001b[0m \u001b[0mcopy\u001b[0m\u001b[1;33m=\u001b[0m\u001b[1;32mTrue\u001b[0m\u001b[1;33m)\u001b[0m\u001b[1;33m\u001b[0m\u001b[1;33m\u001b[0m\u001b[0m\n\u001b[0m\u001b[0;32m    626\u001b[0m                 \u001b[0mvalues\u001b[0m \u001b[1;33m=\u001b[0m \u001b[0mvalues\u001b[0m\u001b[1;33m.\u001b[0m\u001b[0mreshape\u001b[0m\u001b[1;33m(\u001b[0m\u001b[0mself\u001b[0m\u001b[1;33m.\u001b[0m\u001b[0mshape\u001b[0m\u001b[1;33m)\u001b[0m\u001b[1;33m\u001b[0m\u001b[1;33m\u001b[0m\u001b[0m\n\u001b[0;32m    627\u001b[0m \u001b[1;33m\u001b[0m\u001b[0m\n",
      "\u001b[1;32m~\\anaconda3\\envs\\upskill\\lib\\site-packages\\pandas\\core\\dtypes\\cast.py\u001b[0m in \u001b[0;36mastype_nansafe\u001b[1;34m(arr, dtype, copy)\u001b[0m\n\u001b[0;32m    685\u001b[0m \u001b[1;33m\u001b[0m\u001b[0m\n\u001b[0;32m    686\u001b[0m         \u001b[1;32mif\u001b[0m \u001b[1;32mnot\u001b[0m \u001b[0mnp\u001b[0m\u001b[1;33m.\u001b[0m\u001b[0misfinite\u001b[0m\u001b[1;33m(\u001b[0m\u001b[0marr\u001b[0m\u001b[1;33m)\u001b[0m\u001b[1;33m.\u001b[0m\u001b[0mall\u001b[0m\u001b[1;33m(\u001b[0m\u001b[1;33m)\u001b[0m\u001b[1;33m:\u001b[0m\u001b[1;33m\u001b[0m\u001b[1;33m\u001b[0m\u001b[0m\n\u001b[1;32m--> 687\u001b[1;33m             raise ValueError('Cannot convert non-finite values (NA or inf) to '\n\u001b[0m\u001b[0;32m    688\u001b[0m                              'integer')\n\u001b[0;32m    689\u001b[0m \u001b[1;33m\u001b[0m\u001b[0m\n",
      "\u001b[1;31mValueError\u001b[0m: Cannot convert non-finite values (NA or inf) to integer"
     ]
    }
   ],
   "source": [
    "bost_df['ant_rum']=bost_df['ant_rum'].astype('Int64')"
   ]
  }
 ],
 "metadata": {
  "kernelspec": {
   "display_name": "Python 3",
   "language": "python",
   "name": "python3"
  },
  "language_info": {
   "codemirror_mode": {
    "name": "ipython",
    "version": 3
   },
   "file_extension": ".py",
   "mimetype": "text/x-python",
   "name": "python",
   "nbconvert_exporter": "python",
   "pygments_lexer": "ipython3",
   "version": "3.6.13"
  }
 },
 "nbformat": 4,
 "nbformat_minor": 5
}
