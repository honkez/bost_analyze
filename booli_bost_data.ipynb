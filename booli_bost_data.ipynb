{
 "cells": [
  {
   "cell_type": "markdown",
   "id": "db8540c8",
   "metadata": {},
   "source": [
    "## Boolia bostadsmarknads analys \n",
    "Perioden :\n",
    "    20220101-20220715"
   ]
  },
  {
   "cell_type": "code",
   "execution_count": 4,
   "id": "6bc01100",
   "metadata": {},
   "outputs": [],
   "source": [
    "import pandas as pd\n",
    "import numpy as np\n",
    "from datetime import datetime\n",
    "import matplotlib.pyplot as plt"
   ]
  },
  {
   "cell_type": "code",
   "execution_count": 5,
   "id": "c6f9e20a",
   "metadata": {},
   "outputs": [],
   "source": [
    "bost_df=pd.read_csv('scrape_booli_2022-07-19.csv',index_col=False)\n",
    "bo_pris_indik=pd.read_csv('bo_pris_indikator.csv')"
   ]
  },
  {
   "cell_type": "code",
   "execution_count": 6,
   "id": "db0b9232",
   "metadata": {},
   "outputs": [],
   "source": [
    "# Vänd på hela steken så att det passar diagrammet\n",
    "bo_pris_indik=bo_pris_indik.sort_index(axis=0,ascending=False)"
   ]
  },
  {
   "cell_type": "code",
   "execution_count": 7,
   "id": "5e0703c7",
   "metadata": {},
   "outputs": [],
   "source": [
    "# # plotparams\n",
    "# ggplot_styles = {\n",
    "#     'axes.edgecolor': 'black',\n",
    "#     'axes.facecolor': 'EBEBEB',\n",
    "#     'axes.grid': True,\n",
    "#     'axes.grid.which': 'both',\n",
    "#     'axes.spines.left': False,\n",
    "#     'axes.spines.right': False,\n",
    "#     'axes.spines.top': False,\n",
    "#     'axes.spines.bottom': False,\n",
    "#     'grid.color': 'white',\n",
    "#     'grid.linewidth': '0.6',\n",
    "#     'xtick.color': '555555',\n",
    "#     'xtick.major.bottom': True,\n",
    "#     'xtick.minor.bottom': False,\n",
    "#     'ytick.color': '555555',\n",
    "#     'ytick.major.left': True,\n",
    "#     'ytick.minor.left': False,\n",
    "# }\n",
    "# plt.rcParams.update(ggplot_styles)"
   ]
  },
  {
   "cell_type": "markdown",
   "id": "beb1472c",
   "metadata": {},
   "source": [
    "- Assess  \n",
    "- Define  \n",
    "- Clean  \n",
    "- Analyze  \n",
    "- Visualize  "
   ]
  },
  {
   "cell_type": "markdown",
   "id": "151a81e7",
   "metadata": {},
   "source": [
    "\n",
    "\n",
    "Assess:\n",
    "- Alla kolumner kan ha bättre namn   \n",
    "\n",
    "unnamed:\n",
    "- [X] Ta bort index då det inte behövs, unnamed   \n",
    "\n",
    "b_size:\n",
    "-  delas till 2 kolumner\n",
    " - ant_rum\n",
    " - bost_stlk_m2\n",
    "\n",
    "b_price:  \n",
    "- ta bort kr i b-price\n",
    "- gör om datatyp\n",
    "\n",
    "b_pr_m2 :  \n",
    "- ta bort kr/m2 på alla hus\n",
    "\n",
    "b_sale_date:\n",
    "gör om till date_time\n",
    "\n",
    "\n",
    "\n",
    "\n"
   ]
  },
  {
   "cell_type": "code",
   "execution_count": 8,
   "id": "bd1b482c",
   "metadata": {
    "scrolled": false
   },
   "outputs": [
    {
     "data": {
      "text/html": [
       "<div>\n",
       "<style scoped>\n",
       "    .dataframe tbody tr th:only-of-type {\n",
       "        vertical-align: middle;\n",
       "    }\n",
       "\n",
       "    .dataframe tbody tr th {\n",
       "        vertical-align: top;\n",
       "    }\n",
       "\n",
       "    .dataframe thead th {\n",
       "        text-align: right;\n",
       "    }\n",
       "</style>\n",
       "<table border=\"1\" class=\"dataframe\">\n",
       "  <thead>\n",
       "    <tr style=\"text-align: right;\">\n",
       "      <th></th>\n",
       "      <th>Unnamed: 0</th>\n",
       "      <th>b_loc</th>\n",
       "      <th>b_size</th>\n",
       "      <th>b_price</th>\n",
       "      <th>b_pr_m2</th>\n",
       "      <th>b_sale_rslt</th>\n",
       "      <th>b_sale_date</th>\n",
       "    </tr>\n",
       "  </thead>\n",
       "  <tbody>\n",
       "    <tr>\n",
       "      <th>0</th>\n",
       "      <td>0</td>\n",
       "      <td>Kärleksstigen 28</td>\n",
       "      <td>6 rum, 161 m²</td>\n",
       "      <td>2 500 000 kr</td>\n",
       "      <td>15 500 kr/m²</td>\n",
       "      <td>0.0</td>\n",
       "      <td>2022-07-15</td>\n",
       "    </tr>\n",
       "    <tr>\n",
       "      <th>1</th>\n",
       "      <td>1</td>\n",
       "      <td>Hagagatan 7</td>\n",
       "      <td>4 rum, 122 m²</td>\n",
       "      <td>1 100 000 kr</td>\n",
       "      <td>9 000 kr/m²</td>\n",
       "      <td>-7.9</td>\n",
       "      <td>2022-07-14</td>\n",
       "    </tr>\n",
       "    <tr>\n",
       "      <th>2</th>\n",
       "      <td>2</td>\n",
       "      <td>Uddabergsvägen 15</td>\n",
       "      <td>4 rum, 119 m²</td>\n",
       "      <td>4 680 000 kr</td>\n",
       "      <td>39 300 kr/m²</td>\n",
       "      <td>4.1</td>\n",
       "      <td>2022-07-13</td>\n",
       "    </tr>\n",
       "    <tr>\n",
       "      <th>3</th>\n",
       "      <td>3</td>\n",
       "      <td>Lerdala Åbod gatan</td>\n",
       "      <td>2 rum, 73 m²</td>\n",
       "      <td>1 650 000 kr</td>\n",
       "      <td>22 600 kr/m²</td>\n",
       "      <td>-2.1</td>\n",
       "      <td>2022-07-12</td>\n",
       "    </tr>\n",
       "    <tr>\n",
       "      <th>4</th>\n",
       "      <td>4</td>\n",
       "      <td>Rönnbärsvägen 21</td>\n",
       "      <td>7 rum, 164 m²</td>\n",
       "      <td>2 300 000 kr</td>\n",
       "      <td>14 000 kr/m²</td>\n",
       "      <td>4.8</td>\n",
       "      <td>2022-07-12</td>\n",
       "    </tr>\n",
       "  </tbody>\n",
       "</table>\n",
       "</div>"
      ],
      "text/plain": [
       "   Unnamed: 0               b_loc         b_size       b_price       b_pr_m2  \\\n",
       "0           0    Kärleksstigen 28  6 rum, 161 m²  2 500 000 kr  15 500 kr/m²   \n",
       "1           1         Hagagatan 7  4 rum, 122 m²  1 100 000 kr   9 000 kr/m²   \n",
       "2           2   Uddabergsvägen 15  4 rum, 119 m²  4 680 000 kr  39 300 kr/m²   \n",
       "3           3  Lerdala Åbod gatan   2 rum, 73 m²  1 650 000 kr  22 600 kr/m²   \n",
       "4           4    Rönnbärsvägen 21  7 rum, 164 m²  2 300 000 kr  14 000 kr/m²   \n",
       "\n",
       "   b_sale_rslt b_sale_date  \n",
       "0          0.0  2022-07-15  \n",
       "1         -7.9  2022-07-14  \n",
       "2          4.1  2022-07-13  \n",
       "3         -2.1  2022-07-12  \n",
       "4          4.8  2022-07-12  "
      ]
     },
     "execution_count": 8,
     "metadata": {},
     "output_type": "execute_result"
    }
   ],
   "source": [
    "bost_df.head()"
   ]
  },
  {
   "cell_type": "markdown",
   "id": "7270a8fa",
   "metadata": {},
   "source": [
    "**Define** \n",
    "Ta bort column 0\n",
    "<!-- bost_df.reset_index() -->\n",
    "Code :"
   ]
  },
  {
   "cell_type": "code",
   "execution_count": 9,
   "id": "6c05ca7b",
   "metadata": {},
   "outputs": [],
   "source": [
    "#Drop column 0\n",
    "bost_df.drop(bost_df.iloc[:,0:1],axis=1,inplace=True)\n",
    "# Osäker på om denna behövs:\n",
    "#bost_df.reset_index()"
   ]
  },
  {
   "cell_type": "markdown",
   "id": "fb2563cb",
   "metadata": {},
   "source": [
    "Test:"
   ]
  },
  {
   "cell_type": "markdown",
   "id": "0a37db49",
   "metadata": {},
   "source": [
    "**Define:**  \n",
    "    Dela på antal rum och kvm  \n",
    "    Code:"
   ]
  },
  {
   "cell_type": "code",
   "execution_count": 10,
   "id": "602edbb7",
   "metadata": {},
   "outputs": [],
   "source": [
    "#dela på b_size\n",
    "bost_df[['ant_rum','kvm']]=bost_df.b_size.str.split(',',expand=True)"
   ]
  },
  {
   "cell_type": "code",
   "execution_count": 11,
   "id": "dee4dd74",
   "metadata": {},
   "outputs": [],
   "source": [
    "#Drop column b_size\n",
    "bost_df.drop(['b_size'],axis=1,inplace=True)"
   ]
  },
  {
   "cell_type": "code",
   "execution_count": 12,
   "id": "3b2fce55",
   "metadata": {},
   "outputs": [
    {
     "data": {
      "text/html": [
       "<div>\n",
       "<style scoped>\n",
       "    .dataframe tbody tr th:only-of-type {\n",
       "        vertical-align: middle;\n",
       "    }\n",
       "\n",
       "    .dataframe tbody tr th {\n",
       "        vertical-align: top;\n",
       "    }\n",
       "\n",
       "    .dataframe thead th {\n",
       "        text-align: right;\n",
       "    }\n",
       "</style>\n",
       "<table border=\"1\" class=\"dataframe\">\n",
       "  <thead>\n",
       "    <tr style=\"text-align: right;\">\n",
       "      <th></th>\n",
       "      <th>b_loc</th>\n",
       "      <th>b_price</th>\n",
       "      <th>b_pr_m2</th>\n",
       "      <th>b_sale_rslt</th>\n",
       "      <th>b_sale_date</th>\n",
       "      <th>ant_rum</th>\n",
       "      <th>kvm</th>\n",
       "    </tr>\n",
       "  </thead>\n",
       "  <tbody>\n",
       "    <tr>\n",
       "      <th>0</th>\n",
       "      <td>Kärleksstigen 28</td>\n",
       "      <td>2 500 000 kr</td>\n",
       "      <td>15 500 kr/m²</td>\n",
       "      <td>0.0</td>\n",
       "      <td>2022-07-15</td>\n",
       "      <td>6 rum</td>\n",
       "      <td>161 m²</td>\n",
       "    </tr>\n",
       "    <tr>\n",
       "      <th>1</th>\n",
       "      <td>Hagagatan 7</td>\n",
       "      <td>1 100 000 kr</td>\n",
       "      <td>9 000 kr/m²</td>\n",
       "      <td>-7.9</td>\n",
       "      <td>2022-07-14</td>\n",
       "      <td>4 rum</td>\n",
       "      <td>122 m²</td>\n",
       "    </tr>\n",
       "    <tr>\n",
       "      <th>2</th>\n",
       "      <td>Uddabergsvägen 15</td>\n",
       "      <td>4 680 000 kr</td>\n",
       "      <td>39 300 kr/m²</td>\n",
       "      <td>4.1</td>\n",
       "      <td>2022-07-13</td>\n",
       "      <td>4 rum</td>\n",
       "      <td>119 m²</td>\n",
       "    </tr>\n",
       "    <tr>\n",
       "      <th>3</th>\n",
       "      <td>Lerdala Åbod gatan</td>\n",
       "      <td>1 650 000 kr</td>\n",
       "      <td>22 600 kr/m²</td>\n",
       "      <td>-2.1</td>\n",
       "      <td>2022-07-12</td>\n",
       "      <td>2 rum</td>\n",
       "      <td>73 m²</td>\n",
       "    </tr>\n",
       "    <tr>\n",
       "      <th>4</th>\n",
       "      <td>Rönnbärsvägen 21</td>\n",
       "      <td>2 300 000 kr</td>\n",
       "      <td>14 000 kr/m²</td>\n",
       "      <td>4.8</td>\n",
       "      <td>2022-07-12</td>\n",
       "      <td>7 rum</td>\n",
       "      <td>164 m²</td>\n",
       "    </tr>\n",
       "  </tbody>\n",
       "</table>\n",
       "</div>"
      ],
      "text/plain": [
       "                b_loc       b_price       b_pr_m2  b_sale_rslt b_sale_date  \\\n",
       "0    Kärleksstigen 28  2 500 000 kr  15 500 kr/m²          0.0  2022-07-15   \n",
       "1         Hagagatan 7  1 100 000 kr   9 000 kr/m²         -7.9  2022-07-14   \n",
       "2   Uddabergsvägen 15  4 680 000 kr  39 300 kr/m²          4.1  2022-07-13   \n",
       "3  Lerdala Åbod gatan  1 650 000 kr  22 600 kr/m²         -2.1  2022-07-12   \n",
       "4    Rönnbärsvägen 21  2 300 000 kr  14 000 kr/m²          4.8  2022-07-12   \n",
       "\n",
       "  ant_rum      kvm  \n",
       "0   6 rum   161 m²  \n",
       "1   4 rum   122 m²  \n",
       "2   4 rum   119 m²  \n",
       "3   2 rum    73 m²  \n",
       "4   7 rum   164 m²  "
      ]
     },
     "execution_count": 12,
     "metadata": {},
     "output_type": "execute_result"
    }
   ],
   "source": [
    "bost_df.head()"
   ]
  },
  {
   "cell_type": "markdown",
   "id": "e1dee9ec",
   "metadata": {},
   "source": [
    "**Define**  \n",
    "Remove ' m²' från kvm\n",
    "Remove kr/m² från b_pr_m2\n",
    " \n",
    "Code:"
   ]
  },
  {
   "cell_type": "code",
   "execution_count": 13,
   "id": "97fe0b49",
   "metadata": {},
   "outputs": [],
   "source": [
    "bost_df.rename(columns = {'b_price':'b_price_kr','kvm':'kvm_m2','b_pr_m2':'b_price_m2_kr','ant_rum':'amt_room'}, inplace = True)"
   ]
  },
  {
   "cell_type": "code",
   "execution_count": 14,
   "id": "6349af02",
   "metadata": {},
   "outputs": [
    {
     "data": {
      "text/html": [
       "<div>\n",
       "<style scoped>\n",
       "    .dataframe tbody tr th:only-of-type {\n",
       "        vertical-align: middle;\n",
       "    }\n",
       "\n",
       "    .dataframe tbody tr th {\n",
       "        vertical-align: top;\n",
       "    }\n",
       "\n",
       "    .dataframe thead th {\n",
       "        text-align: right;\n",
       "    }\n",
       "</style>\n",
       "<table border=\"1\" class=\"dataframe\">\n",
       "  <thead>\n",
       "    <tr style=\"text-align: right;\">\n",
       "      <th></th>\n",
       "      <th>b_loc</th>\n",
       "      <th>b_price_kr</th>\n",
       "      <th>b_price_m2_kr</th>\n",
       "      <th>b_sale_rslt</th>\n",
       "      <th>b_sale_date</th>\n",
       "      <th>amt_room</th>\n",
       "      <th>kvm_m2</th>\n",
       "    </tr>\n",
       "  </thead>\n",
       "  <tbody>\n",
       "    <tr>\n",
       "      <th>0</th>\n",
       "      <td>Kärleksstigen 28</td>\n",
       "      <td>2 500 000 kr</td>\n",
       "      <td>15 500 kr/m²</td>\n",
       "      <td>0.0</td>\n",
       "      <td>2022-07-15</td>\n",
       "      <td>6 rum</td>\n",
       "      <td>161 m²</td>\n",
       "    </tr>\n",
       "  </tbody>\n",
       "</table>\n",
       "</div>"
      ],
      "text/plain": [
       "              b_loc    b_price_kr b_price_m2_kr  b_sale_rslt b_sale_date  \\\n",
       "0  Kärleksstigen 28  2 500 000 kr  15 500 kr/m²          0.0  2022-07-15   \n",
       "\n",
       "  amt_room   kvm_m2  \n",
       "0    6 rum   161 m²  "
      ]
     },
     "execution_count": 14,
     "metadata": {},
     "output_type": "execute_result"
    }
   ],
   "source": [
    "bost_df.head(1)"
   ]
  },
  {
   "cell_type": "code",
   "execution_count": 15,
   "id": "64233b26",
   "metadata": {},
   "outputs": [],
   "source": [
    "# remove m2 from kvm kolumn\n",
    "bost_df.kvm_m2=bost_df.kvm_m2.str.replace(' m²','')"
   ]
  },
  {
   "cell_type": "code",
   "execution_count": 16,
   "id": "50033f5f",
   "metadata": {},
   "outputs": [],
   "source": [
    "#remove kr/m2 from .b_pr_m2\n",
    "bost_df.b_price_m2_kr=bost_df.b_price_m2_kr.str.replace(' kr/m²','')"
   ]
  },
  {
   "cell_type": "code",
   "execution_count": 17,
   "id": "d5aead2d",
   "metadata": {
    "scrolled": true
   },
   "outputs": [],
   "source": [
    "bost_df.b_price_kr=bost_df.b_price_kr.str.replace(' kr','')"
   ]
  },
  {
   "cell_type": "code",
   "execution_count": 18,
   "id": "17495485",
   "metadata": {},
   "outputs": [],
   "source": [
    "bost_df.amt_room=bost_df.amt_room.str.replace(' rum','')"
   ]
  },
  {
   "cell_type": "code",
   "execution_count": 19,
   "id": "7858397b",
   "metadata": {
    "scrolled": true
   },
   "outputs": [
    {
     "data": {
      "text/html": [
       "<div>\n",
       "<style scoped>\n",
       "    .dataframe tbody tr th:only-of-type {\n",
       "        vertical-align: middle;\n",
       "    }\n",
       "\n",
       "    .dataframe tbody tr th {\n",
       "        vertical-align: top;\n",
       "    }\n",
       "\n",
       "    .dataframe thead th {\n",
       "        text-align: right;\n",
       "    }\n",
       "</style>\n",
       "<table border=\"1\" class=\"dataframe\">\n",
       "  <thead>\n",
       "    <tr style=\"text-align: right;\">\n",
       "      <th></th>\n",
       "      <th>b_loc</th>\n",
       "      <th>b_price_kr</th>\n",
       "      <th>b_price_m2_kr</th>\n",
       "      <th>b_sale_rslt</th>\n",
       "      <th>b_sale_date</th>\n",
       "      <th>amt_room</th>\n",
       "      <th>kvm_m2</th>\n",
       "    </tr>\n",
       "  </thead>\n",
       "  <tbody>\n",
       "    <tr>\n",
       "      <th>0</th>\n",
       "      <td>Kärleksstigen 28</td>\n",
       "      <td>2 500 000</td>\n",
       "      <td>15 500</td>\n",
       "      <td>0.0</td>\n",
       "      <td>2022-07-15</td>\n",
       "      <td>6</td>\n",
       "      <td>161</td>\n",
       "    </tr>\n",
       "    <tr>\n",
       "      <th>1</th>\n",
       "      <td>Hagagatan 7</td>\n",
       "      <td>1 100 000</td>\n",
       "      <td>9 000</td>\n",
       "      <td>-7.9</td>\n",
       "      <td>2022-07-14</td>\n",
       "      <td>4</td>\n",
       "      <td>122</td>\n",
       "    </tr>\n",
       "    <tr>\n",
       "      <th>2</th>\n",
       "      <td>Uddabergsvägen 15</td>\n",
       "      <td>4 680 000</td>\n",
       "      <td>39 300</td>\n",
       "      <td>4.1</td>\n",
       "      <td>2022-07-13</td>\n",
       "      <td>4</td>\n",
       "      <td>119</td>\n",
       "    </tr>\n",
       "    <tr>\n",
       "      <th>3</th>\n",
       "      <td>Lerdala Åbod gatan</td>\n",
       "      <td>1 650 000</td>\n",
       "      <td>22 600</td>\n",
       "      <td>-2.1</td>\n",
       "      <td>2022-07-12</td>\n",
       "      <td>2</td>\n",
       "      <td>73</td>\n",
       "    </tr>\n",
       "    <tr>\n",
       "      <th>4</th>\n",
       "      <td>Rönnbärsvägen 21</td>\n",
       "      <td>2 300 000</td>\n",
       "      <td>14 000</td>\n",
       "      <td>4.8</td>\n",
       "      <td>2022-07-12</td>\n",
       "      <td>7</td>\n",
       "      <td>164</td>\n",
       "    </tr>\n",
       "  </tbody>\n",
       "</table>\n",
       "</div>"
      ],
      "text/plain": [
       "                b_loc b_price_kr b_price_m2_kr  b_sale_rslt b_sale_date  \\\n",
       "0    Kärleksstigen 28  2 500 000        15 500          0.0  2022-07-15   \n",
       "1         Hagagatan 7  1 100 000         9 000         -7.9  2022-07-14   \n",
       "2   Uddabergsvägen 15  4 680 000        39 300          4.1  2022-07-13   \n",
       "3  Lerdala Åbod gatan  1 650 000        22 600         -2.1  2022-07-12   \n",
       "4    Rönnbärsvägen 21  2 300 000        14 000          4.8  2022-07-12   \n",
       "\n",
       "  amt_room kvm_m2  \n",
       "0        6    161  \n",
       "1        4    122  \n",
       "2        4    119  \n",
       "3        2     73  \n",
       "4        7    164  "
      ]
     },
     "execution_count": 19,
     "metadata": {},
     "output_type": "execute_result"
    }
   ],
   "source": [
    "bost_df.head()"
   ]
  },
  {
   "cell_type": "code",
   "execution_count": 20,
   "id": "de6f65ad",
   "metadata": {
    "scrolled": true
   },
   "outputs": [],
   "source": [
    "# DENNA KANSKE MÅSTE VARA KVAR!\n",
    "#bost_df['kvm_m2']=bost_df.b_size_m2.str.split(',',expand=True)[1].str.replace(' m²','')"
   ]
  },
  {
   "cell_type": "markdown",
   "id": "3f54546d",
   "metadata": {},
   "source": [
    "### Fix Antal rum"
   ]
  },
  {
   "cell_type": "code",
   "execution_count": 21,
   "id": "012d686e",
   "metadata": {},
   "outputs": [],
   "source": [
    "bost_df['amt_room']=bost_df['amt_room'].replace('None',np.nan)"
   ]
  },
  {
   "cell_type": "code",
   "execution_count": 22,
   "id": "b0938c10",
   "metadata": {
    "scrolled": true
   },
   "outputs": [
    {
     "data": {
      "text/plain": [
       "0      6\n",
       "1      4\n",
       "2      4\n",
       "3      2\n",
       "4      7\n",
       "      ..\n",
       "156    6\n",
       "162    4\n",
       "163    6\n",
       "164    5\n",
       "173    6\n",
       "Name: amt_room, Length: 74, dtype: object"
      ]
     },
     "execution_count": 22,
     "metadata": {},
     "output_type": "execute_result"
    }
   ],
   "source": [
    "bost_df.amt_room.dropna()"
   ]
  },
  {
   "cell_type": "markdown",
   "id": "394b213b",
   "metadata": {},
   "source": [
    "Convert to integers ,\n",
    "problems to do cast to int from string"
   ]
  },
  {
   "cell_type": "code",
   "execution_count": 23,
   "id": "83dc1937",
   "metadata": {
    "scrolled": true
   },
   "outputs": [],
   "source": [
    "bost_df['amt_room']=bost_df['amt_room'].str.strip()"
   ]
  },
  {
   "cell_type": "markdown",
   "id": "93718b8b",
   "metadata": {},
   "source": [
    "Try to replace NaN to -1 istället för att kunna konvertera dessa till int"
   ]
  },
  {
   "cell_type": "code",
   "execution_count": 24,
   "id": "34010275",
   "metadata": {},
   "outputs": [],
   "source": [
    "bost_df.amt_room=bost_df.amt_room.replace(np.nan,-1)\n",
    "#bost_df.replace(np.nan, -1)"
   ]
  },
  {
   "cell_type": "code",
   "execution_count": 25,
   "id": "7c031957",
   "metadata": {},
   "outputs": [
    {
     "data": {
      "text/plain": [
       "47    6\n",
       "Name: amt_room, dtype: object"
      ]
     },
     "execution_count": 25,
     "metadata": {},
     "output_type": "execute_result"
    }
   ],
   "source": [
    "bost_df.amt_room.sample()"
   ]
  },
  {
   "cell_type": "code",
   "execution_count": 26,
   "id": "9928c6bd",
   "metadata": {},
   "outputs": [],
   "source": [
    "# make string = int \n",
    "bost_df.amt_room=bost_df.amt_room.astype('int')"
   ]
  },
  {
   "cell_type": "code",
   "execution_count": 27,
   "id": "ed509f26",
   "metadata": {
    "scrolled": false
   },
   "outputs": [
    {
     "name": "stdout",
     "output_type": "stream",
     "text": [
      "<class 'pandas.core.frame.DataFrame'>\n",
      "RangeIndex: 175 entries, 0 to 174\n",
      "Data columns (total 7 columns):\n",
      " #   Column         Non-Null Count  Dtype  \n",
      "---  ------         --------------  -----  \n",
      " 0   b_loc          175 non-null    object \n",
      " 1   b_price_kr     175 non-null    object \n",
      " 2   b_price_m2_kr  175 non-null    object \n",
      " 3   b_sale_rslt    175 non-null    float64\n",
      " 4   b_sale_date    175 non-null    object \n",
      " 5   amt_room       175 non-null    int32  \n",
      " 6   kvm_m2         175 non-null    object \n",
      "dtypes: float64(1), int32(1), object(5)\n",
      "memory usage: 9.0+ KB\n"
     ]
    }
   ],
   "source": [
    "bost_df.info()"
   ]
  },
  {
   "cell_type": "markdown",
   "id": "a10e4f04",
   "metadata": {},
   "source": [
    "problem med mellanslag i bost_pris, måste ordnas innan konvertering"
   ]
  },
  {
   "cell_type": "markdown",
   "id": "e90b6865",
   "metadata": {},
   "source": [
    "### Fix b_price_kr"
   ]
  },
  {
   "cell_type": "code",
   "execution_count": 28,
   "id": "285784ed",
   "metadata": {},
   "outputs": [],
   "source": [
    "#Remove mellanslag i b_price_kr\n",
    "bost_df['b_price_kr']=bost_df['b_price_kr'].str.strip()\n",
    "bost_df['b_price_kr']=bost_df['b_price_kr'].str.replace(' ','')"
   ]
  },
  {
   "cell_type": "code",
   "execution_count": 29,
   "id": "aa3d4732",
   "metadata": {
    "scrolled": true
   },
   "outputs": [
    {
     "data": {
      "text/plain": [
       "0      2500000\n",
       "1      1100000\n",
       "2      4680000\n",
       "3      1650000\n",
       "4      2300000\n",
       "        ...   \n",
       "170    5100000\n",
       "171    2350000\n",
       "172    2500000\n",
       "173     950000\n",
       "174    2600000\n",
       "Name: b_price_kr, Length: 175, dtype: object"
      ]
     },
     "execution_count": 29,
     "metadata": {},
     "output_type": "execute_result"
    }
   ],
   "source": [
    "bost_df['b_price_kr']"
   ]
  },
  {
   "cell_type": "code",
   "execution_count": 30,
   "id": "0391f8b8",
   "metadata": {},
   "outputs": [],
   "source": [
    "#Cast b_price_kr to int\n",
    "bost_df['b_price_kr']=bost_df['b_price_kr'].astype(int)"
   ]
  },
  {
   "cell_type": "code",
   "execution_count": 31,
   "id": "5b9db0ab",
   "metadata": {
    "scrolled": true
   },
   "outputs": [
    {
     "data": {
      "text/html": [
       "<div>\n",
       "<style scoped>\n",
       "    .dataframe tbody tr th:only-of-type {\n",
       "        vertical-align: middle;\n",
       "    }\n",
       "\n",
       "    .dataframe tbody tr th {\n",
       "        vertical-align: top;\n",
       "    }\n",
       "\n",
       "    .dataframe thead th {\n",
       "        text-align: right;\n",
       "    }\n",
       "</style>\n",
       "<table border=\"1\" class=\"dataframe\">\n",
       "  <thead>\n",
       "    <tr style=\"text-align: right;\">\n",
       "      <th></th>\n",
       "      <th>b_loc</th>\n",
       "      <th>b_price_kr</th>\n",
       "      <th>b_price_m2_kr</th>\n",
       "      <th>b_sale_rslt</th>\n",
       "      <th>b_sale_date</th>\n",
       "      <th>amt_room</th>\n",
       "      <th>kvm_m2</th>\n",
       "    </tr>\n",
       "  </thead>\n",
       "  <tbody>\n",
       "    <tr>\n",
       "      <th>0</th>\n",
       "      <td>Kärleksstigen 28</td>\n",
       "      <td>2500000</td>\n",
       "      <td>15 500</td>\n",
       "      <td>0.0</td>\n",
       "      <td>2022-07-15</td>\n",
       "      <td>6</td>\n",
       "      <td>161</td>\n",
       "    </tr>\n",
       "    <tr>\n",
       "      <th>1</th>\n",
       "      <td>Hagagatan 7</td>\n",
       "      <td>1100000</td>\n",
       "      <td>9 000</td>\n",
       "      <td>-7.9</td>\n",
       "      <td>2022-07-14</td>\n",
       "      <td>4</td>\n",
       "      <td>122</td>\n",
       "    </tr>\n",
       "    <tr>\n",
       "      <th>2</th>\n",
       "      <td>Uddabergsvägen 15</td>\n",
       "      <td>4680000</td>\n",
       "      <td>39 300</td>\n",
       "      <td>4.1</td>\n",
       "      <td>2022-07-13</td>\n",
       "      <td>4</td>\n",
       "      <td>119</td>\n",
       "    </tr>\n",
       "    <tr>\n",
       "      <th>3</th>\n",
       "      <td>Lerdala Åbod gatan</td>\n",
       "      <td>1650000</td>\n",
       "      <td>22 600</td>\n",
       "      <td>-2.1</td>\n",
       "      <td>2022-07-12</td>\n",
       "      <td>2</td>\n",
       "      <td>73</td>\n",
       "    </tr>\n",
       "    <tr>\n",
       "      <th>4</th>\n",
       "      <td>Rönnbärsvägen 21</td>\n",
       "      <td>2300000</td>\n",
       "      <td>14 000</td>\n",
       "      <td>4.8</td>\n",
       "      <td>2022-07-12</td>\n",
       "      <td>7</td>\n",
       "      <td>164</td>\n",
       "    </tr>\n",
       "  </tbody>\n",
       "</table>\n",
       "</div>"
      ],
      "text/plain": [
       "                b_loc  b_price_kr b_price_m2_kr  b_sale_rslt b_sale_date  \\\n",
       "0    Kärleksstigen 28     2500000        15 500          0.0  2022-07-15   \n",
       "1         Hagagatan 7     1100000         9 000         -7.9  2022-07-14   \n",
       "2   Uddabergsvägen 15     4680000        39 300          4.1  2022-07-13   \n",
       "3  Lerdala Åbod gatan     1650000        22 600         -2.1  2022-07-12   \n",
       "4    Rönnbärsvägen 21     2300000        14 000          4.8  2022-07-12   \n",
       "\n",
       "   amt_room kvm_m2  \n",
       "0         6    161  \n",
       "1         4    122  \n",
       "2         4    119  \n",
       "3         2     73  \n",
       "4         7    164  "
      ]
     },
     "execution_count": 31,
     "metadata": {},
     "output_type": "execute_result"
    }
   ],
   "source": [
    "bost_df.head()"
   ]
  },
  {
   "cell_type": "markdown",
   "id": "d9bc3d2e",
   "metadata": {},
   "source": [
    "### Fix datetime"
   ]
  },
  {
   "cell_type": "code",
   "execution_count": 32,
   "id": "7dcff870",
   "metadata": {
    "scrolled": true
   },
   "outputs": [],
   "source": [
    "bost_df['b_sale_date']=pd.to_datetime(bost_df['b_sale_date'])"
   ]
  },
  {
   "cell_type": "markdown",
   "id": "a2ce0cdd",
   "metadata": {},
   "source": [
    "### Fix kvm_m2"
   ]
  },
  {
   "cell_type": "code",
   "execution_count": 33,
   "id": "86a67434",
   "metadata": {
    "scrolled": true
   },
   "outputs": [],
   "source": [
    "bost_df['kvm_m2']=bost_df['kvm_m2'].str.replace('m²','')"
   ]
  },
  {
   "cell_type": "code",
   "execution_count": 34,
   "id": "d47520e1",
   "metadata": {},
   "outputs": [],
   "source": [
    "bost_df['kvm_m2']=bost_df['kvm_m2'].str.replace('½','')"
   ]
  },
  {
   "cell_type": "code",
   "execution_count": 35,
   "id": "59b665fa",
   "metadata": {},
   "outputs": [
    {
     "data": {
      "text/plain": [
       "143     72\n",
       "Name: kvm_m2, dtype: object"
      ]
     },
     "execution_count": 35,
     "metadata": {},
     "output_type": "execute_result"
    }
   ],
   "source": [
    "bost_df['kvm_m2'].sample()"
   ]
  },
  {
   "cell_type": "code",
   "execution_count": 36,
   "id": "65219fbc",
   "metadata": {
    "scrolled": true
   },
   "outputs": [],
   "source": [
    "bost_df['kvm_m2']=bost_df['kvm_m2'].astype(int)"
   ]
  },
  {
   "cell_type": "code",
   "execution_count": 37,
   "id": "ccd03129",
   "metadata": {
    "scrolled": true
   },
   "outputs": [
    {
     "name": "stdout",
     "output_type": "stream",
     "text": [
      "<class 'pandas.core.frame.DataFrame'>\n",
      "RangeIndex: 175 entries, 0 to 174\n",
      "Data columns (total 7 columns):\n",
      " #   Column         Non-Null Count  Dtype         \n",
      "---  ------         --------------  -----         \n",
      " 0   b_loc          175 non-null    object        \n",
      " 1   b_price_kr     175 non-null    int32         \n",
      " 2   b_price_m2_kr  175 non-null    object        \n",
      " 3   b_sale_rslt    175 non-null    float64       \n",
      " 4   b_sale_date    175 non-null    datetime64[ns]\n",
      " 5   amt_room       175 non-null    int32         \n",
      " 6   kvm_m2         175 non-null    int32         \n",
      "dtypes: datetime64[ns](1), float64(1), int32(3), object(2)\n",
      "memory usage: 7.6+ KB\n"
     ]
    }
   ],
   "source": [
    "bost_df.info()"
   ]
  },
  {
   "cell_type": "code",
   "execution_count": 38,
   "id": "e1bbd58b",
   "metadata": {},
   "outputs": [],
   "source": [
    "#remove blanks\n",
    "bost_df['b_price_m2_kr']=bost_df['b_price_m2_kr'].str.replace(' ','')"
   ]
  },
  {
   "cell_type": "code",
   "execution_count": 39,
   "id": "a6d65340",
   "metadata": {},
   "outputs": [],
   "source": [
    "bost_df['kvm_m2']=bost_df['kvm_m2'].astype(int)\n",
    "##bost_df['kv_m']=bost_df['kv_m'].str.extractall('(\\d+)').unstack().astype(int)"
   ]
  },
  {
   "cell_type": "code",
   "execution_count": 40,
   "id": "afbe08f3",
   "metadata": {},
   "outputs": [],
   "source": [
    "bost_df['b_price_m2_kr']=bost_df['b_price_m2_kr'].astype(int)"
   ]
  },
  {
   "cell_type": "code",
   "execution_count": 41,
   "id": "b3f624c8",
   "metadata": {
    "scrolled": false
   },
   "outputs": [
    {
     "data": {
      "text/plain": [
       "b_loc                    object\n",
       "b_price_kr                int32\n",
       "b_price_m2_kr             int32\n",
       "b_sale_rslt             float64\n",
       "b_sale_date      datetime64[ns]\n",
       "amt_room                  int32\n",
       "kvm_m2                    int32\n",
       "dtype: object"
      ]
     },
     "execution_count": 41,
     "metadata": {},
     "output_type": "execute_result"
    }
   ],
   "source": [
    "bost_df.dtypes"
   ]
  },
  {
   "cell_type": "code",
   "execution_count": 42,
   "id": "81fc369c",
   "metadata": {
    "scrolled": false
   },
   "outputs": [
    {
     "data": {
      "text/html": [
       "<div>\n",
       "<style scoped>\n",
       "    .dataframe tbody tr th:only-of-type {\n",
       "        vertical-align: middle;\n",
       "    }\n",
       "\n",
       "    .dataframe tbody tr th {\n",
       "        vertical-align: top;\n",
       "    }\n",
       "\n",
       "    .dataframe thead th {\n",
       "        text-align: right;\n",
       "    }\n",
       "</style>\n",
       "<table border=\"1\" class=\"dataframe\">\n",
       "  <thead>\n",
       "    <tr style=\"text-align: right;\">\n",
       "      <th></th>\n",
       "      <th>b_loc</th>\n",
       "      <th>b_price_kr</th>\n",
       "      <th>b_price_m2_kr</th>\n",
       "      <th>b_sale_rslt</th>\n",
       "      <th>b_sale_date</th>\n",
       "      <th>amt_room</th>\n",
       "      <th>kvm_m2</th>\n",
       "    </tr>\n",
       "  </thead>\n",
       "  <tbody>\n",
       "    <tr>\n",
       "      <th>0</th>\n",
       "      <td>Kärleksstigen 28</td>\n",
       "      <td>2500000</td>\n",
       "      <td>15500</td>\n",
       "      <td>0.0</td>\n",
       "      <td>2022-07-15</td>\n",
       "      <td>6</td>\n",
       "      <td>161</td>\n",
       "    </tr>\n",
       "    <tr>\n",
       "      <th>1</th>\n",
       "      <td>Hagagatan 7</td>\n",
       "      <td>1100000</td>\n",
       "      <td>9000</td>\n",
       "      <td>-7.9</td>\n",
       "      <td>2022-07-14</td>\n",
       "      <td>4</td>\n",
       "      <td>122</td>\n",
       "    </tr>\n",
       "    <tr>\n",
       "      <th>2</th>\n",
       "      <td>Uddabergsvägen 15</td>\n",
       "      <td>4680000</td>\n",
       "      <td>39300</td>\n",
       "      <td>4.1</td>\n",
       "      <td>2022-07-13</td>\n",
       "      <td>4</td>\n",
       "      <td>119</td>\n",
       "    </tr>\n",
       "  </tbody>\n",
       "</table>\n",
       "</div>"
      ],
      "text/plain": [
       "               b_loc  b_price_kr  b_price_m2_kr  b_sale_rslt b_sale_date  \\\n",
       "0   Kärleksstigen 28     2500000          15500          0.0  2022-07-15   \n",
       "1        Hagagatan 7     1100000           9000         -7.9  2022-07-14   \n",
       "2  Uddabergsvägen 15     4680000          39300          4.1  2022-07-13   \n",
       "\n",
       "   amt_room  kvm_m2  \n",
       "0         6     161  \n",
       "1         4     122  \n",
       "2         4     119  "
      ]
     },
     "execution_count": 42,
     "metadata": {},
     "output_type": "execute_result"
    }
   ],
   "source": [
    "bost_df.head(3)"
   ]
  },
  {
   "cell_type": "markdown",
   "id": "eb6b6c63",
   "metadata": {},
   "source": [
    "#### Save finished wrangled file to new CSV\n",
    "## Move this line below , when all is finished"
   ]
  },
  {
   "cell_type": "code",
   "execution_count": 43,
   "id": "7acbc8a6",
   "metadata": {},
   "outputs": [],
   "source": [
    "now=datetime.now()\n",
    "dt=now.strftime(\"%Y_%m_%d\")\n",
    "bost_df.to_csv(f'wrangled_bost_p{dt}.csv',sep=',',encoding='utf-8')"
   ]
  },
  {
   "cell_type": "code",
   "execution_count": 44,
   "id": "78c5c895",
   "metadata": {},
   "outputs": [],
   "source": [
    "#### Beräkna utgångspriset på fastigheten\n",
    "# enligt rutan nedan kan man inte använda procent talet direkt utan måste konvertera detta först så att det passar beräkningen."
   ]
  },
  {
   "cell_type": "code",
   "execution_count": 45,
   "id": "acc4f14f",
   "metadata": {},
   "outputs": [],
   "source": [
    "#make column ack_calk_res\n",
    "bost_df['ack_calc_res']=bost_df['b_sale_rslt']*0.01"
   ]
  },
  {
   "cell_type": "code",
   "execution_count": 46,
   "id": "d5a50a82",
   "metadata": {},
   "outputs": [
    {
     "data": {
      "text/html": [
       "<div>\n",
       "<style scoped>\n",
       "    .dataframe tbody tr th:only-of-type {\n",
       "        vertical-align: middle;\n",
       "    }\n",
       "\n",
       "    .dataframe tbody tr th {\n",
       "        vertical-align: top;\n",
       "    }\n",
       "\n",
       "    .dataframe thead th {\n",
       "        text-align: right;\n",
       "    }\n",
       "</style>\n",
       "<table border=\"1\" class=\"dataframe\">\n",
       "  <thead>\n",
       "    <tr style=\"text-align: right;\">\n",
       "      <th></th>\n",
       "      <th>b_loc</th>\n",
       "      <th>b_price_kr</th>\n",
       "      <th>b_price_m2_kr</th>\n",
       "      <th>b_sale_rslt</th>\n",
       "      <th>b_sale_date</th>\n",
       "      <th>amt_room</th>\n",
       "      <th>kvm_m2</th>\n",
       "      <th>ack_calc_res</th>\n",
       "    </tr>\n",
       "  </thead>\n",
       "  <tbody>\n",
       "    <tr>\n",
       "      <th>0</th>\n",
       "      <td>Kärleksstigen 28</td>\n",
       "      <td>2500000</td>\n",
       "      <td>15500</td>\n",
       "      <td>0.0</td>\n",
       "      <td>2022-07-15</td>\n",
       "      <td>6</td>\n",
       "      <td>161</td>\n",
       "      <td>0.000</td>\n",
       "    </tr>\n",
       "    <tr>\n",
       "      <th>1</th>\n",
       "      <td>Hagagatan 7</td>\n",
       "      <td>1100000</td>\n",
       "      <td>9000</td>\n",
       "      <td>-7.9</td>\n",
       "      <td>2022-07-14</td>\n",
       "      <td>4</td>\n",
       "      <td>122</td>\n",
       "      <td>-0.079</td>\n",
       "    </tr>\n",
       "    <tr>\n",
       "      <th>2</th>\n",
       "      <td>Uddabergsvägen 15</td>\n",
       "      <td>4680000</td>\n",
       "      <td>39300</td>\n",
       "      <td>4.1</td>\n",
       "      <td>2022-07-13</td>\n",
       "      <td>4</td>\n",
       "      <td>119</td>\n",
       "      <td>0.041</td>\n",
       "    </tr>\n",
       "    <tr>\n",
       "      <th>3</th>\n",
       "      <td>Lerdala Åbod gatan</td>\n",
       "      <td>1650000</td>\n",
       "      <td>22600</td>\n",
       "      <td>-2.1</td>\n",
       "      <td>2022-07-12</td>\n",
       "      <td>2</td>\n",
       "      <td>73</td>\n",
       "      <td>-0.021</td>\n",
       "    </tr>\n",
       "    <tr>\n",
       "      <th>4</th>\n",
       "      <td>Rönnbärsvägen 21</td>\n",
       "      <td>2300000</td>\n",
       "      <td>14000</td>\n",
       "      <td>4.8</td>\n",
       "      <td>2022-07-12</td>\n",
       "      <td>7</td>\n",
       "      <td>164</td>\n",
       "      <td>0.048</td>\n",
       "    </tr>\n",
       "  </tbody>\n",
       "</table>\n",
       "</div>"
      ],
      "text/plain": [
       "                b_loc  b_price_kr  b_price_m2_kr  b_sale_rslt b_sale_date  \\\n",
       "0    Kärleksstigen 28     2500000          15500          0.0  2022-07-15   \n",
       "1         Hagagatan 7     1100000           9000         -7.9  2022-07-14   \n",
       "2   Uddabergsvägen 15     4680000          39300          4.1  2022-07-13   \n",
       "3  Lerdala Åbod gatan     1650000          22600         -2.1  2022-07-12   \n",
       "4    Rönnbärsvägen 21     2300000          14000          4.8  2022-07-12   \n",
       "\n",
       "   amt_room  kvm_m2  ack_calc_res  \n",
       "0         6     161         0.000  \n",
       "1         4     122        -0.079  \n",
       "2         4     119         0.041  \n",
       "3         2      73        -0.021  \n",
       "4         7     164         0.048  "
      ]
     },
     "execution_count": 46,
     "metadata": {},
     "output_type": "execute_result"
    }
   ],
   "source": [
    "bost_df.head()\n"
   ]
  },
  {
   "cell_type": "markdown",
   "id": "12394d90",
   "metadata": {},
   "source": [
    "#### calculate the starting price for houses "
   ]
  },
  {
   "cell_type": "code",
   "execution_count": 47,
   "id": "25feb14a",
   "metadata": {},
   "outputs": [],
   "source": [
    "for item in bost_df.ack_calc_res:\n",
    "    \n",
    "    if item < 0:\n",
    "        bost_df['starting_price']=(bost_df.b_price_kr/(1-bost_df.ack_calc_res)).round()\n",
    "    else:\n",
    "        bost_df['starting_price']=(bost_df.b_price_kr / (1+bost_df.ack_calc_res))\n",
    "        "
   ]
  },
  {
   "cell_type": "code",
   "execution_count": 48,
   "id": "4684a0d3",
   "metadata": {
    "scrolled": false
   },
   "outputs": [
    {
     "data": {
      "text/plain": [
       "0      2500000\n",
       "1      1194353\n",
       "2      4495677\n",
       "3      1685393\n",
       "4      2194656\n",
       "        ...   \n",
       "170    4501323\n",
       "171    1644506\n",
       "172    2495009\n",
       "173     950000\n",
       "174    2394106\n",
       "Name: starting_price, Length: 175, dtype: int32"
      ]
     },
     "execution_count": 48,
     "metadata": {},
     "output_type": "execute_result"
    }
   ],
   "source": [
    "bost_df.starting_price.astype(int)"
   ]
  },
  {
   "cell_type": "code",
   "execution_count": 49,
   "id": "af456be0",
   "metadata": {
    "scrolled": false
   },
   "outputs": [
    {
     "data": {
      "text/html": [
       "<div>\n",
       "<style scoped>\n",
       "    .dataframe tbody tr th:only-of-type {\n",
       "        vertical-align: middle;\n",
       "    }\n",
       "\n",
       "    .dataframe tbody tr th {\n",
       "        vertical-align: top;\n",
       "    }\n",
       "\n",
       "    .dataframe thead th {\n",
       "        text-align: right;\n",
       "    }\n",
       "</style>\n",
       "<table border=\"1\" class=\"dataframe\">\n",
       "  <thead>\n",
       "    <tr style=\"text-align: right;\">\n",
       "      <th></th>\n",
       "      <th>b_loc</th>\n",
       "      <th>b_price_kr</th>\n",
       "      <th>b_price_m2_kr</th>\n",
       "      <th>b_sale_rslt</th>\n",
       "      <th>b_sale_date</th>\n",
       "      <th>amt_room</th>\n",
       "      <th>kvm_m2</th>\n",
       "      <th>ack_calc_res</th>\n",
       "      <th>starting_price</th>\n",
       "    </tr>\n",
       "  </thead>\n",
       "  <tbody>\n",
       "    <tr>\n",
       "      <th>0</th>\n",
       "      <td>Kärleksstigen 28</td>\n",
       "      <td>2500000</td>\n",
       "      <td>15500</td>\n",
       "      <td>0.0</td>\n",
       "      <td>2022-07-15</td>\n",
       "      <td>6</td>\n",
       "      <td>161</td>\n",
       "      <td>0.000</td>\n",
       "      <td>2.500000e+06</td>\n",
       "    </tr>\n",
       "    <tr>\n",
       "      <th>1</th>\n",
       "      <td>Hagagatan 7</td>\n",
       "      <td>1100000</td>\n",
       "      <td>9000</td>\n",
       "      <td>-7.9</td>\n",
       "      <td>2022-07-14</td>\n",
       "      <td>4</td>\n",
       "      <td>122</td>\n",
       "      <td>-0.079</td>\n",
       "      <td>1.194354e+06</td>\n",
       "    </tr>\n",
       "    <tr>\n",
       "      <th>2</th>\n",
       "      <td>Uddabergsvägen 15</td>\n",
       "      <td>4680000</td>\n",
       "      <td>39300</td>\n",
       "      <td>4.1</td>\n",
       "      <td>2022-07-13</td>\n",
       "      <td>4</td>\n",
       "      <td>119</td>\n",
       "      <td>0.041</td>\n",
       "      <td>4.495677e+06</td>\n",
       "    </tr>\n",
       "  </tbody>\n",
       "</table>\n",
       "</div>"
      ],
      "text/plain": [
       "               b_loc  b_price_kr  b_price_m2_kr  b_sale_rslt b_sale_date  \\\n",
       "0   Kärleksstigen 28     2500000          15500          0.0  2022-07-15   \n",
       "1        Hagagatan 7     1100000           9000         -7.9  2022-07-14   \n",
       "2  Uddabergsvägen 15     4680000          39300          4.1  2022-07-13   \n",
       "\n",
       "   amt_room  kvm_m2  ack_calc_res  starting_price  \n",
       "0         6     161         0.000    2.500000e+06  \n",
       "1         4     122        -0.079    1.194354e+06  \n",
       "2         4     119         0.041    4.495677e+06  "
      ]
     },
     "execution_count": 49,
     "metadata": {},
     "output_type": "execute_result"
    }
   ],
   "source": [
    "bost_df.head(3)"
   ]
  },
  {
   "cell_type": "code",
   "execution_count": 50,
   "id": "5c352206",
   "metadata": {},
   "outputs": [
    {
     "data": {
      "text/html": [
       "<div>\n",
       "<style scoped>\n",
       "    .dataframe tbody tr th:only-of-type {\n",
       "        vertical-align: middle;\n",
       "    }\n",
       "\n",
       "    .dataframe tbody tr th {\n",
       "        vertical-align: top;\n",
       "    }\n",
       "\n",
       "    .dataframe thead th {\n",
       "        text-align: right;\n",
       "    }\n",
       "</style>\n",
       "<table border=\"1\" class=\"dataframe\">\n",
       "  <thead>\n",
       "    <tr style=\"text-align: right;\">\n",
       "      <th></th>\n",
       "      <th>b_loc</th>\n",
       "      <th>b_price_kr</th>\n",
       "      <th>b_price_m2_kr</th>\n",
       "      <th>b_sale_rslt</th>\n",
       "      <th>b_sale_date</th>\n",
       "      <th>amt_room</th>\n",
       "      <th>kvm_m2</th>\n",
       "      <th>ack_calc_res</th>\n",
       "      <th>starting_price</th>\n",
       "    </tr>\n",
       "  </thead>\n",
       "  <tbody>\n",
       "    <tr>\n",
       "      <th>53</th>\n",
       "      <td>Fredriksbergsvägen 43</td>\n",
       "      <td>2200000</td>\n",
       "      <td>20600</td>\n",
       "      <td>12.8</td>\n",
       "      <td>2022-05-27</td>\n",
       "      <td>5</td>\n",
       "      <td>107</td>\n",
       "      <td>0.128</td>\n",
       "      <td>1.950355e+06</td>\n",
       "    </tr>\n",
       "    <tr>\n",
       "      <th>112</th>\n",
       "      <td>Smedjevägen 10</td>\n",
       "      <td>4100000</td>\n",
       "      <td>34700</td>\n",
       "      <td>-3.0</td>\n",
       "      <td>2022-03-28</td>\n",
       "      <td>5</td>\n",
       "      <td>118</td>\n",
       "      <td>-0.030</td>\n",
       "      <td>4.226804e+06</td>\n",
       "    </tr>\n",
       "    <tr>\n",
       "      <th>126</th>\n",
       "      <td>Egnahemsvägen 19</td>\n",
       "      <td>4620000</td>\n",
       "      <td>34200</td>\n",
       "      <td>-3.0</td>\n",
       "      <td>2022-03-10</td>\n",
       "      <td>-1</td>\n",
       "      <td>135</td>\n",
       "      <td>-0.030</td>\n",
       "      <td>4.762887e+06</td>\n",
       "    </tr>\n",
       "    <tr>\n",
       "      <th>57</th>\n",
       "      <td>Talgoxevägen 15</td>\n",
       "      <td>5775000</td>\n",
       "      <td>24400</td>\n",
       "      <td>-2.9</td>\n",
       "      <td>2022-05-24</td>\n",
       "      <td>-1</td>\n",
       "      <td>237</td>\n",
       "      <td>-0.029</td>\n",
       "      <td>5.947477e+06</td>\n",
       "    </tr>\n",
       "    <tr>\n",
       "      <th>10</th>\n",
       "      <td>Mariestadsvägen 1</td>\n",
       "      <td>2850000</td>\n",
       "      <td>16800</td>\n",
       "      <td>0.0</td>\n",
       "      <td>2022-07-05</td>\n",
       "      <td>8</td>\n",
       "      <td>170</td>\n",
       "      <td>0.000</td>\n",
       "      <td>2.850000e+06</td>\n",
       "    </tr>\n",
       "    <tr>\n",
       "      <th>108</th>\n",
       "      <td>Kamomillvägen 12</td>\n",
       "      <td>4450000</td>\n",
       "      <td>29300</td>\n",
       "      <td>-3.0</td>\n",
       "      <td>2022-03-31</td>\n",
       "      <td>5</td>\n",
       "      <td>152</td>\n",
       "      <td>-0.030</td>\n",
       "      <td>4.587629e+06</td>\n",
       "    </tr>\n",
       "    <tr>\n",
       "      <th>107</th>\n",
       "      <td>Duvstigen 3</td>\n",
       "      <td>4050000</td>\n",
       "      <td>31600</td>\n",
       "      <td>8.0</td>\n",
       "      <td>2022-03-31</td>\n",
       "      <td>5</td>\n",
       "      <td>128</td>\n",
       "      <td>0.080</td>\n",
       "      <td>3.750000e+06</td>\n",
       "    </tr>\n",
       "    <tr>\n",
       "      <th>38</th>\n",
       "      <td>Sörgårdsvägen 45</td>\n",
       "      <td>615000</td>\n",
       "      <td>6500</td>\n",
       "      <td>12.8</td>\n",
       "      <td>2022-06-07</td>\n",
       "      <td>4</td>\n",
       "      <td>94</td>\n",
       "      <td>0.128</td>\n",
       "      <td>5.452128e+05</td>\n",
       "    </tr>\n",
       "    <tr>\n",
       "      <th>48</th>\n",
       "      <td>Segerstorpsvägen 20</td>\n",
       "      <td>3800000</td>\n",
       "      <td>24800</td>\n",
       "      <td>8.7</td>\n",
       "      <td>2022-05-31</td>\n",
       "      <td>-1</td>\n",
       "      <td>153</td>\n",
       "      <td>0.087</td>\n",
       "      <td>3.495860e+06</td>\n",
       "    </tr>\n",
       "    <tr>\n",
       "      <th>49</th>\n",
       "      <td>Vråkvägen 3</td>\n",
       "      <td>4700000</td>\n",
       "      <td>32200</td>\n",
       "      <td>0.0</td>\n",
       "      <td>2022-05-31</td>\n",
       "      <td>-1</td>\n",
       "      <td>146</td>\n",
       "      <td>0.000</td>\n",
       "      <td>4.700000e+06</td>\n",
       "    </tr>\n",
       "  </tbody>\n",
       "</table>\n",
       "</div>"
      ],
      "text/plain": [
       "                     b_loc  b_price_kr  b_price_m2_kr  b_sale_rslt  \\\n",
       "53   Fredriksbergsvägen 43     2200000          20600         12.8   \n",
       "112         Smedjevägen 10     4100000          34700         -3.0   \n",
       "126       Egnahemsvägen 19     4620000          34200         -3.0   \n",
       "57         Talgoxevägen 15     5775000          24400         -2.9   \n",
       "10       Mariestadsvägen 1     2850000          16800          0.0   \n",
       "108       Kamomillvägen 12     4450000          29300         -3.0   \n",
       "107            Duvstigen 3     4050000          31600          8.0   \n",
       "38        Sörgårdsvägen 45      615000           6500         12.8   \n",
       "48     Segerstorpsvägen 20     3800000          24800          8.7   \n",
       "49             Vråkvägen 3     4700000          32200          0.0   \n",
       "\n",
       "    b_sale_date  amt_room  kvm_m2  ack_calc_res  starting_price  \n",
       "53   2022-05-27         5     107         0.128    1.950355e+06  \n",
       "112  2022-03-28         5     118        -0.030    4.226804e+06  \n",
       "126  2022-03-10        -1     135        -0.030    4.762887e+06  \n",
       "57   2022-05-24        -1     237        -0.029    5.947477e+06  \n",
       "10   2022-07-05         8     170         0.000    2.850000e+06  \n",
       "108  2022-03-31         5     152        -0.030    4.587629e+06  \n",
       "107  2022-03-31         5     128         0.080    3.750000e+06  \n",
       "38   2022-06-07         4      94         0.128    5.452128e+05  \n",
       "48   2022-05-31        -1     153         0.087    3.495860e+06  \n",
       "49   2022-05-31        -1     146         0.000    4.700000e+06  "
      ]
     },
     "execution_count": 50,
     "metadata": {},
     "output_type": "execute_result"
    }
   ],
   "source": [
    "bost_df.sample(10)"
   ]
  },
  {
   "cell_type": "markdown",
   "id": "6975a91c",
   "metadata": {},
   "source": [
    "## ANALYSE"
   ]
  },
  {
   "cell_type": "markdown",
   "id": "9fd2ce65",
   "metadata": {},
   "source": [
    "#### Hur många av husen som sålts senaste perioden har varit + - 0 "
   ]
  },
  {
   "cell_type": "markdown",
   "id": "667d14eb",
   "metadata": {},
   "source": [
    "####  Data:\n",
    "- Totalt antal objekt : 176\n",
    "- Antal hus som gått +\n",
    "- Antal hus som gått -\n",
    "- Antal hus som +-0\n",
    "\n",
    "\n"
   ]
  },
  {
   "cell_type": "code",
   "execution_count": 51,
   "id": "bead2dcd",
   "metadata": {},
   "outputs": [
    {
     "data": {
      "text/plain": [
       "RangeIndex(start=0, stop=175, step=1)"
      ]
     },
     "execution_count": 51,
     "metadata": {},
     "output_type": "execute_result"
    }
   ],
   "source": [
    "bost_df.index"
   ]
  },
  {
   "cell_type": "code",
   "execution_count": 52,
   "id": "8d76582b",
   "metadata": {},
   "outputs": [],
   "source": [
    "# fråga: Hur många hus har - ack_res\n",
    "p_less=0\n",
    "p_grt=0\n",
    "p_no_chg=0\n",
    "for item in bost_df.ack_calc_res:\n",
    "    if item == 0:\n",
    "        p_no_chg+=1\n",
    "    elif item < 0:\n",
    "        p_less+=1\n",
    "    elif item > 0:\n",
    "        p_grt+=1\n",
    "        \n",
    "        "
   ]
  },
  {
   "cell_type": "code",
   "execution_count": 53,
   "id": "e11b0c69",
   "metadata": {
    "scrolled": true
   },
   "outputs": [
    {
     "data": {
      "text/plain": [
       "(82, 77, 16)"
      ]
     },
     "execution_count": 53,
     "metadata": {},
     "output_type": "execute_result"
    }
   ],
   "source": [
    "p_grt,p_less,p_no_chg"
   ]
  },
  {
   "cell_type": "code",
   "execution_count": 54,
   "id": "484ed490",
   "metadata": {
    "scrolled": true
   },
   "outputs": [
    {
     "data": {
      "text/plain": [
       "175"
      ]
     },
     "execution_count": 54,
     "metadata": {},
     "output_type": "execute_result"
    }
   ],
   "source": [
    "p_grt+p_less+p_no_chg"
   ]
  },
  {
   "cell_type": "code",
   "execution_count": 55,
   "id": "40dd751c",
   "metadata": {
    "scrolled": false
   },
   "outputs": [
    {
     "data": {
      "text/plain": [
       "-1    101\n",
       " 6     19\n",
       " 5     19\n",
       " 4     18\n",
       " 7     10\n",
       " 8      3\n",
       " 3      3\n",
       " 2      2\n",
       "Name: amt_room, dtype: int64"
      ]
     },
     "execution_count": 55,
     "metadata": {},
     "output_type": "execute_result"
    }
   ],
   "source": [
    "bost_df.amt_room.value_counts()"
   ]
  },
  {
   "cell_type": "code",
   "execution_count": 56,
   "id": "a1fa4b5a",
   "metadata": {
    "scrolled": false
   },
   "outputs": [
    {
     "data": {
      "text/html": [
       "<div>\n",
       "<style scoped>\n",
       "    .dataframe tbody tr th:only-of-type {\n",
       "        vertical-align: middle;\n",
       "    }\n",
       "\n",
       "    .dataframe tbody tr th {\n",
       "        vertical-align: top;\n",
       "    }\n",
       "\n",
       "    .dataframe thead th {\n",
       "        text-align: right;\n",
       "    }\n",
       "</style>\n",
       "<table border=\"1\" class=\"dataframe\">\n",
       "  <thead>\n",
       "    <tr style=\"text-align: right;\">\n",
       "      <th></th>\n",
       "      <th>b_price_kr</th>\n",
       "      <th>b_price_m2_kr</th>\n",
       "      <th>b_sale_rslt</th>\n",
       "      <th>amt_room</th>\n",
       "      <th>kvm_m2</th>\n",
       "      <th>ack_calc_res</th>\n",
       "      <th>starting_price</th>\n",
       "    </tr>\n",
       "  </thead>\n",
       "  <tbody>\n",
       "    <tr>\n",
       "      <th>count</th>\n",
       "      <td>1.750000e+02</td>\n",
       "      <td>175.000000</td>\n",
       "      <td>175.000000</td>\n",
       "      <td>175.000000</td>\n",
       "      <td>175.000000</td>\n",
       "      <td>175.000000</td>\n",
       "      <td>1.750000e+02</td>\n",
       "    </tr>\n",
       "    <tr>\n",
       "      <th>mean</th>\n",
       "      <td>3.578571e+06</td>\n",
       "      <td>27172.000000</td>\n",
       "      <td>3.477714</td>\n",
       "      <td>1.640000</td>\n",
       "      <td>134.937143</td>\n",
       "      <td>0.034777</td>\n",
       "      <td>3.470637e+06</td>\n",
       "    </tr>\n",
       "    <tr>\n",
       "      <th>std</th>\n",
       "      <td>1.521723e+06</td>\n",
       "      <td>10517.902855</td>\n",
       "      <td>11.136820</td>\n",
       "      <td>3.211259</td>\n",
       "      <td>40.970013</td>\n",
       "      <td>0.111368</td>\n",
       "      <td>1.464678e+06</td>\n",
       "    </tr>\n",
       "    <tr>\n",
       "      <th>min</th>\n",
       "      <td>2.500000e+05</td>\n",
       "      <td>2900.000000</td>\n",
       "      <td>-23.600000</td>\n",
       "      <td>-1.000000</td>\n",
       "      <td>36.000000</td>\n",
       "      <td>-0.236000</td>\n",
       "      <td>2.604167e+05</td>\n",
       "    </tr>\n",
       "    <tr>\n",
       "      <th>25%</th>\n",
       "      <td>2.500000e+06</td>\n",
       "      <td>20600.000000</td>\n",
       "      <td>-4.000000</td>\n",
       "      <td>-1.000000</td>\n",
       "      <td>106.500000</td>\n",
       "      <td>-0.040000</td>\n",
       "      <td>2.408840e+06</td>\n",
       "    </tr>\n",
       "    <tr>\n",
       "      <th>50%</th>\n",
       "      <td>3.550000e+06</td>\n",
       "      <td>27700.000000</td>\n",
       "      <td>0.000000</td>\n",
       "      <td>-1.000000</td>\n",
       "      <td>130.000000</td>\n",
       "      <td>0.000000</td>\n",
       "      <td>3.495763e+06</td>\n",
       "    </tr>\n",
       "    <tr>\n",
       "      <th>75%</th>\n",
       "      <td>4.500000e+06</td>\n",
       "      <td>34100.000000</td>\n",
       "      <td>9.800000</td>\n",
       "      <td>5.000000</td>\n",
       "      <td>161.000000</td>\n",
       "      <td>0.098000</td>\n",
       "      <td>4.461947e+06</td>\n",
       "    </tr>\n",
       "    <tr>\n",
       "      <th>max</th>\n",
       "      <td>7.650000e+06</td>\n",
       "      <td>81300.000000</td>\n",
       "      <td>43.300000</td>\n",
       "      <td>8.000000</td>\n",
       "      <td>260.000000</td>\n",
       "      <td>0.433000</td>\n",
       "      <td>7.782299e+06</td>\n",
       "    </tr>\n",
       "  </tbody>\n",
       "</table>\n",
       "</div>"
      ],
      "text/plain": [
       "         b_price_kr  b_price_m2_kr  b_sale_rslt    amt_room      kvm_m2  \\\n",
       "count  1.750000e+02     175.000000   175.000000  175.000000  175.000000   \n",
       "mean   3.578571e+06   27172.000000     3.477714    1.640000  134.937143   \n",
       "std    1.521723e+06   10517.902855    11.136820    3.211259   40.970013   \n",
       "min    2.500000e+05    2900.000000   -23.600000   -1.000000   36.000000   \n",
       "25%    2.500000e+06   20600.000000    -4.000000   -1.000000  106.500000   \n",
       "50%    3.550000e+06   27700.000000     0.000000   -1.000000  130.000000   \n",
       "75%    4.500000e+06   34100.000000     9.800000    5.000000  161.000000   \n",
       "max    7.650000e+06   81300.000000    43.300000    8.000000  260.000000   \n",
       "\n",
       "       ack_calc_res  starting_price  \n",
       "count    175.000000    1.750000e+02  \n",
       "mean       0.034777    3.470637e+06  \n",
       "std        0.111368    1.464678e+06  \n",
       "min       -0.236000    2.604167e+05  \n",
       "25%       -0.040000    2.408840e+06  \n",
       "50%        0.000000    3.495763e+06  \n",
       "75%        0.098000    4.461947e+06  \n",
       "max        0.433000    7.782299e+06  "
      ]
     },
     "execution_count": 56,
     "metadata": {},
     "output_type": "execute_result"
    }
   ],
   "source": [
    "bost_df.describe()"
   ]
  },
  {
   "cell_type": "code",
   "execution_count": 57,
   "id": "0039b22e",
   "metadata": {},
   "outputs": [
    {
     "data": {
      "text/plain": [
       "134.93714285714285"
      ]
     },
     "execution_count": 57,
     "metadata": {},
     "output_type": "execute_result"
    }
   ],
   "source": [
    "bost_df.kvm_m2.mean()"
   ]
  },
  {
   "cell_type": "code",
   "execution_count": 58,
   "id": "02b5d1c3",
   "metadata": {},
   "outputs": [],
   "source": [
    "num_bye=bost_df.shape[0]"
   ]
  },
  {
   "cell_type": "code",
   "execution_count": 59,
   "id": "78c06bd1",
   "metadata": {},
   "outputs": [],
   "source": [
    "#Fråga : alla + vals i en kolumn\n",
    "big_profit_sales=bost_df.loc[(bost_df['ack_calc_res'] > 0) & (bost_df['b_sale_date'] < '2022-04-01' )] # & (bost_df['ant_rum'] > 1)\n",
    "zero_profit_sales=bost_df.loc[(bost_df['ack_calc_res'] == 0) & (bost_df['b_sale_date'] < '2022-04-01' )]# & (bost_df['ant_rum'] > 1)\n",
    "low_profit_sales=bost_df.loc[(bost_df['ack_calc_res'] < 0) & (bost_df['b_sale_date'] < '2022-04-01' )] #& (bost_df['ant_rum'] > 1)\n",
    "#mrg_df_clean.loc[mrg_df_clean['prediction_dog_breed']=='golden_retriever']"
   ]
  },
  {
   "cell_type": "code",
   "execution_count": 60,
   "id": "01f66df6",
   "metadata": {},
   "outputs": [],
   "source": [
    "#Fråga : alla + vals i en kolumn\n",
    "big_prof_last=bost_df.loc[(bost_df['ack_calc_res'] > 0) & (bost_df['b_sale_date'] >= '2022-04-01' )] # & (bost_df['ant_rum'] > 1)\n",
    "zero_prof_last=bost_df.loc[(bost_df['ack_calc_res'] == 0) & (bost_df['b_sale_date'] >= '2022-04-01' )]# & (bost_df['ant_rum'] > 1)\n",
    "low_prof_last=bost_df.loc[(bost_df['ack_calc_res'] < 0) & (bost_df['b_sale_date'] >= '2022-04-01' )] #& (bost_df['ant_rum'] > 1)\n",
    "allb_data_early=bost_df.loc[(bost_df['b_sale_date'] < '2022-04-01' )]\n",
    "allb_data_late=bost_df.loc[(bost_df['b_sale_date'] >= '2022-04-01' )]"
   ]
  },
  {
   "cell_type": "code",
   "execution_count": 61,
   "id": "8ae56919",
   "metadata": {},
   "outputs": [
    {
     "data": {
      "text/plain": [
       "(44, 9)"
      ]
     },
     "execution_count": 61,
     "metadata": {},
     "output_type": "execute_result"
    }
   ],
   "source": [
    "big_prof_last.shape"
   ]
  },
  {
   "cell_type": "code",
   "execution_count": 62,
   "id": "8b36a0df",
   "metadata": {},
   "outputs": [
    {
     "data": {
      "text/plain": [
       "38"
      ]
     },
     "execution_count": 62,
     "metadata": {},
     "output_type": "execute_result"
    }
   ],
   "source": [
    "#How many big profit sales ?\n",
    "big_profit_sales.shape[0]"
   ]
  },
  {
   "cell_type": "code",
   "execution_count": 63,
   "id": "2c4c1af9",
   "metadata": {},
   "outputs": [
    {
     "data": {
      "text/plain": [
       "0.12147368421052633"
      ]
     },
     "execution_count": 63,
     "metadata": {},
     "output_type": "execute_result"
    }
   ],
   "source": [
    "big_profit_sales.ack_calc_res.mean()"
   ]
  },
  {
   "cell_type": "code",
   "execution_count": 64,
   "id": "a08e9da3",
   "metadata": {},
   "outputs": [
    {
     "data": {
      "text/plain": [
       "6"
      ]
     },
     "execution_count": 64,
     "metadata": {},
     "output_type": "execute_result"
    }
   ],
   "source": [
    "# How many zero profit sales ?\n",
    "zero_profit_sales.shape[0]"
   ]
  },
  {
   "cell_type": "code",
   "execution_count": 65,
   "id": "dc6f99c1",
   "metadata": {},
   "outputs": [
    {
     "data": {
      "text/plain": [
       "24"
      ]
     },
     "execution_count": 65,
     "metadata": {},
     "output_type": "execute_result"
    }
   ],
   "source": [
    "low_profit_sales.shape[0]"
   ]
  },
  {
   "cell_type": "code",
   "execution_count": 66,
   "id": "b69ef427",
   "metadata": {},
   "outputs": [
    {
     "data": {
      "text/plain": [
       "-0.030125000000000013"
      ]
     },
     "execution_count": 66,
     "metadata": {},
     "output_type": "execute_result"
    }
   ],
   "source": [
    "low_profit_sales.ack_calc_res.mean()"
   ]
  },
  {
   "cell_type": "code",
   "execution_count": 67,
   "id": "7d010d60",
   "metadata": {},
   "outputs": [],
   "source": [
    "#Calc total amount of sales per low/big profit\n",
    "tot_last=big_prof_last.shape[0]+zero_prof_last.shape[0]+low_prof_last.shape[0]\n",
    "tot_before=big_profit_sales.shape[0]+zero_profit_sales.shape[0]+low_profit_sales.shape[0]"
   ]
  },
  {
   "cell_type": "code",
   "execution_count": 68,
   "id": "6a44739b",
   "metadata": {
    "scrolled": false
   },
   "outputs": [
    {
     "data": {
      "image/png": "[encoded data removed]",
      "text/plain": [
       "<Figure size 432x288 with 1 Axes>"
      ]
     },
     "metadata": {
      "needs_background": "light"
     },
     "output_type": "display_data"
    }
   ],
   "source": [
    "x_labels=['Big_profit','ZeroProfit','LowProfit']\n",
    "y_values=[big_profit_sales.shape[0],zero_profit_sales.shape[0],low_profit_sales.shape[0]]\n",
    "plt.title('Profitcounts before 4/1', fontdict={'fontname':'Comic Sans MS','fontsize':20})\n",
    "plt.xlabel('ProfitLevel')\n",
    "plt.ylabel('Count')\n",
    "plt.bar(x_labels,y_values);\n",
    "plt.show()"
   ]
  },
  {
   "cell_type": "markdown",
   "id": "a808ee29",
   "metadata": {},
   "source": [
    "### Fråga 1 ).\n",
    "#### Vad är andelen låg,noll,hög förtjänst försäljningar i första perioden ?"
   ]
  },
  {
   "cell_type": "code",
   "execution_count": 69,
   "id": "4995f844",
   "metadata": {
    "scrolled": true
   },
   "outputs": [
    {
     "data": {
      "image/png": "[encoded data removed]",
      "text/plain": [
       "<Figure size 432x288 with 1 Axes>"
      ]
     },
     "metadata": {},
     "output_type": "display_data"
    }
   ],
   "source": [
    "#Diplay profits done before middle \n",
    "arr=[big_profit_sales.shape[0]/tot_before,zero_profit_sales.shape[0]/tot_before,low_profit_sales.shape[0]/tot_before]\n",
    "labels=[\"BigProfit\",\"ZeroProfit\",\"LowProfit\"]\n",
    "plt.title('Profit before 4/1')\n",
    "my_expl=[0.2,0,0]\n",
    "plt.pie(arr,labels=labels,explode=my_expl,startangle = 120,autopct='%1.1f%%',colors=['r', 'g', 'b'])\n",
    "plt.show()"
   ]
  },
  {
   "cell_type": "markdown",
   "id": "9018c67d",
   "metadata": {},
   "source": [
    "### Slutsats:\n",
    "#### Nästan 56 % av alla affärer gick med vinst innan 4/1"
   ]
  },
  {
   "cell_type": "markdown",
   "id": "f1c24fff",
   "metadata": {},
   "source": [
    "### Fråga 2 ).\n",
    "#### Vilken andel låg,noll,hög förtjänst för försäljningar efter 4/1 ?"
   ]
  },
  {
   "cell_type": "code",
   "execution_count": 70,
   "id": "38af1f00",
   "metadata": {
    "scrolled": false
   },
   "outputs": [
    {
     "data": {
      "image/png": "[encoded data removed]",
      "text/plain": [
       "<Figure size 432x288 with 1 Axes>"
      ]
     },
     "metadata": {
      "needs_background": "light"
     },
     "output_type": "display_data"
    }
   ],
   "source": [
    "x_labels=['Big_profit','ZeroProfit','LowProfit']\n",
    "y_values=[big_prof_last.shape[0],zero_prof_last.shape[0],low_prof_last.shape[0]]\n",
    "plt.title('Profitcounts after 4/1', fontdict={'fontname':'Comic Sans MS','fontsize':20})\n",
    "plt.xlabel('ProfitLevel')\n",
    "plt.ylabel('Count of sales')\n",
    "plt.bar(x_labels,y_values);\n",
    "plt.show()"
   ]
  },
  {
   "cell_type": "code",
   "execution_count": 71,
   "id": "9852198a",
   "metadata": {},
   "outputs": [],
   "source": [
    "def absolute_value(val):\n",
    "    a  = np.round(val/100.*sizes.sum(), 0)\n",
    "    return a"
   ]
  },
  {
   "cell_type": "code",
   "execution_count": 72,
   "id": "f9c022f3",
   "metadata": {
    "scrolled": false
   },
   "outputs": [
    {
     "data": {
      "image/png": "[encoded data removed]",
      "text/plain": [
       "<Figure size 432x288 with 1 Axes>"
      ]
     },
     "metadata": {},
     "output_type": "display_data"
    }
   ],
   "source": [
    "arr=[big_prof_last.shape[0]/tot_last,zero_prof_last.shape[0]/tot_last,low_prof_last.shape[0]/tot_last]\n",
    "labels=[\"BigProfit\",\"ZeroProfit\",\"LowProfit\"]\n",
    "plt.title('Profit after 4/1')\n",
    "plt.pie(arr,labels=labels,explode=my_expl,startangle = 120,autopct='%1.1f%%',colors=['r', 'g', 'b'])\n",
    "#plt.pie(arr,labels=labels)\n",
    "#plt.legend()\n",
    "plt.show()"
   ]
  },
  {
   "cell_type": "markdown",
   "id": "0c758bbc",
   "metadata": {},
   "source": [
    "### Slutsats:\n",
    "#### Nästan 50 % av alla affärer gick med förlust efter 4/1 , 10 % Noll result\n",
    "#### 41,1 % Av alla affärer efter 4/1 gick med vinst\n",
    "#### 15% färre affärer gick med vinst efter 4/1"
   ]
  },
  {
   "cell_type": "markdown",
   "id": "aaafa36c",
   "metadata": {},
   "source": [
    "#### Medelvärde kvadratmeterpris  "
   ]
  },
  {
   "cell_type": "code",
   "execution_count": 73,
   "id": "c3a2968a",
   "metadata": {},
   "outputs": [],
   "source": [
    "srt_profit=big_profit_sales.query('kvm_m2 > 99 and ack_calc_res > 0.05' ).sort_values(by='b_sale_rslt',ascending=False)"
   ]
  },
  {
   "cell_type": "code",
   "execution_count": 74,
   "id": "99d1e027",
   "metadata": {},
   "outputs": [
    {
     "data": {
      "text/plain": [
       "27925.0"
      ]
     },
     "execution_count": 74,
     "metadata": {},
     "output_type": "execute_result"
    }
   ],
   "source": [
    "srt_profit.b_price_m2_kr.mean()"
   ]
  },
  {
   "cell_type": "code",
   "execution_count": 75,
   "id": "b878d3a2",
   "metadata": {
    "scrolled": true
   },
   "outputs": [
    {
     "data": {
      "text/html": [
       "<div>\n",
       "<style scoped>\n",
       "    .dataframe tbody tr th:only-of-type {\n",
       "        vertical-align: middle;\n",
       "    }\n",
       "\n",
       "    .dataframe tbody tr th {\n",
       "        vertical-align: top;\n",
       "    }\n",
       "\n",
       "    .dataframe thead th {\n",
       "        text-align: right;\n",
       "    }\n",
       "</style>\n",
       "<table border=\"1\" class=\"dataframe\">\n",
       "  <thead>\n",
       "    <tr style=\"text-align: right;\">\n",
       "      <th></th>\n",
       "      <th>b_loc</th>\n",
       "      <th>b_price_kr</th>\n",
       "      <th>b_price_m2_kr</th>\n",
       "      <th>b_sale_rslt</th>\n",
       "      <th>b_sale_date</th>\n",
       "      <th>amt_room</th>\n",
       "      <th>kvm_m2</th>\n",
       "      <th>ack_calc_res</th>\n",
       "      <th>starting_price</th>\n",
       "    </tr>\n",
       "  </thead>\n",
       "  <tbody>\n",
       "    <tr>\n",
       "      <th>107</th>\n",
       "      <td>Duvstigen 3</td>\n",
       "      <td>4050000</td>\n",
       "      <td>31600</td>\n",
       "      <td>8.0</td>\n",
       "      <td>2022-03-31</td>\n",
       "      <td>5</td>\n",
       "      <td>128</td>\n",
       "      <td>0.080</td>\n",
       "      <td>3.750000e+06</td>\n",
       "    </tr>\n",
       "    <tr>\n",
       "      <th>109</th>\n",
       "      <td>Robin Granes väg 10</td>\n",
       "      <td>4300000</td>\n",
       "      <td>36800</td>\n",
       "      <td>13.3</td>\n",
       "      <td>2022-03-30</td>\n",
       "      <td>-1</td>\n",
       "      <td>117</td>\n",
       "      <td>0.133</td>\n",
       "      <td>3.795234e+06</td>\n",
       "    </tr>\n",
       "    <tr>\n",
       "      <th>115</th>\n",
       "      <td>Kärleksstigen 9</td>\n",
       "      <td>3360000</td>\n",
       "      <td>20700</td>\n",
       "      <td>16.1</td>\n",
       "      <td>2022-03-23</td>\n",
       "      <td>-1</td>\n",
       "      <td>162</td>\n",
       "      <td>0.161</td>\n",
       "      <td>2.894057e+06</td>\n",
       "    </tr>\n",
       "    <tr>\n",
       "      <th>117</th>\n",
       "      <td>Kryddvägen 1</td>\n",
       "      <td>6100000</td>\n",
       "      <td>36700</td>\n",
       "      <td>10.9</td>\n",
       "      <td>2022-03-19</td>\n",
       "      <td>6</td>\n",
       "      <td>166</td>\n",
       "      <td>0.109</td>\n",
       "      <td>5.500451e+06</td>\n",
       "    </tr>\n",
       "    <tr>\n",
       "      <th>118</th>\n",
       "      <td>Vadsbovägen 10</td>\n",
       "      <td>1850000</td>\n",
       "      <td>17300</td>\n",
       "      <td>9.5</td>\n",
       "      <td>2022-03-18</td>\n",
       "      <td>-1</td>\n",
       "      <td>107</td>\n",
       "      <td>0.095</td>\n",
       "      <td>1.689498e+06</td>\n",
       "    </tr>\n",
       "    <tr>\n",
       "      <th>125</th>\n",
       "      <td>Belleforsvägen 5</td>\n",
       "      <td>2350000</td>\n",
       "      <td>16800</td>\n",
       "      <td>7.1</td>\n",
       "      <td>2022-03-11</td>\n",
       "      <td>7</td>\n",
       "      <td>140</td>\n",
       "      <td>0.071</td>\n",
       "      <td>2.194211e+06</td>\n",
       "    </tr>\n",
       "    <tr>\n",
       "      <th>128</th>\n",
       "      <td>Mjölnarevägen 4</td>\n",
       "      <td>3250000</td>\n",
       "      <td>27800</td>\n",
       "      <td>8.5</td>\n",
       "      <td>2022-03-08</td>\n",
       "      <td>-1</td>\n",
       "      <td>117</td>\n",
       "      <td>0.085</td>\n",
       "      <td>2.995392e+06</td>\n",
       "    </tr>\n",
       "    <tr>\n",
       "      <th>127</th>\n",
       "      <td>Hentorpsvägen 52</td>\n",
       "      <td>3560000</td>\n",
       "      <td>30400</td>\n",
       "      <td>27.1</td>\n",
       "      <td>2022-03-08</td>\n",
       "      <td>-1</td>\n",
       "      <td>117</td>\n",
       "      <td>0.271</td>\n",
       "      <td>2.800944e+06</td>\n",
       "    </tr>\n",
       "    <tr>\n",
       "      <th>132</th>\n",
       "      <td>Örtvägen 3</td>\n",
       "      <td>5650000</td>\n",
       "      <td>39000</td>\n",
       "      <td>13.1</td>\n",
       "      <td>2022-03-01</td>\n",
       "      <td>-1</td>\n",
       "      <td>145</td>\n",
       "      <td>0.131</td>\n",
       "      <td>4.995579e+06</td>\n",
       "    </tr>\n",
       "    <tr>\n",
       "      <th>138</th>\n",
       "      <td>Lavendelvägen 5</td>\n",
       "      <td>6550000</td>\n",
       "      <td>36600</td>\n",
       "      <td>10.1</td>\n",
       "      <td>2022-02-25</td>\n",
       "      <td>-1</td>\n",
       "      <td>179</td>\n",
       "      <td>0.101</td>\n",
       "      <td>5.949137e+06</td>\n",
       "    </tr>\n",
       "    <tr>\n",
       "      <th>141</th>\n",
       "      <td>Forslunds väg 22</td>\n",
       "      <td>4010000</td>\n",
       "      <td>38200</td>\n",
       "      <td>9.1</td>\n",
       "      <td>2022-02-23</td>\n",
       "      <td>-1</td>\n",
       "      <td>105</td>\n",
       "      <td>0.091</td>\n",
       "      <td>3.675527e+06</td>\n",
       "    </tr>\n",
       "    <tr>\n",
       "      <th>142</th>\n",
       "      <td>Billingsdalsvägen 10</td>\n",
       "      <td>4100000</td>\n",
       "      <td>22500</td>\n",
       "      <td>8.3</td>\n",
       "      <td>2022-02-18</td>\n",
       "      <td>6</td>\n",
       "      <td>182</td>\n",
       "      <td>0.083</td>\n",
       "      <td>3.785780e+06</td>\n",
       "    </tr>\n",
       "    <tr>\n",
       "      <th>144</th>\n",
       "      <td>Mangårdsvägen 25</td>\n",
       "      <td>6400000</td>\n",
       "      <td>37600</td>\n",
       "      <td>18.6</td>\n",
       "      <td>2022-02-16</td>\n",
       "      <td>7</td>\n",
       "      <td>170</td>\n",
       "      <td>0.186</td>\n",
       "      <td>5.396290e+06</td>\n",
       "    </tr>\n",
       "    <tr>\n",
       "      <th>151</th>\n",
       "      <td>Orrvägen 13</td>\n",
       "      <td>4550000</td>\n",
       "      <td>29900</td>\n",
       "      <td>5.8</td>\n",
       "      <td>2022-02-04</td>\n",
       "      <td>-1</td>\n",
       "      <td>152</td>\n",
       "      <td>0.058</td>\n",
       "      <td>4.300567e+06</td>\n",
       "    </tr>\n",
       "    <tr>\n",
       "      <th>150</th>\n",
       "      <td>Götlunda Karlstorp 2</td>\n",
       "      <td>3250000</td>\n",
       "      <td>21200</td>\n",
       "      <td>22.6</td>\n",
       "      <td>2022-02-04</td>\n",
       "      <td>-1</td>\n",
       "      <td>153</td>\n",
       "      <td>0.226</td>\n",
       "      <td>2.650897e+06</td>\n",
       "    </tr>\n",
       "    <tr>\n",
       "      <th>155</th>\n",
       "      <td>Törnsångarvägen 7</td>\n",
       "      <td>2500000</td>\n",
       "      <td>25000</td>\n",
       "      <td>13.9</td>\n",
       "      <td>2022-02-01</td>\n",
       "      <td>-1</td>\n",
       "      <td>100</td>\n",
       "      <td>0.139</td>\n",
       "      <td>2.194908e+06</td>\n",
       "    </tr>\n",
       "    <tr>\n",
       "      <th>156</th>\n",
       "      <td>Fredriksbergsvägen 157</td>\n",
       "      <td>2400000</td>\n",
       "      <td>17900</td>\n",
       "      <td>9.3</td>\n",
       "      <td>2022-01-31</td>\n",
       "      <td>6</td>\n",
       "      <td>134</td>\n",
       "      <td>0.093</td>\n",
       "      <td>2.195791e+06</td>\n",
       "    </tr>\n",
       "    <tr>\n",
       "      <th>158</th>\n",
       "      <td>Lövkullevägen 17</td>\n",
       "      <td>4325000</td>\n",
       "      <td>21800</td>\n",
       "      <td>23.6</td>\n",
       "      <td>2022-01-28</td>\n",
       "      <td>-1</td>\n",
       "      <td>198</td>\n",
       "      <td>0.236</td>\n",
       "      <td>3.499191e+06</td>\n",
       "    </tr>\n",
       "    <tr>\n",
       "      <th>161</th>\n",
       "      <td>Källbäcksvägen 8</td>\n",
       "      <td>4400000</td>\n",
       "      <td>38900</td>\n",
       "      <td>15.9</td>\n",
       "      <td>2022-01-24</td>\n",
       "      <td>-1</td>\n",
       "      <td>113</td>\n",
       "      <td>0.159</td>\n",
       "      <td>3.796376e+06</td>\n",
       "    </tr>\n",
       "    <tr>\n",
       "      <th>162</th>\n",
       "      <td>Flugvägen 12E</td>\n",
       "      <td>3000000</td>\n",
       "      <td>22600</td>\n",
       "      <td>15.6</td>\n",
       "      <td>2022-01-22</td>\n",
       "      <td>4</td>\n",
       "      <td>133</td>\n",
       "      <td>0.156</td>\n",
       "      <td>2.595156e+06</td>\n",
       "    </tr>\n",
       "    <tr>\n",
       "      <th>165</th>\n",
       "      <td>Högklintsvägen 14</td>\n",
       "      <td>6900000</td>\n",
       "      <td>36300</td>\n",
       "      <td>20.0</td>\n",
       "      <td>2022-01-14</td>\n",
       "      <td>-1</td>\n",
       "      <td>190</td>\n",
       "      <td>0.200</td>\n",
       "      <td>5.750000e+06</td>\n",
       "    </tr>\n",
       "    <tr>\n",
       "      <th>170</th>\n",
       "      <td>Berg Högsböla 1</td>\n",
       "      <td>5100000</td>\n",
       "      <td>23200</td>\n",
       "      <td>13.3</td>\n",
       "      <td>2022-01-10</td>\n",
       "      <td>-1</td>\n",
       "      <td>220</td>\n",
       "      <td>0.133</td>\n",
       "      <td>4.501324e+06</td>\n",
       "    </tr>\n",
       "    <tr>\n",
       "      <th>171</th>\n",
       "      <td>Alvägen 4</td>\n",
       "      <td>2350000</td>\n",
       "      <td>22600</td>\n",
       "      <td>42.9</td>\n",
       "      <td>2022-01-10</td>\n",
       "      <td>-1</td>\n",
       "      <td>104</td>\n",
       "      <td>0.429</td>\n",
       "      <td>1.644507e+06</td>\n",
       "    </tr>\n",
       "    <tr>\n",
       "      <th>174</th>\n",
       "      <td>Åkleby Gård</td>\n",
       "      <td>2600000</td>\n",
       "      <td>18800</td>\n",
       "      <td>8.6</td>\n",
       "      <td>2022-01-07</td>\n",
       "      <td>-1</td>\n",
       "      <td>138</td>\n",
       "      <td>0.086</td>\n",
       "      <td>2.394107e+06</td>\n",
       "    </tr>\n",
       "  </tbody>\n",
       "</table>\n",
       "</div>"
      ],
      "text/plain": [
       "                      b_loc  b_price_kr  b_price_m2_kr  b_sale_rslt  \\\n",
       "107             Duvstigen 3     4050000          31600          8.0   \n",
       "109     Robin Granes väg 10     4300000          36800         13.3   \n",
       "115         Kärleksstigen 9     3360000          20700         16.1   \n",
       "117            Kryddvägen 1     6100000          36700         10.9   \n",
       "118          Vadsbovägen 10     1850000          17300          9.5   \n",
       "125        Belleforsvägen 5     2350000          16800          7.1   \n",
       "128         Mjölnarevägen 4     3250000          27800          8.5   \n",
       "127        Hentorpsvägen 52     3560000          30400         27.1   \n",
       "132              Örtvägen 3     5650000          39000         13.1   \n",
       "138         Lavendelvägen 5     6550000          36600         10.1   \n",
       "141        Forslunds väg 22     4010000          38200          9.1   \n",
       "142    Billingsdalsvägen 10     4100000          22500          8.3   \n",
       "144        Mangårdsvägen 25     6400000          37600         18.6   \n",
       "151             Orrvägen 13     4550000          29900          5.8   \n",
       "150    Götlunda Karlstorp 2     3250000          21200         22.6   \n",
       "155       Törnsångarvägen 7     2500000          25000         13.9   \n",
       "156  Fredriksbergsvägen 157     2400000          17900          9.3   \n",
       "158        Lövkullevägen 17     4325000          21800         23.6   \n",
       "161        Källbäcksvägen 8     4400000          38900         15.9   \n",
       "162           Flugvägen 12E     3000000          22600         15.6   \n",
       "165       Högklintsvägen 14     6900000          36300         20.0   \n",
       "170         Berg Högsböla 1     5100000          23200         13.3   \n",
       "171               Alvägen 4     2350000          22600         42.9   \n",
       "174             Åkleby Gård     2600000          18800          8.6   \n",
       "\n",
       "    b_sale_date  amt_room  kvm_m2  ack_calc_res  starting_price  \n",
       "107  2022-03-31         5     128         0.080    3.750000e+06  \n",
       "109  2022-03-30        -1     117         0.133    3.795234e+06  \n",
       "115  2022-03-23        -1     162         0.161    2.894057e+06  \n",
       "117  2022-03-19         6     166         0.109    5.500451e+06  \n",
       "118  2022-03-18        -1     107         0.095    1.689498e+06  \n",
       "125  2022-03-11         7     140         0.071    2.194211e+06  \n",
       "128  2022-03-08        -1     117         0.085    2.995392e+06  \n",
       "127  2022-03-08        -1     117         0.271    2.800944e+06  \n",
       "132  2022-03-01        -1     145         0.131    4.995579e+06  \n",
       "138  2022-02-25        -1     179         0.101    5.949137e+06  \n",
       "141  2022-02-23        -1     105         0.091    3.675527e+06  \n",
       "142  2022-02-18         6     182         0.083    3.785780e+06  \n",
       "144  2022-02-16         7     170         0.186    5.396290e+06  \n",
       "151  2022-02-04        -1     152         0.058    4.300567e+06  \n",
       "150  2022-02-04        -1     153         0.226    2.650897e+06  \n",
       "155  2022-02-01        -1     100         0.139    2.194908e+06  \n",
       "156  2022-01-31         6     134         0.093    2.195791e+06  \n",
       "158  2022-01-28        -1     198         0.236    3.499191e+06  \n",
       "161  2022-01-24        -1     113         0.159    3.796376e+06  \n",
       "162  2022-01-22         4     133         0.156    2.595156e+06  \n",
       "165  2022-01-14        -1     190         0.200    5.750000e+06  \n",
       "170  2022-01-10        -1     220         0.133    4.501324e+06  \n",
       "171  2022-01-10        -1     104         0.429    1.644507e+06  \n",
       "174  2022-01-07        -1     138         0.086    2.394107e+06  "
      ]
     },
     "execution_count": 75,
     "metadata": {},
     "output_type": "execute_result"
    }
   ],
   "source": [
    "#Denna kan tas bort\n",
    "srt_profit.sort_values(by='b_sale_date',ascending=False)"
   ]
  },
  {
   "cell_type": "markdown",
   "id": "52483bfa",
   "metadata": {},
   "source": [
    "#### Scatterplot rum vs kvadratmeter"
   ]
  },
  {
   "cell_type": "code",
   "execution_count": 76,
   "id": "90e96823",
   "metadata": {
    "scrolled": true
   },
   "outputs": [
    {
     "data": {
      "image/png": "[encoded data removed]",
      "text/plain": [
       "<Figure size 432x288 with 1 Axes>"
      ]
     },
     "metadata": {
      "needs_background": "light"
     },
     "output_type": "display_data"
    }
   ],
   "source": [
    "#plt.plot(y='amt_room',x='kvm_m2',kind='scatter')\n",
    "srt_profit.plot(y='amt_room',x='kvm_m2',kind='scatter')\n",
    "plt.title('Rooms vs Size')\n",
    "plt.show()\n",
    "#df_sm.plot(x='vote_average',y='profit',kind='scatter');"
   ]
  },
  {
   "cell_type": "markdown",
   "id": "7dc45775",
   "metadata": {},
   "source": [
    "#### Scatterplot alla försäljningar och vinst/förlust"
   ]
  },
  {
   "cell_type": "code",
   "execution_count": 77,
   "id": "b1df526c",
   "metadata": {},
   "outputs": [
    {
     "data": {
      "image/png": "[encoded data removed]",
      "text/plain": [
       "<Figure size 432x288 with 1 Axes>"
      ]
     },
     "metadata": {
      "needs_background": "light"
     },
     "output_type": "display_data"
    }
   ],
   "source": [
    "#y = [1, 4, 9, 16, 25,36,49, 64]\n",
    "x=bost_df.b_sale_date\n",
    "# x1 = [1, 16, 30, 42,55, 68, 77,88]\n",
    "# x2 = [1,6,12,18,28, 40, 52, 65]\n",
    "y=bost_df.ack_calc_res\n",
    "fig = plt.figure()\n",
    "ax = fig.add_axes([0,0,2,2])\n",
    "\n",
    "l1 = ax.scatter(x,y) # solid line with yellow colour and square marker\n",
    "#l2 = ax.plot(x2,y,'gx--') # dash line with green colour and circle marker\n",
    "#ax.legend(labels = ('tv', 'Smartphone'), loc = 'lower right') # legend placed at lower right\n",
    "ax.set_title(\"Total sales from start\")\n",
    "ax.set_xlabel('Date')\n",
    "ax.set_ylabel('Profit')\n",
    "plt.show()"
   ]
  },
  {
   "cell_type": "code",
   "execution_count": 78,
   "id": "cba354d2",
   "metadata": {},
   "outputs": [
    {
     "data": {
      "image/png": "[encoded data removed]",
      "text/plain": [
       "<Figure size 720x720 with 1 Axes>"
      ]
     },
     "metadata": {
      "needs_background": "light"
     },
     "output_type": "display_data"
    }
   ],
   "source": [
    "big_prof_last.plot(x='b_sale_date',y='ack_calc_res',kind='scatter',figsize=(10,10));"
   ]
  },
  {
   "cell_type": "markdown",
   "id": "b367efd3",
   "metadata": {},
   "source": [
    "#### Fråga:\n",
    "Hur fördelar sig vinsterna på de försäljningar som gått bäst ?"
   ]
  },
  {
   "cell_type": "code",
   "execution_count": 79,
   "id": "02fd454c",
   "metadata": {
    "scrolled": false
   },
   "outputs": [
    {
     "data": {
      "text/plain": [
       "<AxesSubplot:>"
      ]
     },
     "execution_count": 79,
     "metadata": {},
     "output_type": "execute_result"
    },
    {
     "data": {
      "image/png": "[encoded data removed]",
      "text/plain": [
       "<Figure size 432x288 with 1 Axes>"
      ]
     },
     "metadata": {
      "needs_background": "light"
     },
     "output_type": "display_data"
    }
   ],
   "source": [
    "#Big profit distrobution\n",
    "big_prof_last.ack_calc_res.hist()\n",
    "#plt.axvline(sample_data.height.mean(),color='r', linewidth=2)"
   ]
  },
  {
   "cell_type": "code",
   "execution_count": 174,
   "id": "16f40f28",
   "metadata": {},
   "outputs": [
    {
     "data": {
      "image/png": "[encoded data removed]",
      "text/plain": [
       "<Figure size 720x576 with 1 Axes>"
      ]
     },
     "metadata": {
      "needs_background": "light"
     },
     "output_type": "display_data"
    }
   ],
   "source": [
    "import warnings\n",
    "warnings.filterwarnings(\"ignore\")\n",
    "green_diamond = dict(markerfacecolor='r', marker='s')\n",
    "data=[big_prof_extra['ack_calc_res'],low_prof_extra['ack_calc_res']]\n",
    "fig=plt.figure(figsize=(10,8))\n",
    "ax = fig.subplots()\n",
    "ax.set_title('Spridningen av inkomst i respektive grupp')\n",
    "ax.set_xticklabels(['BigProfit','LowProfit'])\n",
    "#ax.set_xlabels()\n",
    "#ax.set_xlabels()\n",
    "ax.set_ylabel('Revenue')\n",
    "plt.boxplot(data,flierprops=green_diamond)\n",
    "plt.show();"
   ]
  },
  {
   "cell_type": "markdown",
   "id": "55e523b0",
   "metadata": {},
   "source": [
    "#### Fråga:\n",
    "Hur fördelar sig alla vinster/försluster sedan start ?"
   ]
  },
  {
   "cell_type": "code",
   "execution_count": 80,
   "id": "c0caa438",
   "metadata": {
    "scrolled": true
   },
   "outputs": [
    {
     "data": {
      "text/plain": [
       "<AxesSubplot:>"
      ]
     },
     "execution_count": 80,
     "metadata": {},
     "output_type": "execute_result"
    },
    {
     "data": {
      "image/png": "[encoded data removed]",
      "text/plain": [
       "<Figure size 432x288 with 1 Axes>"
      ]
     },
     "metadata": {
      "needs_background": "light"
     },
     "output_type": "display_data"
    }
   ],
   "source": [
    "# Distrubution of all sales from start\n",
    "bost_df.ack_calc_res.hist()"
   ]
  },
  {
   "cell_type": "code",
   "execution_count": 173,
   "id": "9db20c05",
   "metadata": {},
   "outputs": [
    {
     "data": {
      "image/png": "[encoded data removed]",
      "text/plain": [
       "<Figure size 720x576 with 1 Axes>"
      ]
     },
     "metadata": {
      "needs_background": "light"
     },
     "output_type": "display_data"
    }
   ],
   "source": [
    "f=plt.figure(figsize=(10,8))\n",
    "ax=f.subplots()\n",
    "ax.set_title('Spread of revenue')\n",
    "plt.boxplot(bost_df['ack_calc_res'])\n",
    "plt.show()\n",
    "#bost_df['ack_calc_res'].boxplotplot()"
   ]
  },
  {
   "cell_type": "markdown",
   "id": "9dd2e91e",
   "metadata": {},
   "source": [
    "#### Fråga:\n",
    "Hur fördelar sig vinster/försluster efter 4/1?"
   ]
  },
  {
   "cell_type": "code",
   "execution_count": 81,
   "id": "af71eb3f",
   "metadata": {
    "scrolled": true
   },
   "outputs": [
    {
     "data": {
      "text/plain": [
       "<AxesSubplot:>"
      ]
     },
     "execution_count": 81,
     "metadata": {},
     "output_type": "execute_result"
    },
    {
     "data": {
      "image/png": "[encoded data removed]",
      "text/plain": [
       "<Figure size 432x288 with 1 Axes>"
      ]
     },
     "metadata": {
      "needs_background": "light"
     },
     "output_type": "display_data"
    }
   ],
   "source": [
    "#Distrubution of sales after april\n",
    "allb_data_late.ack_calc_res.hist()"
   ]
  },
  {
   "cell_type": "code",
   "execution_count": 82,
   "id": "ea9b347f",
   "metadata": {},
   "outputs": [],
   "source": [
    "grp_month=bost_df.groupby(bost_df.b_sale_date.dt.month)['ack_calc_res'].mean()"
   ]
  },
  {
   "cell_type": "markdown",
   "id": "5f963f51",
   "metadata": {},
   "source": [
    "Prova att plotta ut high profit på samma sätt!\n",
    "#### Plotta hela intervallet "
   ]
  },
  {
   "cell_type": "code",
   "execution_count": 83,
   "id": "c5504343",
   "metadata": {
    "scrolled": true
   },
   "outputs": [
    {
     "data": {
      "text/html": [
       "<div>\n",
       "<style scoped>\n",
       "    .dataframe tbody tr th:only-of-type {\n",
       "        vertical-align: middle;\n",
       "    }\n",
       "\n",
       "    .dataframe tbody tr th {\n",
       "        vertical-align: top;\n",
       "    }\n",
       "\n",
       "    .dataframe thead th {\n",
       "        text-align: right;\n",
       "    }\n",
       "</style>\n",
       "<table border=\"1\" class=\"dataframe\">\n",
       "  <thead>\n",
       "    <tr style=\"text-align: right;\">\n",
       "      <th></th>\n",
       "      <th>b_loc</th>\n",
       "      <th>b_price_kr</th>\n",
       "      <th>b_price_m2_kr</th>\n",
       "      <th>b_sale_rslt</th>\n",
       "      <th>b_sale_date</th>\n",
       "      <th>amt_room</th>\n",
       "      <th>kvm_m2</th>\n",
       "      <th>ack_calc_res</th>\n",
       "      <th>starting_price</th>\n",
       "    </tr>\n",
       "    <tr>\n",
       "      <th>b_sale_date</th>\n",
       "      <th></th>\n",
       "      <th></th>\n",
       "      <th></th>\n",
       "      <th></th>\n",
       "      <th></th>\n",
       "      <th></th>\n",
       "      <th></th>\n",
       "      <th></th>\n",
       "      <th></th>\n",
       "    </tr>\n",
       "  </thead>\n",
       "  <tbody>\n",
       "    <tr>\n",
       "      <th>1</th>\n",
       "      <td>2</td>\n",
       "      <td>2</td>\n",
       "      <td>2</td>\n",
       "      <td>2</td>\n",
       "      <td>2</td>\n",
       "      <td>2</td>\n",
       "      <td>2</td>\n",
       "      <td>2</td>\n",
       "      <td>2</td>\n",
       "    </tr>\n",
       "    <tr>\n",
       "      <th>2</th>\n",
       "      <td>2</td>\n",
       "      <td>2</td>\n",
       "      <td>2</td>\n",
       "      <td>2</td>\n",
       "      <td>2</td>\n",
       "      <td>2</td>\n",
       "      <td>2</td>\n",
       "      <td>2</td>\n",
       "      <td>2</td>\n",
       "    </tr>\n",
       "    <tr>\n",
       "      <th>3</th>\n",
       "      <td>2</td>\n",
       "      <td>2</td>\n",
       "      <td>2</td>\n",
       "      <td>2</td>\n",
       "      <td>2</td>\n",
       "      <td>2</td>\n",
       "      <td>2</td>\n",
       "      <td>2</td>\n",
       "      <td>2</td>\n",
       "    </tr>\n",
       "  </tbody>\n",
       "</table>\n",
       "</div>"
      ],
      "text/plain": [
       "             b_loc  b_price_kr  b_price_m2_kr  b_sale_rslt  b_sale_date  \\\n",
       "b_sale_date                                                               \n",
       "1                2           2              2            2            2   \n",
       "2                2           2              2            2            2   \n",
       "3                2           2              2            2            2   \n",
       "\n",
       "             amt_room  kvm_m2  ack_calc_res  starting_price  \n",
       "b_sale_date                                                  \n",
       "1                   2       2             2               2  \n",
       "2                   2       2             2               2  \n",
       "3                   2       2             2               2  "
      ]
     },
     "execution_count": 83,
     "metadata": {},
     "output_type": "execute_result"
    }
   ],
   "source": [
    "zero_profit_sales.groupby(zero_profit_sales.b_sale_date.dt.month).count()"
   ]
  },
  {
   "cell_type": "markdown",
   "id": "bec12357",
   "metadata": {},
   "source": [
    "#### Hur många försäljningar per månad ?"
   ]
  },
  {
   "cell_type": "code",
   "execution_count": 84,
   "id": "1e098287",
   "metadata": {
    "scrolled": false
   },
   "outputs": [
    {
     "data": {
      "text/plain": [
       "b_sale_date\n",
       "1    19\n",
       "2    21\n",
       "3    28\n",
       "4    27\n",
       "5    33\n",
       "6    31\n",
       "7    16\n",
       "Name: ack_calc_res, dtype: int64"
      ]
     },
     "execution_count": 84,
     "metadata": {},
     "output_type": "execute_result"
    }
   ],
   "source": [
    "# antal försäljningar\n",
    "antal_sales_per_month=bost_df.groupby(bost_df.b_sale_date.dt.month).count()['ack_calc_res']\n",
    "antal_sales_per_month"
   ]
  },
  {
   "cell_type": "code",
   "execution_count": 122,
   "id": "c0c69d10",
   "metadata": {},
   "outputs": [],
   "source": [
    "#Fråga : alla + vals i en kolumn\n",
    "big_prof_extra=bost_df.loc[(bost_df['ack_calc_res'] > 0)] # & (bost_df['ant_rum'] > 1)\n",
    "zero_prof_extra=bost_df.loc[(bost_df['ack_calc_res'] == 0)]# & (bost_df['ant_rum'] > 1)\n",
    "low_prof_extra=bost_df.loc[(bost_df['ack_calc_res'] < 0) ] #& (bost_df['ant_rum'] > 1)\n",
    "#allb_data_early=bost_df.loc[(bost_df['b_sale_date'] < '2022-04-01' )]\n",
    "#allb_data_late=bost_df.loc[(bost_df['b_sale_date'] >= '2022-04-01' )]"
   ]
  },
  {
   "cell_type": "code",
   "execution_count": 123,
   "id": "d7098135",
   "metadata": {},
   "outputs": [],
   "source": [
    "grp_big_p=big_prof_extra.groupby(big_prof_extra.b_sale_date.dt.month)['ack_calc_res'].mean()\n",
    "grp_zero=zero_prof_extra.groupby(zero_prof_extra.b_sale_date.dt.month)['ack_calc_res'].mean()\n",
    "grp_low_p=low_prof_extra.groupby(low_prof_extra.b_sale_date.dt.month)['ack_calc_res'].mean()\n"
   ]
  },
  {
   "cell_type": "code",
   "execution_count": 124,
   "id": "215739b8",
   "metadata": {
    "scrolled": true
   },
   "outputs": [],
   "source": [
    "mont_sales_price_mean=bost_df.groupby(bost_df.b_sale_date.dt.month)['b_price_kr'].mean()\n",
    "month_sales_start_price=bost_df.groupby(bost_df.b_sale_date.dt.month)['starting_price'].mean()"
   ]
  },
  {
   "cell_type": "code",
   "execution_count": 125,
   "id": "5c165b3f",
   "metadata": {},
   "outputs": [
    {
     "data": {
      "text/plain": [
       "b_sale_date\n",
       "1   -0.029286\n",
       "2   -0.021200\n",
       "3   -0.034333\n",
       "4   -0.059733\n",
       "5   -0.060100\n",
       "6   -0.060600\n",
       "7   -0.103875\n",
       "Name: ack_calc_res, dtype: float64"
      ]
     },
     "execution_count": 125,
     "metadata": {},
     "output_type": "execute_result"
    }
   ],
   "source": [
    "grp_low_p"
   ]
  },
  {
   "cell_type": "code",
   "execution_count": 127,
   "id": "6a1560f3",
   "metadata": {},
   "outputs": [],
   "source": [
    "c_grp_big_p=big_prof_extra.groupby(big_prof_extra.b_sale_date.dt.month)['ack_calc_res'].count()\n",
    "c_grp_zro_p=zero_prof_extra.groupby(zero_prof_extra.b_sale_date.dt.month)['ack_calc_res'].count()\n",
    "c_grp_low_p=low_prof_extra.groupby(low_prof_extra.b_sale_date.dt.month)['ack_calc_res'].count()\n",
    "#c_all_s_per_m=bost_df"
   ]
  },
  {
   "cell_type": "code",
   "execution_count": 147,
   "id": "b14c7a73",
   "metadata": {
    "scrolled": false
   },
   "outputs": [],
   "source": [
    "Class = [\"Jan\", \"Feb\", \"March\", \"April\", \"May\",\"June\",\"July\",\"August\"]\n"
   ]
  },
  {
   "cell_type": "markdown",
   "id": "234dc1a4",
   "metadata": {},
   "source": [
    "### Visa resultat\n",
    "Antal försäljningar per månad från start"
   ]
  },
  {
   "cell_type": "code",
   "execution_count": 114,
   "id": "6d926df7",
   "metadata": {},
   "outputs": [
    {
     "data": {
      "image/png": "[encoded data removed]",
      "text/plain": [
       "<Figure size 432x288 with 1 Axes>"
      ]
     },
     "metadata": {
      "needs_background": "light"
     },
     "output_type": "display_data"
    }
   ],
   "source": [
    "#antal_sales_per_month\n",
    "mon = [\"Jan\", \"Feb\", \"March\", \"April\", \"May\",\"June\",\"July\"]\n",
    "#mon=bost_df.b_sale_date\n",
    "y=antal_sales_per_month.array\n",
    "fig = plt.figure()\n",
    "ax = fig.add_axes([0,0,2,2])\n",
    "ax.set_ylim([0,40])\n",
    "l1 = ax.plot(mon,y,'rx--') # solid line with yellow colour and square marker\n",
    "#l2 = ax.plot(x2,y,'gx--') # dash line with green colour and circle marker\n",
    "plt.grid(True)\n",
    "ax.legend('') # legend placed at lower right\n",
    "ax.set_title(\"Försäljningar per månad)\")\n",
    "ax.set_xlabel('Date')\n",
    "ax.set_ylabel('Antal försäljningar')\n",
    "plt.show()"
   ]
  },
  {
   "cell_type": "markdown",
   "id": "acec67f0",
   "metadata": {},
   "source": [
    "#### Beräkning av slutpriser"
   ]
  },
  {
   "cell_type": "code",
   "execution_count": 108,
   "id": "a6929d26",
   "metadata": {},
   "outputs": [
    {
     "data": {
      "text/plain": [
       "(b_sale_date\n",
       " 1    4.125263e+06\n",
       " 2    4.030000e+06\n",
       " 3    3.792321e+06\n",
       " 4    3.462593e+06\n",
       " 5    3.610152e+06\n",
       " 6    3.284839e+06\n",
       " 7    2.662500e+06\n",
       " Name: b_price_kr, dtype: float64,\n",
       " b_sale_date\n",
       " 1    3.922091e+06\n",
       " 2    3.809374e+06\n",
       " 3    3.664012e+06\n",
       " 4    3.441785e+06\n",
       " 5    3.570771e+06\n",
       " 6    3.136108e+06\n",
       " 7    2.641844e+06\n",
       " Name: starting_price, dtype: float64)"
      ]
     },
     "execution_count": 108,
     "metadata": {},
     "output_type": "execute_result"
    }
   ],
   "source": [
    "mont_sales_price_mean,month_sales_start_price"
   ]
  },
  {
   "cell_type": "markdown",
   "id": "1f2d6709",
   "metadata": {},
   "source": [
    "### Hur mycket har huspriset sjunkt från månad 4-7"
   ]
  },
  {
   "cell_type": "code",
   "execution_count": 184,
   "id": "c2e1ce23",
   "metadata": {
    "scrolled": true
   },
   "outputs": [
    {
     "data": {
      "text/plain": [
       "0.7675794450074249"
      ]
     },
     "execution_count": 184,
     "metadata": {},
     "output_type": "execute_result"
    }
   ],
   "source": [
    "month_sales_start_price[7]/month_sales_start_price[4]"
   ]
  },
  {
   "cell_type": "code",
   "execution_count": 115,
   "id": "e89a3ff6",
   "metadata": {},
   "outputs": [
    {
     "data": {
      "image/png": "[encoded data removed]",
      "text/plain": [
       "<Figure size 432x288 with 1 Axes>"
      ]
     },
     "metadata": {
      "needs_background": "light"
     },
     "output_type": "display_data"
    }
   ],
   "source": [
    "figg=plt.figure()\n",
    "axx = figg.add_axes([0,0,2,2])\n",
    "l = axx.plot(mon,mont_sales_price_mean.array,'go--') # solid line with yellow colour and square marker\n",
    "k=axx.plot(mon,month_sales_start_price.array,'ro--')\n",
    "plt.grid(True)\n",
    "axx.legend(['Slutpris','Startpris']) # legend placed at lower right\n",
    "axx.set_title(\"Försäljningspris (Medel)/ månad)\")\n",
    "axx.set_xlabel('Date')\n",
    "axx.set_ylabel('Medel försäljningspris i Mkr')\n",
    "plt.show()"
   ]
  },
  {
   "cell_type": "markdown",
   "id": "47db75bf",
   "metadata": {},
   "source": [
    "### Slutsats:\n",
    "    Större spridning på högvinsterna än på lågvinsterna(För hela perioden)"
   ]
  },
  {
   "cell_type": "code",
   "execution_count": 120,
   "id": "31195a19",
   "metadata": {
    "scrolled": false
   },
   "outputs": [
    {
     "data": {
      "image/png": "[encoded data removed]",
      "text/plain": [
       "<Figure size 720x504 with 1 Axes>"
      ]
     },
     "metadata": {
      "needs_background": "light"
     },
     "output_type": "display_data"
    }
   ],
   "source": [
    "plt.figure(figsize=(10,7))\n",
    "plt.xticks(rotation=45)\n",
    "plt.title('Mean Profit levels by month')\n",
    "plt.xlabel('Months')\n",
    "plt.ylabel('ProfitLevels in %')\n",
    "Class = [\"Jan\", \"Feb\", \"March\", \"April\", \"May\",\"June\",\"July\"]\n",
    "\n",
    "#w=0.6\n",
    "plt.bar(Class,grp_low_p.array,w,label='grp_low_p',color='green')\n",
    "plt.bar(Class,grp_big_p.array,w,color='red',label='grp_big_p')\n",
    "plt.bar(Class,grp_zero.array,w,color='blue',label='grp_zero') \n",
    "plt.legend()\n",
    "plt.show()\n"
   ]
  },
  {
   "cell_type": "code",
   "execution_count": 128,
   "id": "3c4317ad",
   "metadata": {
    "scrolled": false
   },
   "outputs": [
    {
     "data": {
      "image/png": "[encoded data removed]",
      "text/plain": [
       "<Figure size 864x504 with 1 Axes>"
      ]
     },
     "metadata": {
      "needs_background": "light"
     },
     "output_type": "display_data"
    }
   ],
   "source": [
    "plt.figure(figsize=(12,7))\n",
    "plt.xticks(rotation=45)\n",
    "plt.title('Num of sales by month')\n",
    "plt.xlabel('Months')\n",
    "plt.ylabel('Num of sales')\n",
    "Class = [\"Jan\", \"Feb\", \"March\", \"April\", \"May\",\"June\",\"July\"]\n",
    "w=0.6\n",
    "\n",
    "plt.bar(Class,c_grp_big_p.array,w,color='red',label='c_grp_big_p')\n",
    "plt.bar(Class,c_grp_zro_p.array,w,color='blue',label='c_grp_zro_p',bottom=c_grp_big_p)\n",
    "plt.bar(Class,c_grp_low_p.array,w,color='green',bottom=c_grp_big_p+c_grp_zro_p,label='c_grp_low_p')\n",
    "\n",
    "plt.legend(loc=2)\n",
    "\n",
    "plt.show()"
   ]
  },
  {
   "cell_type": "code",
   "execution_count": 37,
   "id": "e38b7efe",
   "metadata": {},
   "outputs": [
    {
     "data": {
      "image/png": "[encoded data removed]",
      "text/plain": [
       "<Figure size 432x288 with 1 Axes>"
      ]
     },
     "metadata": {
      "needs_background": "light"
     },
     "output_type": "display_data"
    }
   ],
   "source": [
    "month=bo_pris_indik['Month']\n",
    "y=bo_pris_indik.Indikator\n",
    "fig = plt.figure()\n",
    "ax = fig.add_axes([0,0,3,3])\n",
    "\n",
    "l1 = ax.plot(month,y,'rx--') # solid line with yellow colour and square marker\n",
    "#l2 = ax.plot(x2,y,'gx--') # dash line with green colour and circle marker\n",
    "ax.legend('Förväntningar') # legend placed at lower right\n",
    "ax.set_title(\"BoPrisIndikator (Bopris förväntningar)\")\n",
    "ax.set_xlabel('Date')\n",
    "ax.set_ylabel('Indikator')\n",
    "plt.show()"
   ]
  },
  {
   "cell_type": "markdown",
   "id": "cad408cd",
   "metadata": {},
   "source": [
    "### SLUTSATSER:\n",
    "\n",
    "- Förlustaffärrerna ökat månad för månad sedan 220101\n",
    "- Flest affärer gjordes i Maj\n",
    "- I Juli var antalet noll & förluster större än vinsterna\n",
    "- Det gjordes färre affärer i Juli än Juni\n",
    "- Januari till och med Maj gjordes det mera vinst än förlust på husaffärerna\n",
    "- I Maj gjordes det flest affärer\n",
    "- De affärer som gick med vinst i Juni , gjorde i medel 15% vinst\n",
    "- Förtroendet för att bostadspristet ska gå upp har sjunkit sedan i Maj\n",
    "- Intressant att boprisindikatorns kurva nästan exakt påminner om fösäljningspris/slutpris på villor\n"
   ]
  },
  {
   "cell_type": "markdown",
   "id": "00987ba3",
   "metadata": {},
   "source": [
    "### Medelpris för de hus som gått upp i värde "
   ]
  },
  {
   "cell_type": "code",
   "execution_count": 320,
   "id": "d5f2d83c",
   "metadata": {},
   "outputs": [
    {
     "data": {
      "text/html": [
       "<div>\n",
       "<style scoped>\n",
       "    .dataframe tbody tr th:only-of-type {\n",
       "        vertical-align: middle;\n",
       "    }\n",
       "\n",
       "    .dataframe tbody tr th {\n",
       "        vertical-align: top;\n",
       "    }\n",
       "\n",
       "    .dataframe thead th {\n",
       "        text-align: right;\n",
       "    }\n",
       "</style>\n",
       "<table border=\"1\" class=\"dataframe\">\n",
       "  <thead>\n",
       "    <tr style=\"text-align: right;\">\n",
       "      <th></th>\n",
       "      <th>b_price_kr</th>\n",
       "      <th>b_price_m2_kr</th>\n",
       "      <th>b_sale_rslt</th>\n",
       "      <th>amt_room</th>\n",
       "      <th>kvm_m2</th>\n",
       "      <th>ack_calc_res</th>\n",
       "      <th>starting_price</th>\n",
       "    </tr>\n",
       "  </thead>\n",
       "  <tbody>\n",
       "    <tr>\n",
       "      <th>count</th>\n",
       "      <td>4.400000e+01</td>\n",
       "      <td>44.000000</td>\n",
       "      <td>44.000000</td>\n",
       "      <td>44.000000</td>\n",
       "      <td>44.000000</td>\n",
       "      <td>44.000000</td>\n",
       "      <td>4.400000e+01</td>\n",
       "    </tr>\n",
       "    <tr>\n",
       "      <th>mean</th>\n",
       "      <td>3.628068e+06</td>\n",
       "      <td>27625.000000</td>\n",
       "      <td>13.018182</td>\n",
       "      <td>2.704545</td>\n",
       "      <td>130.318182</td>\n",
       "      <td>0.130182</td>\n",
       "      <td>3.246021e+06</td>\n",
       "    </tr>\n",
       "    <tr>\n",
       "      <th>std</th>\n",
       "      <td>1.718896e+06</td>\n",
       "      <td>10152.995319</td>\n",
       "      <td>9.466963</td>\n",
       "      <td>3.231959</td>\n",
       "      <td>38.123284</td>\n",
       "      <td>0.094670</td>\n",
       "      <td>1.591004e+06</td>\n",
       "    </tr>\n",
       "    <tr>\n",
       "      <th>min</th>\n",
       "      <td>6.150000e+05</td>\n",
       "      <td>6500.000000</td>\n",
       "      <td>0.700000</td>\n",
       "      <td>-1.000000</td>\n",
       "      <td>36.000000</td>\n",
       "      <td>0.007000</td>\n",
       "      <td>5.452128e+05</td>\n",
       "    </tr>\n",
       "    <tr>\n",
       "      <th>25%</th>\n",
       "      <td>2.572500e+06</td>\n",
       "      <td>21625.000000</td>\n",
       "      <td>7.025000</td>\n",
       "      <td>-1.000000</td>\n",
       "      <td>106.000000</td>\n",
       "      <td>0.070250</td>\n",
       "      <td>2.192265e+06</td>\n",
       "    </tr>\n",
       "    <tr>\n",
       "      <th>50%</th>\n",
       "      <td>3.375000e+06</td>\n",
       "      <td>27450.000000</td>\n",
       "      <td>11.100000</td>\n",
       "      <td>4.000000</td>\n",
       "      <td>124.500000</td>\n",
       "      <td>0.111000</td>\n",
       "      <td>2.991018e+06</td>\n",
       "    </tr>\n",
       "    <tr>\n",
       "      <th>75%</th>\n",
       "      <td>4.697500e+06</td>\n",
       "      <td>35100.000000</td>\n",
       "      <td>16.700000</td>\n",
       "      <td>5.000000</td>\n",
       "      <td>160.000000</td>\n",
       "      <td>0.167000</td>\n",
       "      <td>4.336270e+06</td>\n",
       "    </tr>\n",
       "    <tr>\n",
       "      <th>max</th>\n",
       "      <td>7.325000e+06</td>\n",
       "      <td>50200.000000</td>\n",
       "      <td>43.300000</td>\n",
       "      <td>8.000000</td>\n",
       "      <td>205.000000</td>\n",
       "      <td>0.433000</td>\n",
       "      <td>6.742640e+06</td>\n",
       "    </tr>\n",
       "  </tbody>\n",
       "</table>\n",
       "</div>"
      ],
      "text/plain": [
       "         b_price_kr  b_price_m2_kr  b_sale_rslt   amt_room      kvm_m2  \\\n",
       "count  4.400000e+01      44.000000    44.000000  44.000000   44.000000   \n",
       "mean   3.628068e+06   27625.000000    13.018182   2.704545  130.318182   \n",
       "std    1.718896e+06   10152.995319     9.466963   3.231959   38.123284   \n",
       "min    6.150000e+05    6500.000000     0.700000  -1.000000   36.000000   \n",
       "25%    2.572500e+06   21625.000000     7.025000  -1.000000  106.000000   \n",
       "50%    3.375000e+06   27450.000000    11.100000   4.000000  124.500000   \n",
       "75%    4.697500e+06   35100.000000    16.700000   5.000000  160.000000   \n",
       "max    7.325000e+06   50200.000000    43.300000   8.000000  205.000000   \n",
       "\n",
       "       ack_calc_res  starting_price  \n",
       "count     44.000000    4.400000e+01  \n",
       "mean       0.130182    3.246021e+06  \n",
       "std        0.094670    1.591004e+06  \n",
       "min        0.007000    5.452128e+05  \n",
       "25%        0.070250    2.192265e+06  \n",
       "50%        0.111000    2.991018e+06  \n",
       "75%        0.167000    4.336270e+06  \n",
       "max        0.433000    6.742640e+06  "
      ]
     },
     "execution_count": 320,
     "metadata": {},
     "output_type": "execute_result"
    }
   ],
   "source": [
    "big_prof_last.describe()"
   ]
  },
  {
   "cell_type": "code",
   "execution_count": 234,
   "id": "68521c7a",
   "metadata": {},
   "outputs": [
    {
     "data": {
      "text/plain": [
       "3267650.0"
      ]
     },
     "execution_count": 234,
     "metadata": {},
     "output_type": "execute_result"
    }
   ],
   "source": [
    "big_profit_sales.starting_price.median()"
   ]
  },
  {
   "cell_type": "code",
   "execution_count": 316,
   "id": "640a6a1d",
   "metadata": {
    "scrolled": true
   },
   "outputs": [
    {
     "data": {
      "text/plain": [
       "133.3684210526316"
      ]
     },
     "execution_count": 316,
     "metadata": {},
     "output_type": "execute_result"
    }
   ],
   "source": [
    "# medel kvadratmeter\n",
    "big_profit_sales.kvm_m2.mean()"
   ]
  },
  {
   "cell_type": "markdown",
   "id": "ecc8b5cc",
   "metadata": {},
   "source": [
    "### Medelpris för de hus som gått ner i värde :"
   ]
  },
  {
   "cell_type": "code",
   "execution_count": 313,
   "id": "2e540c21",
   "metadata": {
    "scrolled": true
   },
   "outputs": [
    {
     "data": {
      "text/plain": [
       "3298969.0721649486"
      ]
     },
     "execution_count": 313,
     "metadata": {},
     "output_type": "execute_result"
    }
   ],
   "source": [
    "low_prof_last.starting_price.median()"
   ]
  },
  {
   "cell_type": "code",
   "execution_count": 318,
   "id": "8fa43ba8",
   "metadata": {},
   "outputs": [
    {
     "data": {
      "text/plain": [
       "137.45283018867926"
      ]
     },
     "execution_count": 318,
     "metadata": {},
     "output_type": "execute_result"
    }
   ],
   "source": [
    "low_prof_last.kvm_m2.mean()"
   ]
  },
  {
   "cell_type": "code",
   "execution_count": 319,
   "id": "2f738e17",
   "metadata": {
    "scrolled": true
   },
   "outputs": [
    {
     "data": {
      "text/html": [
       "<div>\n",
       "<style scoped>\n",
       "    .dataframe tbody tr th:only-of-type {\n",
       "        vertical-align: middle;\n",
       "    }\n",
       "\n",
       "    .dataframe tbody tr th {\n",
       "        vertical-align: top;\n",
       "    }\n",
       "\n",
       "    .dataframe thead th {\n",
       "        text-align: right;\n",
       "    }\n",
       "</style>\n",
       "<table border=\"1\" class=\"dataframe\">\n",
       "  <thead>\n",
       "    <tr style=\"text-align: right;\">\n",
       "      <th></th>\n",
       "      <th>b_price_kr</th>\n",
       "      <th>b_price_m2_kr</th>\n",
       "      <th>b_sale_rslt</th>\n",
       "      <th>amt_room</th>\n",
       "      <th>kvm_m2</th>\n",
       "      <th>ack_calc_res</th>\n",
       "      <th>starting_price</th>\n",
       "    </tr>\n",
       "  </thead>\n",
       "  <tbody>\n",
       "    <tr>\n",
       "      <th>count</th>\n",
       "      <td>6.000000e+00</td>\n",
       "      <td>6.000000</td>\n",
       "      <td>6.0</td>\n",
       "      <td>6.000000</td>\n",
       "      <td>6.000000</td>\n",
       "      <td>6.0</td>\n",
       "      <td>6.000000e+00</td>\n",
       "    </tr>\n",
       "    <tr>\n",
       "      <th>mean</th>\n",
       "      <td>3.346667e+06</td>\n",
       "      <td>27600.000000</td>\n",
       "      <td>0.0</td>\n",
       "      <td>1.333333</td>\n",
       "      <td>126.833333</td>\n",
       "      <td>0.0</td>\n",
       "      <td>3.346667e+06</td>\n",
       "    </tr>\n",
       "    <tr>\n",
       "      <th>std</th>\n",
       "      <td>1.385463e+06</td>\n",
       "      <td>13569.672067</td>\n",
       "      <td>0.0</td>\n",
       "      <td>3.614784</td>\n",
       "      <td>21.867022</td>\n",
       "      <td>0.0</td>\n",
       "      <td>1.385463e+06</td>\n",
       "    </tr>\n",
       "    <tr>\n",
       "      <th>min</th>\n",
       "      <td>9.500000e+05</td>\n",
       "      <td>7600.000000</td>\n",
       "      <td>0.0</td>\n",
       "      <td>-1.000000</td>\n",
       "      <td>98.000000</td>\n",
       "      <td>0.0</td>\n",
       "      <td>9.500000e+05</td>\n",
       "    </tr>\n",
       "    <tr>\n",
       "      <th>25%</th>\n",
       "      <td>2.770000e+06</td>\n",
       "      <td>19000.000000</td>\n",
       "      <td>0.0</td>\n",
       "      <td>-1.000000</td>\n",
       "      <td>116.000000</td>\n",
       "      <td>0.0</td>\n",
       "      <td>2.770000e+06</td>\n",
       "    </tr>\n",
       "    <tr>\n",
       "      <th>50%</th>\n",
       "      <td>3.870000e+06</td>\n",
       "      <td>30350.000000</td>\n",
       "      <td>0.0</td>\n",
       "      <td>-1.000000</td>\n",
       "      <td>123.500000</td>\n",
       "      <td>0.0</td>\n",
       "      <td>3.870000e+06</td>\n",
       "    </tr>\n",
       "    <tr>\n",
       "      <th>75%</th>\n",
       "      <td>4.332500e+06</td>\n",
       "      <td>37425.000000</td>\n",
       "      <td>0.0</td>\n",
       "      <td>4.250000</td>\n",
       "      <td>137.000000</td>\n",
       "      <td>0.0</td>\n",
       "      <td>4.332500e+06</td>\n",
       "    </tr>\n",
       "    <tr>\n",
       "      <th>max</th>\n",
       "      <td>4.500000e+06</td>\n",
       "      <td>42300.000000</td>\n",
       "      <td>0.0</td>\n",
       "      <td>6.000000</td>\n",
       "      <td>161.000000</td>\n",
       "      <td>0.0</td>\n",
       "      <td>4.500000e+06</td>\n",
       "    </tr>\n",
       "  </tbody>\n",
       "</table>\n",
       "</div>"
      ],
      "text/plain": [
       "         b_price_kr  b_price_m2_kr  b_sale_rslt  amt_room      kvm_m2  \\\n",
       "count  6.000000e+00       6.000000          6.0  6.000000    6.000000   \n",
       "mean   3.346667e+06   27600.000000          0.0  1.333333  126.833333   \n",
       "std    1.385463e+06   13569.672067          0.0  3.614784   21.867022   \n",
       "min    9.500000e+05    7600.000000          0.0 -1.000000   98.000000   \n",
       "25%    2.770000e+06   19000.000000          0.0 -1.000000  116.000000   \n",
       "50%    3.870000e+06   30350.000000          0.0 -1.000000  123.500000   \n",
       "75%    4.332500e+06   37425.000000          0.0  4.250000  137.000000   \n",
       "max    4.500000e+06   42300.000000          0.0  6.000000  161.000000   \n",
       "\n",
       "       ack_calc_res  starting_price  \n",
       "count           6.0    6.000000e+00  \n",
       "mean            0.0    3.346667e+06  \n",
       "std             0.0    1.385463e+06  \n",
       "min             0.0    9.500000e+05  \n",
       "25%             0.0    2.770000e+06  \n",
       "50%             0.0    3.870000e+06  \n",
       "75%             0.0    4.332500e+06  \n",
       "max             0.0    4.500000e+06  "
      ]
     },
     "execution_count": 319,
     "metadata": {},
     "output_type": "execute_result"
    }
   ],
   "source": [
    "zero_profit_sales.describe()"
   ]
  },
  {
   "cell_type": "code",
   "execution_count": null,
   "id": "69238e40",
   "metadata": {},
   "outputs": [],
   "source": []
  },
  {
   "cell_type": "code",
   "execution_count": 206,
   "id": "9ec86c39",
   "metadata": {
    "scrolled": true
   },
   "outputs": [
    {
     "data": {
      "text/plain": [
       "2972500.0"
      ]
     },
     "execution_count": 206,
     "metadata": {},
     "output_type": "execute_result"
    }
   ],
   "source": [
    "zero_profit_sales.starting_price.median()"
   ]
  },
  {
   "cell_type": "code",
   "execution_count": 221,
   "id": "01c002e5",
   "metadata": {},
   "outputs": [
    {
     "data": {
      "text/plain": [
       "139.0625"
      ]
     },
     "execution_count": 221,
     "metadata": {},
     "output_type": "execute_result"
    }
   ],
   "source": [
    "zero_profit_sales.kv_m.mean()"
   ]
  },
  {
   "cell_type": "code",
   "execution_count": 229,
   "id": "cde2cec7",
   "metadata": {},
   "outputs": [
    {
     "data": {
      "text/html": [
       "<div>\n",
       "<style scoped>\n",
       "    .dataframe tbody tr th:only-of-type {\n",
       "        vertical-align: middle;\n",
       "    }\n",
       "\n",
       "    .dataframe tbody tr th {\n",
       "        vertical-align: top;\n",
       "    }\n",
       "\n",
       "    .dataframe thead th {\n",
       "        text-align: right;\n",
       "    }\n",
       "</style>\n",
       "<table border=\"1\" class=\"dataframe\">\n",
       "  <thead>\n",
       "    <tr style=\"text-align: right;\">\n",
       "      <th></th>\n",
       "      <th>b_price_kr</th>\n",
       "      <th>b_sale_rslt</th>\n",
       "      <th>ant_rum</th>\n",
       "      <th>kvm_kr_m2</th>\n",
       "      <th>kv_m</th>\n",
       "      <th>ack_calc_res</th>\n",
       "      <th>starting_price</th>\n",
       "    </tr>\n",
       "  </thead>\n",
       "  <tbody>\n",
       "    <tr>\n",
       "      <th>count</th>\n",
       "      <td>2.900000e+01</td>\n",
       "      <td>29.000000</td>\n",
       "      <td>29.000000</td>\n",
       "      <td>29.000000</td>\n",
       "      <td>29.000000</td>\n",
       "      <td>29.000000</td>\n",
       "      <td>2.900000e+01</td>\n",
       "    </tr>\n",
       "    <tr>\n",
       "      <th>mean</th>\n",
       "      <td>3.204138e+06</td>\n",
       "      <td>-6.603448</td>\n",
       "      <td>5.068966</td>\n",
       "      <td>24486.206897</td>\n",
       "      <td>132.620690</td>\n",
       "      <td>-0.066034</td>\n",
       "      <td>3.374929e+06</td>\n",
       "    </tr>\n",
       "    <tr>\n",
       "      <th>std</th>\n",
       "      <td>1.271346e+06</td>\n",
       "      <td>5.281537</td>\n",
       "      <td>1.334462</td>\n",
       "      <td>8672.605645</td>\n",
       "      <td>40.263785</td>\n",
       "      <td>0.052815</td>\n",
       "      <td>1.289800e+06</td>\n",
       "    </tr>\n",
       "    <tr>\n",
       "      <th>min</th>\n",
       "      <td>4.200000e+05</td>\n",
       "      <td>-23.600000</td>\n",
       "      <td>2.000000</td>\n",
       "      <td>6900.000000</td>\n",
       "      <td>61.000000</td>\n",
       "      <td>-0.236000</td>\n",
       "      <td>5.191200e+05</td>\n",
       "    </tr>\n",
       "    <tr>\n",
       "      <th>25%</th>\n",
       "      <td>2.550000e+06</td>\n",
       "      <td>-8.000000</td>\n",
       "      <td>4.000000</td>\n",
       "      <td>19800.000000</td>\n",
       "      <td>109.000000</td>\n",
       "      <td>-0.080000</td>\n",
       "      <td>2.693725e+06</td>\n",
       "    </tr>\n",
       "    <tr>\n",
       "      <th>50%</th>\n",
       "      <td>3.200000e+06</td>\n",
       "      <td>-5.400000</td>\n",
       "      <td>5.000000</td>\n",
       "      <td>26400.000000</td>\n",
       "      <td>122.000000</td>\n",
       "      <td>-0.054000</td>\n",
       "      <td>3.484800e+06</td>\n",
       "    </tr>\n",
       "    <tr>\n",
       "      <th>75%</th>\n",
       "      <td>4.100000e+06</td>\n",
       "      <td>-3.000000</td>\n",
       "      <td>6.000000</td>\n",
       "      <td>31100.000000</td>\n",
       "      <td>156.000000</td>\n",
       "      <td>-0.030000</td>\n",
       "      <td>4.305400e+06</td>\n",
       "    </tr>\n",
       "    <tr>\n",
       "      <th>max</th>\n",
       "      <td>5.200000e+06</td>\n",
       "      <td>-0.700000</td>\n",
       "      <td>8.000000</td>\n",
       "      <td>40400.000000</td>\n",
       "      <td>260.000000</td>\n",
       "      <td>-0.007000</td>\n",
       "      <td>5.480800e+06</td>\n",
       "    </tr>\n",
       "  </tbody>\n",
       "</table>\n",
       "</div>"
      ],
      "text/plain": [
       "         b_price_kr  b_sale_rslt    ant_rum     kvm_kr_m2        kv_m  \\\n",
       "count  2.900000e+01    29.000000  29.000000     29.000000   29.000000   \n",
       "mean   3.204138e+06    -6.603448   5.068966  24486.206897  132.620690   \n",
       "std    1.271346e+06     5.281537   1.334462   8672.605645   40.263785   \n",
       "min    4.200000e+05   -23.600000   2.000000   6900.000000   61.000000   \n",
       "25%    2.550000e+06    -8.000000   4.000000  19800.000000  109.000000   \n",
       "50%    3.200000e+06    -5.400000   5.000000  26400.000000  122.000000   \n",
       "75%    4.100000e+06    -3.000000   6.000000  31100.000000  156.000000   \n",
       "max    5.200000e+06    -0.700000   8.000000  40400.000000  260.000000   \n",
       "\n",
       "       ack_calc_res  starting_price  \n",
       "count     29.000000    2.900000e+01  \n",
       "mean      -0.066034    3.374929e+06  \n",
       "std        0.052815    1.289800e+06  \n",
       "min       -0.236000    5.191200e+05  \n",
       "25%       -0.080000    2.693725e+06  \n",
       "50%       -0.054000    3.484800e+06  \n",
       "75%       -0.030000    4.305400e+06  \n",
       "max       -0.007000    5.480800e+06  "
      ]
     },
     "execution_count": 229,
     "metadata": {},
     "output_type": "execute_result"
    }
   ],
   "source": [
    "low_profit_sales.describe()"
   ]
  },
  {
   "cell_type": "code",
   "execution_count": 207,
   "id": "9d06dcee",
   "metadata": {},
   "outputs": [
    {
     "data": {
      "text/plain": [
       "3583600.0"
      ]
     },
     "execution_count": 207,
     "metadata": {},
     "output_type": "execute_result"
    }
   ],
   "source": [
    "low_profit_sales.starting_price.median()"
   ]
  },
  {
   "cell_type": "code",
   "execution_count": 222,
   "id": "349318ba",
   "metadata": {},
   "outputs": [
    {
     "data": {
      "text/plain": [
       "137.4935064935065"
      ]
     },
     "execution_count": 222,
     "metadata": {},
     "output_type": "execute_result"
    }
   ],
   "source": [
    "low_profit_sales.kv_m.mean()"
   ]
  },
  {
   "cell_type": "code",
   "execution_count": 256,
   "id": "a2021297",
   "metadata": {
    "scrolled": true
   },
   "outputs": [
    {
     "data": {
      "text/html": [
       "<div>\n",
       "<style scoped>\n",
       "    .dataframe tbody tr th:only-of-type {\n",
       "        vertical-align: middle;\n",
       "    }\n",
       "\n",
       "    .dataframe tbody tr th {\n",
       "        vertical-align: top;\n",
       "    }\n",
       "\n",
       "    .dataframe thead th {\n",
       "        text-align: right;\n",
       "    }\n",
       "</style>\n",
       "<table border=\"1\" class=\"dataframe\">\n",
       "  <thead>\n",
       "    <tr style=\"text-align: right;\">\n",
       "      <th></th>\n",
       "      <th>b_loc</th>\n",
       "      <th>b_price_kr</th>\n",
       "      <th>b_sale_rslt</th>\n",
       "      <th>b_sale_date</th>\n",
       "      <th>ant_rum</th>\n",
       "      <th>kvm_kr_m2</th>\n",
       "      <th>kv_m</th>\n",
       "      <th>ack_calc_res</th>\n",
       "      <th>starting_price</th>\n",
       "    </tr>\n",
       "  </thead>\n",
       "  <tbody>\n",
       "    <tr>\n",
       "      <th>8</th>\n",
       "      <td>Sjogerstad Mariedal</td>\n",
       "      <td>2550000</td>\n",
       "      <td>-8.8</td>\n",
       "      <td>2022-07-08</td>\n",
       "      <td>4</td>\n",
       "      <td>22200</td>\n",
       "      <td>115</td>\n",
       "      <td>-0.088</td>\n",
       "      <td>2774400.0</td>\n",
       "    </tr>\n",
       "    <tr>\n",
       "      <th>11</th>\n",
       "      <td>Skolvägen 9</td>\n",
       "      <td>2100000</td>\n",
       "      <td>-12.3</td>\n",
       "      <td>2022-07-04</td>\n",
       "      <td>-1</td>\n",
       "      <td>16200</td>\n",
       "      <td>130</td>\n",
       "      <td>-0.123</td>\n",
       "      <td>2358300.0</td>\n",
       "    </tr>\n",
       "    <tr>\n",
       "      <th>13</th>\n",
       "      <td>Klagstorpsvägen 21</td>\n",
       "      <td>3200000</td>\n",
       "      <td>-3.0</td>\n",
       "      <td>2022-07-02</td>\n",
       "      <td>7</td>\n",
       "      <td>20600</td>\n",
       "      <td>155</td>\n",
       "      <td>-0.030</td>\n",
       "      <td>3296000.0</td>\n",
       "    </tr>\n",
       "    <tr>\n",
       "      <th>14</th>\n",
       "      <td>Västerleden 13</td>\n",
       "      <td>2000000</td>\n",
       "      <td>-8.0</td>\n",
       "      <td>2022-07-01</td>\n",
       "      <td>6</td>\n",
       "      <td>19400</td>\n",
       "      <td>103</td>\n",
       "      <td>-0.080</td>\n",
       "      <td>2160000.0</td>\n",
       "    </tr>\n",
       "    <tr>\n",
       "      <th>16</th>\n",
       "      <td>Jon Måns väg 12</td>\n",
       "      <td>3400000</td>\n",
       "      <td>-5.4</td>\n",
       "      <td>2022-06-30</td>\n",
       "      <td>8</td>\n",
       "      <td>27600</td>\n",
       "      <td>123</td>\n",
       "      <td>-0.054</td>\n",
       "      <td>3583600.0</td>\n",
       "    </tr>\n",
       "    <tr>\n",
       "      <th>17</th>\n",
       "      <td>Stationsvägen 16A</td>\n",
       "      <td>2400000</td>\n",
       "      <td>-3.8</td>\n",
       "      <td>2022-06-30</td>\n",
       "      <td>5</td>\n",
       "      <td>19800</td>\n",
       "      <td>121</td>\n",
       "      <td>-0.038</td>\n",
       "      <td>2491200.0</td>\n",
       "    </tr>\n",
       "    <tr>\n",
       "      <th>19</th>\n",
       "      <td>Stationsvägen 6</td>\n",
       "      <td>3100000</td>\n",
       "      <td>-5.9</td>\n",
       "      <td>2022-06-24</td>\n",
       "      <td>7</td>\n",
       "      <td>11900</td>\n",
       "      <td>260</td>\n",
       "      <td>-0.059</td>\n",
       "      <td>3282900.0</td>\n",
       "    </tr>\n",
       "    <tr>\n",
       "      <th>23</th>\n",
       "      <td>Svedjevägen 3</td>\n",
       "      <td>3300000</td>\n",
       "      <td>-5.6</td>\n",
       "      <td>2022-06-18</td>\n",
       "      <td>6</td>\n",
       "      <td>26400</td>\n",
       "      <td>125</td>\n",
       "      <td>-0.056</td>\n",
       "      <td>3484800.0</td>\n",
       "    </tr>\n",
       "    <tr>\n",
       "      <th>24</th>\n",
       "      <td>Orkidévägen 2</td>\n",
       "      <td>2900000</td>\n",
       "      <td>-9.4</td>\n",
       "      <td>2022-06-17</td>\n",
       "      <td>4</td>\n",
       "      <td>24800</td>\n",
       "      <td>117</td>\n",
       "      <td>-0.094</td>\n",
       "      <td>3172600.0</td>\n",
       "    </tr>\n",
       "    <tr>\n",
       "      <th>29</th>\n",
       "      <td>Esbjörntorp Storegården 1</td>\n",
       "      <td>2800000</td>\n",
       "      <td>-6.0</td>\n",
       "      <td>2022-06-15</td>\n",
       "      <td>-1</td>\n",
       "      <td>17000</td>\n",
       "      <td>165</td>\n",
       "      <td>-0.060</td>\n",
       "      <td>2968000.0</td>\n",
       "    </tr>\n",
       "    <tr>\n",
       "      <th>30</th>\n",
       "      <td>Lördagsvägen 4</td>\n",
       "      <td>3610000</td>\n",
       "      <td>-6.0</td>\n",
       "      <td>2022-06-14</td>\n",
       "      <td>-1</td>\n",
       "      <td>27300</td>\n",
       "      <td>132</td>\n",
       "      <td>-0.060</td>\n",
       "      <td>3826600.0</td>\n",
       "    </tr>\n",
       "    <tr>\n",
       "      <th>39</th>\n",
       "      <td>Granhemsvägen 7</td>\n",
       "      <td>3750000</td>\n",
       "      <td>-6.0</td>\n",
       "      <td>2022-06-07</td>\n",
       "      <td>-1</td>\n",
       "      <td>33200</td>\n",
       "      <td>113</td>\n",
       "      <td>-0.060</td>\n",
       "      <td>3975000.0</td>\n",
       "    </tr>\n",
       "    <tr>\n",
       "      <th>46</th>\n",
       "      <td>Orrvägen 16</td>\n",
       "      <td>4875000</td>\n",
       "      <td>-1.5</td>\n",
       "      <td>2022-06-01</td>\n",
       "      <td>-1</td>\n",
       "      <td>32700</td>\n",
       "      <td>149</td>\n",
       "      <td>-0.015</td>\n",
       "      <td>4948125.0</td>\n",
       "    </tr>\n",
       "    <tr>\n",
       "      <th>50</th>\n",
       "      <td>Gärdesvägen 5</td>\n",
       "      <td>2950000</td>\n",
       "      <td>-5.0</td>\n",
       "      <td>2022-05-31</td>\n",
       "      <td>-1</td>\n",
       "      <td>24200</td>\n",
       "      <td>122</td>\n",
       "      <td>-0.050</td>\n",
       "      <td>3097500.0</td>\n",
       "    </tr>\n",
       "    <tr>\n",
       "      <th>52</th>\n",
       "      <td>Ringvägen 15</td>\n",
       "      <td>2100000</td>\n",
       "      <td>-4.3</td>\n",
       "      <td>2022-05-30</td>\n",
       "      <td>-1</td>\n",
       "      <td>16700</td>\n",
       "      <td>126</td>\n",
       "      <td>-0.043</td>\n",
       "      <td>2190300.0</td>\n",
       "    </tr>\n",
       "    <tr>\n",
       "      <th>54</th>\n",
       "      <td>Skogsbovägen 9</td>\n",
       "      <td>3080000</td>\n",
       "      <td>-6.7</td>\n",
       "      <td>2022-05-25</td>\n",
       "      <td>4</td>\n",
       "      <td>30200</td>\n",
       "      <td>102</td>\n",
       "      <td>-0.067</td>\n",
       "      <td>3286360.0</td>\n",
       "    </tr>\n",
       "    <tr>\n",
       "      <th>55</th>\n",
       "      <td>Höskullevägen 24</td>\n",
       "      <td>5100000</td>\n",
       "      <td>-3.7</td>\n",
       "      <td>2022-05-25</td>\n",
       "      <td>-1</td>\n",
       "      <td>34700</td>\n",
       "      <td>147</td>\n",
       "      <td>-0.037</td>\n",
       "      <td>5288700.0</td>\n",
       "    </tr>\n",
       "    <tr>\n",
       "      <th>57</th>\n",
       "      <td>Talgoxevägen 15</td>\n",
       "      <td>5775000</td>\n",
       "      <td>-2.9</td>\n",
       "      <td>2022-05-24</td>\n",
       "      <td>-1</td>\n",
       "      <td>24400</td>\n",
       "      <td>237</td>\n",
       "      <td>-0.029</td>\n",
       "      <td>5942475.0</td>\n",
       "    </tr>\n",
       "    <tr>\n",
       "      <th>60</th>\n",
       "      <td>Morkullevägen 9</td>\n",
       "      <td>5200000</td>\n",
       "      <td>-3.6</td>\n",
       "      <td>2022-05-23</td>\n",
       "      <td>7</td>\n",
       "      <td>28600</td>\n",
       "      <td>182</td>\n",
       "      <td>-0.036</td>\n",
       "      <td>5387200.0</td>\n",
       "    </tr>\n",
       "    <tr>\n",
       "      <th>61</th>\n",
       "      <td>Fornminnesvägen 2</td>\n",
       "      <td>2800000</td>\n",
       "      <td>-6.5</td>\n",
       "      <td>2022-05-23</td>\n",
       "      <td>-1</td>\n",
       "      <td>21500</td>\n",
       "      <td>130</td>\n",
       "      <td>-0.065</td>\n",
       "      <td>2982000.0</td>\n",
       "    </tr>\n",
       "    <tr>\n",
       "      <th>63</th>\n",
       "      <td>Nedergårdsvägen 19</td>\n",
       "      <td>4200000</td>\n",
       "      <td>-5.6</td>\n",
       "      <td>2022-05-20</td>\n",
       "      <td>6</td>\n",
       "      <td>31100</td>\n",
       "      <td>135</td>\n",
       "      <td>-0.056</td>\n",
       "      <td>4435200.0</td>\n",
       "    </tr>\n",
       "    <tr>\n",
       "      <th>65</th>\n",
       "      <td>Hökugglevägen 9</td>\n",
       "      <td>4300000</td>\n",
       "      <td>-5.0</td>\n",
       "      <td>2022-05-18</td>\n",
       "      <td>-1</td>\n",
       "      <td>26900</td>\n",
       "      <td>160</td>\n",
       "      <td>-0.050</td>\n",
       "      <td>4515000.0</td>\n",
       "    </tr>\n",
       "    <tr>\n",
       "      <th>67</th>\n",
       "      <td>Flugsnapparvägen 1</td>\n",
       "      <td>3850000</td>\n",
       "      <td>-5.0</td>\n",
       "      <td>2022-05-13</td>\n",
       "      <td>-1</td>\n",
       "      <td>18300</td>\n",
       "      <td>210</td>\n",
       "      <td>-0.050</td>\n",
       "      <td>4042500.0</td>\n",
       "    </tr>\n",
       "    <tr>\n",
       "      <th>70</th>\n",
       "      <td>Sjogerstad Vidablick</td>\n",
       "      <td>2920000</td>\n",
       "      <td>-5.7</td>\n",
       "      <td>2022-05-09</td>\n",
       "      <td>4</td>\n",
       "      <td>26800</td>\n",
       "      <td>109</td>\n",
       "      <td>-0.057</td>\n",
       "      <td>3086440.0</td>\n",
       "    </tr>\n",
       "    <tr>\n",
       "      <th>71</th>\n",
       "      <td>Knopstigen 2</td>\n",
       "      <td>3700000</td>\n",
       "      <td>-5.0</td>\n",
       "      <td>2022-05-06</td>\n",
       "      <td>-1</td>\n",
       "      <td>37000</td>\n",
       "      <td>100</td>\n",
       "      <td>-0.050</td>\n",
       "      <td>3885000.0</td>\n",
       "    </tr>\n",
       "    <tr>\n",
       "      <th>74</th>\n",
       "      <td>Forsby Lillegården 9</td>\n",
       "      <td>4150000</td>\n",
       "      <td>-5.0</td>\n",
       "      <td>2022-05-04</td>\n",
       "      <td>-1</td>\n",
       "      <td>22100</td>\n",
       "      <td>188</td>\n",
       "      <td>-0.050</td>\n",
       "      <td>4357500.0</td>\n",
       "    </tr>\n",
       "    <tr>\n",
       "      <th>77</th>\n",
       "      <td>Claesborgsvägen 8</td>\n",
       "      <td>3700000</td>\n",
       "      <td>-5.0</td>\n",
       "      <td>2022-05-02</td>\n",
       "      <td>-1</td>\n",
       "      <td>33600</td>\n",
       "      <td>110</td>\n",
       "      <td>-0.050</td>\n",
       "      <td>3885000.0</td>\n",
       "    </tr>\n",
       "    <tr>\n",
       "      <th>78</th>\n",
       "      <td>Tjädervägen 12</td>\n",
       "      <td>5645000</td>\n",
       "      <td>-5.0</td>\n",
       "      <td>2022-05-02</td>\n",
       "      <td>-1</td>\n",
       "      <td>32400</td>\n",
       "      <td>174</td>\n",
       "      <td>-0.050</td>\n",
       "      <td>5927250.0</td>\n",
       "    </tr>\n",
       "    <tr>\n",
       "      <th>79</th>\n",
       "      <td>Lunnadalsvägen 5</td>\n",
       "      <td>4500000</td>\n",
       "      <td>-5.0</td>\n",
       "      <td>2022-05-02</td>\n",
       "      <td>-1</td>\n",
       "      <td>35400</td>\n",
       "      <td>127</td>\n",
       "      <td>-0.050</td>\n",
       "      <td>4725000.0</td>\n",
       "    </tr>\n",
       "    <tr>\n",
       "      <th>80</th>\n",
       "      <td>Stubbvägen 2</td>\n",
       "      <td>3300000</td>\n",
       "      <td>-8.2</td>\n",
       "      <td>2022-04-30</td>\n",
       "      <td>-1</td>\n",
       "      <td>28700</td>\n",
       "      <td>115</td>\n",
       "      <td>-0.082</td>\n",
       "      <td>3570600.0</td>\n",
       "    </tr>\n",
       "    <tr>\n",
       "      <th>83</th>\n",
       "      <td>Folkungagatan 28</td>\n",
       "      <td>3400000</td>\n",
       "      <td>-2.9</td>\n",
       "      <td>2022-04-25</td>\n",
       "      <td>4</td>\n",
       "      <td>28800</td>\n",
       "      <td>118</td>\n",
       "      <td>-0.029</td>\n",
       "      <td>3498600.0</td>\n",
       "    </tr>\n",
       "    <tr>\n",
       "      <th>86</th>\n",
       "      <td>Kaplansgatan 6</td>\n",
       "      <td>4300000</td>\n",
       "      <td>-3.9</td>\n",
       "      <td>2022-04-20</td>\n",
       "      <td>6</td>\n",
       "      <td>23900</td>\n",
       "      <td>180</td>\n",
       "      <td>-0.039</td>\n",
       "      <td>4467700.0</td>\n",
       "    </tr>\n",
       "    <tr>\n",
       "      <th>91</th>\n",
       "      <td>Granängsvägen 23</td>\n",
       "      <td>2900000</td>\n",
       "      <td>-4.0</td>\n",
       "      <td>2022-04-13</td>\n",
       "      <td>-1</td>\n",
       "      <td>23000</td>\n",
       "      <td>126</td>\n",
       "      <td>-0.040</td>\n",
       "      <td>3016000.0</td>\n",
       "    </tr>\n",
       "    <tr>\n",
       "      <th>93</th>\n",
       "      <td>Stjärnvägen 13</td>\n",
       "      <td>3800000</td>\n",
       "      <td>-13.3</td>\n",
       "      <td>2022-04-07</td>\n",
       "      <td>5</td>\n",
       "      <td>25900</td>\n",
       "      <td>147</td>\n",
       "      <td>-0.133</td>\n",
       "      <td>4305400.0</td>\n",
       "    </tr>\n",
       "    <tr>\n",
       "      <th>96</th>\n",
       "      <td>Gamla Törebodavägen Espelund</td>\n",
       "      <td>5150000</td>\n",
       "      <td>-4.0</td>\n",
       "      <td>2022-04-05</td>\n",
       "      <td>-1</td>\n",
       "      <td>39600</td>\n",
       "      <td>130</td>\n",
       "      <td>-0.040</td>\n",
       "      <td>5356000.0</td>\n",
       "    </tr>\n",
       "    <tr>\n",
       "      <th>102</th>\n",
       "      <td>Högklintsvägen 9</td>\n",
       "      <td>7650000</td>\n",
       "      <td>-1.7</td>\n",
       "      <td>2022-04-01</td>\n",
       "      <td>-1</td>\n",
       "      <td>31900</td>\n",
       "      <td>240</td>\n",
       "      <td>-0.017</td>\n",
       "      <td>7780050.0</td>\n",
       "    </tr>\n",
       "    <tr>\n",
       "      <th>103</th>\n",
       "      <td>Flugsnapparvägen 5</td>\n",
       "      <td>3000000</td>\n",
       "      <td>-4.0</td>\n",
       "      <td>2022-04-01</td>\n",
       "      <td>-1</td>\n",
       "      <td>18600</td>\n",
       "      <td>161</td>\n",
       "      <td>-0.040</td>\n",
       "      <td>3120000.0</td>\n",
       "    </tr>\n",
       "    <tr>\n",
       "      <th>105</th>\n",
       "      <td>Tåstorp Västergården</td>\n",
       "      <td>2200000</td>\n",
       "      <td>-4.0</td>\n",
       "      <td>2022-04-01</td>\n",
       "      <td>-1</td>\n",
       "      <td>14700</td>\n",
       "      <td>150</td>\n",
       "      <td>-0.040</td>\n",
       "      <td>2288000.0</td>\n",
       "    </tr>\n",
       "    <tr>\n",
       "      <th>106</th>\n",
       "      <td>Binneberg Missionshuset</td>\n",
       "      <td>2000000</td>\n",
       "      <td>-4.0</td>\n",
       "      <td>2022-04-01</td>\n",
       "      <td>-1</td>\n",
       "      <td>13900</td>\n",
       "      <td>144</td>\n",
       "      <td>-0.040</td>\n",
       "      <td>2080000.0</td>\n",
       "    </tr>\n",
       "    <tr>\n",
       "      <th>108</th>\n",
       "      <td>Kamomillvägen 12</td>\n",
       "      <td>4450000</td>\n",
       "      <td>-3.0</td>\n",
       "      <td>2022-03-31</td>\n",
       "      <td>5</td>\n",
       "      <td>29300</td>\n",
       "      <td>152</td>\n",
       "      <td>-0.030</td>\n",
       "      <td>4583500.0</td>\n",
       "    </tr>\n",
       "    <tr>\n",
       "      <th>110</th>\n",
       "      <td>Forsby Nylund</td>\n",
       "      <td>3625000</td>\n",
       "      <td>-3.0</td>\n",
       "      <td>2022-03-29</td>\n",
       "      <td>5</td>\n",
       "      <td>31300</td>\n",
       "      <td>116</td>\n",
       "      <td>-0.030</td>\n",
       "      <td>3733750.0</td>\n",
       "    </tr>\n",
       "    <tr>\n",
       "      <th>111</th>\n",
       "      <td>Kärleksstigen 17</td>\n",
       "      <td>2350000</td>\n",
       "      <td>-10.5</td>\n",
       "      <td>2022-03-29</td>\n",
       "      <td>-1</td>\n",
       "      <td>14000</td>\n",
       "      <td>168</td>\n",
       "      <td>-0.105</td>\n",
       "      <td>2596750.0</td>\n",
       "    </tr>\n",
       "    <tr>\n",
       "      <th>112</th>\n",
       "      <td>Smedjevägen 10</td>\n",
       "      <td>4100000</td>\n",
       "      <td>-3.0</td>\n",
       "      <td>2022-03-28</td>\n",
       "      <td>5</td>\n",
       "      <td>34700</td>\n",
       "      <td>118</td>\n",
       "      <td>-0.030</td>\n",
       "      <td>4223000.0</td>\n",
       "    </tr>\n",
       "    <tr>\n",
       "      <th>116</th>\n",
       "      <td>Nässelvägen 3</td>\n",
       "      <td>4700000</td>\n",
       "      <td>-3.0</td>\n",
       "      <td>2022-03-23</td>\n",
       "      <td>-1</td>\n",
       "      <td>24500</td>\n",
       "      <td>192</td>\n",
       "      <td>-0.030</td>\n",
       "      <td>4841000.0</td>\n",
       "    </tr>\n",
       "    <tr>\n",
       "      <th>119</th>\n",
       "      <td>Sverkilsvägen 16</td>\n",
       "      <td>4995000</td>\n",
       "      <td>-3.0</td>\n",
       "      <td>2022-03-18</td>\n",
       "      <td>-1</td>\n",
       "      <td>30100</td>\n",
       "      <td>166</td>\n",
       "      <td>-0.030</td>\n",
       "      <td>5144850.0</td>\n",
       "    </tr>\n",
       "    <tr>\n",
       "      <th>124</th>\n",
       "      <td>Stora vägen 24</td>\n",
       "      <td>2675000</td>\n",
       "      <td>-0.7</td>\n",
       "      <td>2022-03-12</td>\n",
       "      <td>6</td>\n",
       "      <td>14400</td>\n",
       "      <td>186</td>\n",
       "      <td>-0.007</td>\n",
       "      <td>2693725.0</td>\n",
       "    </tr>\n",
       "    <tr>\n",
       "      <th>126</th>\n",
       "      <td>Egnahemsvägen 19</td>\n",
       "      <td>4620000</td>\n",
       "      <td>-3.0</td>\n",
       "      <td>2022-03-10</td>\n",
       "      <td>-1</td>\n",
       "      <td>34200</td>\n",
       "      <td>135</td>\n",
       "      <td>-0.030</td>\n",
       "      <td>4758600.0</td>\n",
       "    </tr>\n",
       "    <tr>\n",
       "      <th>133</th>\n",
       "      <td>Våmbsvägen 18</td>\n",
       "      <td>3850000</td>\n",
       "      <td>-3.0</td>\n",
       "      <td>2022-03-01</td>\n",
       "      <td>-1</td>\n",
       "      <td>27700</td>\n",
       "      <td>139</td>\n",
       "      <td>-0.030</td>\n",
       "      <td>3965500.0</td>\n",
       "    </tr>\n",
       "    <tr>\n",
       "      <th>134</th>\n",
       "      <td>Stallvägen 8</td>\n",
       "      <td>3650000</td>\n",
       "      <td>-3.0</td>\n",
       "      <td>2022-03-01</td>\n",
       "      <td>-1</td>\n",
       "      <td>23000</td>\n",
       "      <td>159</td>\n",
       "      <td>-0.030</td>\n",
       "      <td>3759500.0</td>\n",
       "    </tr>\n",
       "    <tr>\n",
       "      <th>136</th>\n",
       "      <td>Lingonstigen 33</td>\n",
       "      <td>4900000</td>\n",
       "      <td>-2.0</td>\n",
       "      <td>2022-02-28</td>\n",
       "      <td>-1</td>\n",
       "      <td>45800</td>\n",
       "      <td>107</td>\n",
       "      <td>-0.020</td>\n",
       "      <td>4998000.0</td>\n",
       "    </tr>\n",
       "    <tr>\n",
       "      <th>139</th>\n",
       "      <td>Slagugglevägen 9</td>\n",
       "      <td>4300000</td>\n",
       "      <td>-2.0</td>\n",
       "      <td>2022-02-25</td>\n",
       "      <td>-1</td>\n",
       "      <td>33100</td>\n",
       "      <td>130</td>\n",
       "      <td>-0.020</td>\n",
       "      <td>4386000.0</td>\n",
       "    </tr>\n",
       "    <tr>\n",
       "      <th>147</th>\n",
       "      <td>Maskrosvägen 17</td>\n",
       "      <td>5100000</td>\n",
       "      <td>-2.0</td>\n",
       "      <td>2022-02-10</td>\n",
       "      <td>6</td>\n",
       "      <td>32300</td>\n",
       "      <td>158</td>\n",
       "      <td>-0.020</td>\n",
       "      <td>5202000.0</td>\n",
       "    </tr>\n",
       "    <tr>\n",
       "      <th>154</th>\n",
       "      <td>Rådene Lars Arvidsgården</td>\n",
       "      <td>3700000</td>\n",
       "      <td>-2.6</td>\n",
       "      <td>2022-02-01</td>\n",
       "      <td>-1</td>\n",
       "      <td>29800</td>\n",
       "      <td>124</td>\n",
       "      <td>-0.026</td>\n",
       "      <td>3796200.0</td>\n",
       "    </tr>\n",
       "    <tr>\n",
       "      <th>160</th>\n",
       "      <td>Blåbärsstigen 26</td>\n",
       "      <td>4000000</td>\n",
       "      <td>-10.1</td>\n",
       "      <td>2022-01-27</td>\n",
       "      <td>-1</td>\n",
       "      <td>38800</td>\n",
       "      <td>103</td>\n",
       "      <td>-0.101</td>\n",
       "      <td>4404000.0</td>\n",
       "    </tr>\n",
       "    <tr>\n",
       "      <th>163</th>\n",
       "      <td>Prästgatan 14</td>\n",
       "      <td>5200000</td>\n",
       "      <td>-5.4</td>\n",
       "      <td>2022-01-20</td>\n",
       "      <td>6</td>\n",
       "      <td>32300</td>\n",
       "      <td>161</td>\n",
       "      <td>-0.054</td>\n",
       "      <td>5480800.0</td>\n",
       "    </tr>\n",
       "    <tr>\n",
       "      <th>164</th>\n",
       "      <td>Kapellgårdsgatan 3</td>\n",
       "      <td>5000000</td>\n",
       "      <td>-1.0</td>\n",
       "      <td>2022-01-14</td>\n",
       "      <td>5</td>\n",
       "      <td>32100</td>\n",
       "      <td>156</td>\n",
       "      <td>-0.010</td>\n",
       "      <td>5050000.0</td>\n",
       "    </tr>\n",
       "    <tr>\n",
       "      <th>166</th>\n",
       "      <td>Sveagatan 13</td>\n",
       "      <td>5400000</td>\n",
       "      <td>-1.0</td>\n",
       "      <td>2022-01-14</td>\n",
       "      <td>-1</td>\n",
       "      <td>30000</td>\n",
       "      <td>180</td>\n",
       "      <td>-0.010</td>\n",
       "      <td>5454000.0</td>\n",
       "    </tr>\n",
       "    <tr>\n",
       "      <th>167</th>\n",
       "      <td>Stenbocksvägen 18</td>\n",
       "      <td>6500000</td>\n",
       "      <td>-1.0</td>\n",
       "      <td>2022-01-14</td>\n",
       "      <td>-1</td>\n",
       "      <td>30400</td>\n",
       "      <td>214</td>\n",
       "      <td>-0.010</td>\n",
       "      <td>6565000.0</td>\n",
       "    </tr>\n",
       "    <tr>\n",
       "      <th>168</th>\n",
       "      <td>Segerstorpsvägen 40</td>\n",
       "      <td>4950000</td>\n",
       "      <td>-1.0</td>\n",
       "      <td>2022-01-14</td>\n",
       "      <td>-1</td>\n",
       "      <td>31700</td>\n",
       "      <td>156</td>\n",
       "      <td>-0.010</td>\n",
       "      <td>4999500.0</td>\n",
       "    </tr>\n",
       "  </tbody>\n",
       "</table>\n",
       "</div>"
      ],
      "text/plain": [
       "                            b_loc  b_price_kr  b_sale_rslt b_sale_date  \\\n",
       "8             Sjogerstad Mariedal     2550000         -8.8  2022-07-08   \n",
       "11                    Skolvägen 9     2100000        -12.3  2022-07-04   \n",
       "13             Klagstorpsvägen 21     3200000         -3.0  2022-07-02   \n",
       "14                 Västerleden 13     2000000         -8.0  2022-07-01   \n",
       "16                Jon Måns väg 12     3400000         -5.4  2022-06-30   \n",
       "17              Stationsvägen 16A     2400000         -3.8  2022-06-30   \n",
       "19                Stationsvägen 6     3100000         -5.9  2022-06-24   \n",
       "23                  Svedjevägen 3     3300000         -5.6  2022-06-18   \n",
       "24                  Orkidévägen 2     2900000         -9.4  2022-06-17   \n",
       "29      Esbjörntorp Storegården 1     2800000         -6.0  2022-06-15   \n",
       "30                 Lördagsvägen 4     3610000         -6.0  2022-06-14   \n",
       "39                Granhemsvägen 7     3750000         -6.0  2022-06-07   \n",
       "46                    Orrvägen 16     4875000         -1.5  2022-06-01   \n",
       "50                  Gärdesvägen 5     2950000         -5.0  2022-05-31   \n",
       "52                   Ringvägen 15     2100000         -4.3  2022-05-30   \n",
       "54                 Skogsbovägen 9     3080000         -6.7  2022-05-25   \n",
       "55               Höskullevägen 24     5100000         -3.7  2022-05-25   \n",
       "57                Talgoxevägen 15     5775000         -2.9  2022-05-24   \n",
       "60                Morkullevägen 9     5200000         -3.6  2022-05-23   \n",
       "61              Fornminnesvägen 2     2800000         -6.5  2022-05-23   \n",
       "63             Nedergårdsvägen 19     4200000         -5.6  2022-05-20   \n",
       "65                Hökugglevägen 9     4300000         -5.0  2022-05-18   \n",
       "67             Flugsnapparvägen 1     3850000         -5.0  2022-05-13   \n",
       "70           Sjogerstad Vidablick     2920000         -5.7  2022-05-09   \n",
       "71                   Knopstigen 2     3700000         -5.0  2022-05-06   \n",
       "74           Forsby Lillegården 9     4150000         -5.0  2022-05-04   \n",
       "77              Claesborgsvägen 8     3700000         -5.0  2022-05-02   \n",
       "78                 Tjädervägen 12     5645000         -5.0  2022-05-02   \n",
       "79               Lunnadalsvägen 5     4500000         -5.0  2022-05-02   \n",
       "80                   Stubbvägen 2     3300000         -8.2  2022-04-30   \n",
       "83               Folkungagatan 28     3400000         -2.9  2022-04-25   \n",
       "86                 Kaplansgatan 6     4300000         -3.9  2022-04-20   \n",
       "91               Granängsvägen 23     2900000         -4.0  2022-04-13   \n",
       "93                 Stjärnvägen 13     3800000        -13.3  2022-04-07   \n",
       "96   Gamla Törebodavägen Espelund     5150000         -4.0  2022-04-05   \n",
       "102              Högklintsvägen 9     7650000         -1.7  2022-04-01   \n",
       "103            Flugsnapparvägen 5     3000000         -4.0  2022-04-01   \n",
       "105          Tåstorp Västergården     2200000         -4.0  2022-04-01   \n",
       "106       Binneberg Missionshuset     2000000         -4.0  2022-04-01   \n",
       "108              Kamomillvägen 12     4450000         -3.0  2022-03-31   \n",
       "110                 Forsby Nylund     3625000         -3.0  2022-03-29   \n",
       "111              Kärleksstigen 17     2350000        -10.5  2022-03-29   \n",
       "112                Smedjevägen 10     4100000         -3.0  2022-03-28   \n",
       "116                 Nässelvägen 3     4700000         -3.0  2022-03-23   \n",
       "119              Sverkilsvägen 16     4995000         -3.0  2022-03-18   \n",
       "124                Stora vägen 24     2675000         -0.7  2022-03-12   \n",
       "126              Egnahemsvägen 19     4620000         -3.0  2022-03-10   \n",
       "133                 Våmbsvägen 18     3850000         -3.0  2022-03-01   \n",
       "134                  Stallvägen 8     3650000         -3.0  2022-03-01   \n",
       "136               Lingonstigen 33     4900000         -2.0  2022-02-28   \n",
       "139              Slagugglevägen 9     4300000         -2.0  2022-02-25   \n",
       "147               Maskrosvägen 17     5100000         -2.0  2022-02-10   \n",
       "154      Rådene Lars Arvidsgården     3700000         -2.6  2022-02-01   \n",
       "160              Blåbärsstigen 26     4000000        -10.1  2022-01-27   \n",
       "163                 Prästgatan 14     5200000         -5.4  2022-01-20   \n",
       "164            Kapellgårdsgatan 3     5000000         -1.0  2022-01-14   \n",
       "166                  Sveagatan 13     5400000         -1.0  2022-01-14   \n",
       "167             Stenbocksvägen 18     6500000         -1.0  2022-01-14   \n",
       "168           Segerstorpsvägen 40     4950000         -1.0  2022-01-14   \n",
       "\n",
       "     ant_rum  kvm_kr_m2  kv_m  ack_calc_res  starting_price  \n",
       "8          4      22200   115        -0.088       2774400.0  \n",
       "11        -1      16200   130        -0.123       2358300.0  \n",
       "13         7      20600   155        -0.030       3296000.0  \n",
       "14         6      19400   103        -0.080       2160000.0  \n",
       "16         8      27600   123        -0.054       3583600.0  \n",
       "17         5      19800   121        -0.038       2491200.0  \n",
       "19         7      11900   260        -0.059       3282900.0  \n",
       "23         6      26400   125        -0.056       3484800.0  \n",
       "24         4      24800   117        -0.094       3172600.0  \n",
       "29        -1      17000   165        -0.060       2968000.0  \n",
       "30        -1      27300   132        -0.060       3826600.0  \n",
       "39        -1      33200   113        -0.060       3975000.0  \n",
       "46        -1      32700   149        -0.015       4948125.0  \n",
       "50        -1      24200   122        -0.050       3097500.0  \n",
       "52        -1      16700   126        -0.043       2190300.0  \n",
       "54         4      30200   102        -0.067       3286360.0  \n",
       "55        -1      34700   147        -0.037       5288700.0  \n",
       "57        -1      24400   237        -0.029       5942475.0  \n",
       "60         7      28600   182        -0.036       5387200.0  \n",
       "61        -1      21500   130        -0.065       2982000.0  \n",
       "63         6      31100   135        -0.056       4435200.0  \n",
       "65        -1      26900   160        -0.050       4515000.0  \n",
       "67        -1      18300   210        -0.050       4042500.0  \n",
       "70         4      26800   109        -0.057       3086440.0  \n",
       "71        -1      37000   100        -0.050       3885000.0  \n",
       "74        -1      22100   188        -0.050       4357500.0  \n",
       "77        -1      33600   110        -0.050       3885000.0  \n",
       "78        -1      32400   174        -0.050       5927250.0  \n",
       "79        -1      35400   127        -0.050       4725000.0  \n",
       "80        -1      28700   115        -0.082       3570600.0  \n",
       "83         4      28800   118        -0.029       3498600.0  \n",
       "86         6      23900   180        -0.039       4467700.0  \n",
       "91        -1      23000   126        -0.040       3016000.0  \n",
       "93         5      25900   147        -0.133       4305400.0  \n",
       "96        -1      39600   130        -0.040       5356000.0  \n",
       "102       -1      31900   240        -0.017       7780050.0  \n",
       "103       -1      18600   161        -0.040       3120000.0  \n",
       "105       -1      14700   150        -0.040       2288000.0  \n",
       "106       -1      13900   144        -0.040       2080000.0  \n",
       "108        5      29300   152        -0.030       4583500.0  \n",
       "110        5      31300   116        -0.030       3733750.0  \n",
       "111       -1      14000   168        -0.105       2596750.0  \n",
       "112        5      34700   118        -0.030       4223000.0  \n",
       "116       -1      24500   192        -0.030       4841000.0  \n",
       "119       -1      30100   166        -0.030       5144850.0  \n",
       "124        6      14400   186        -0.007       2693725.0  \n",
       "126       -1      34200   135        -0.030       4758600.0  \n",
       "133       -1      27700   139        -0.030       3965500.0  \n",
       "134       -1      23000   159        -0.030       3759500.0  \n",
       "136       -1      45800   107        -0.020       4998000.0  \n",
       "139       -1      33100   130        -0.020       4386000.0  \n",
       "147        6      32300   158        -0.020       5202000.0  \n",
       "154       -1      29800   124        -0.026       3796200.0  \n",
       "160       -1      38800   103        -0.101       4404000.0  \n",
       "163        6      32300   161        -0.054       5480800.0  \n",
       "164        5      32100   156        -0.010       5050000.0  \n",
       "166       -1      30000   180        -0.010       5454000.0  \n",
       "167       -1      30400   214        -0.010       6565000.0  \n",
       "168       -1      31700   156        -0.010       4999500.0  "
      ]
     },
     "execution_count": 256,
     "metadata": {},
     "output_type": "execute_result"
    }
   ],
   "source": [
    "low_profit_sales.query('kv_m > 99 and starting_price > 2000000' )"
   ]
  },
  {
   "cell_type": "code",
   "execution_count": 265,
   "id": "74934d28",
   "metadata": {},
   "outputs": [
    {
     "data": {
      "text/plain": [
       "3821751.923076923"
      ]
     },
     "execution_count": 265,
     "metadata": {},
     "output_type": "execute_result"
    }
   ],
   "source": [
    "low_profit_sales.query('kv_m > 99' ).starting_price.mean()"
   ]
  },
  {
   "cell_type": "markdown",
   "id": "4e928468",
   "metadata": {},
   "source": [
    "### Vilket tidspann"
   ]
  },
  {
   "cell_type": "code",
   "execution_count": 146,
   "id": "928c0625",
   "metadata": {},
   "outputs": [
    {
     "data": {
      "text/plain": [
       "Timestamp('2022-01-07 00:00:00')"
      ]
     },
     "execution_count": 146,
     "metadata": {},
     "output_type": "execute_result"
    }
   ],
   "source": [
    "min(bost_df.b_sale_date)"
   ]
  },
  {
   "cell_type": "code",
   "execution_count": 307,
   "id": "414d1ce1",
   "metadata": {},
   "outputs": [
    {
     "data": {
      "text/plain": [
       "Timestamp('2022-04-01 00:00:00')"
      ]
     },
     "execution_count": 307,
     "metadata": {},
     "output_type": "execute_result"
    }
   ],
   "source": [
    "min(big_prof_last.b_sale_date)"
   ]
  },
  {
   "cell_type": "code",
   "execution_count": 147,
   "id": "19192edf",
   "metadata": {},
   "outputs": [
    {
     "data": {
      "text/plain": [
       "Timestamp('2022-07-15 00:00:00')"
      ]
     },
     "execution_count": 147,
     "metadata": {},
     "output_type": "execute_result"
    }
   ],
   "source": [
    "max(bost_df.b_sale_date)"
   ]
  },
  {
   "cell_type": "code",
   "execution_count": 152,
   "id": "8b57ad5e",
   "metadata": {},
   "outputs": [
    {
     "data": {
      "text/plain": [
       "min   2022-01-07\n",
       "max   2022-07-15\n",
       "Name: b_sale_date, dtype: datetime64[ns]"
      ]
     },
     "execution_count": 152,
     "metadata": {},
     "output_type": "execute_result"
    }
   ],
   "source": [
    "bost_df['b_sale_date'].agg(['min','max'])"
   ]
  },
  {
   "cell_type": "markdown",
   "id": "f9baa2dc",
   "metadata": {},
   "source": [
    "### Slutsats\n",
    "\n",
    "- Boprisindikatorn visar på lågt förtroende för ökande bopriser\n",
    "- Medelfösäljningspris har minskat\n",
    "- Juli månad var den månad där det var större förluster per försäljning än de tidigare måndaderna"
   ]
  }
 ],
 "metadata": {
  "kernelspec": {
   "display_name": "Python 3 (ipykernel)",
   "language": "python",
   "name": "python3"
  },
  "language_info": {
   "codemirror_mode": {
    "name": "ipython",
    "version": 3
   },
   "file_extension": ".py",
   "mimetype": "text/x-python",
   "name": "python",
   "nbconvert_exporter": "python",
   "pygments_lexer": "ipython3",
   "version": "3.9.7"
  }
 },
 "nbformat": 4,
 "nbformat_minor": 5
}
