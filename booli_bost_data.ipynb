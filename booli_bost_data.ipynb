{
 "cells": [
  {
   "cell_type": "code",
   "execution_count": 1,
   "id": "6bc01100",
   "metadata": {},
   "outputs": [],
   "source": [
    "import pandas as pd\n",
    "import numpy as np\n"
   ]
  },
  {
   "cell_type": "code",
   "execution_count": 2,
   "id": "c6f9e20a",
   "metadata": {},
   "outputs": [],
   "source": [
    "bost_df=pd.read_csv('scrape_booli_2022-07-19.csv',index_col=False)"
   ]
  },
  {
   "cell_type": "markdown",
   "id": "beb1472c",
   "metadata": {},
   "source": [
    "- Assess  \n",
    "- Define  \n",
    "- Clean  \n",
    "- Analyze  \n",
    "- Visualize  "
   ]
  },
  {
   "cell_type": "markdown",
   "id": "151a81e7",
   "metadata": {},
   "source": [
    "\n",
    "\n",
    "Assess:\n",
    "- Alla kolumner kan ha bättre namn   \n",
    "\n",
    "unnamed:\n",
    "- [X] Ta bort index då det inte behövs, unnamed   \n",
    "\n",
    "b_size:\n",
    "-  delas till 2 kolumner\n",
    " - ant_rum\n",
    " - bost_stlk_m2\n",
    "\n",
    "b_price:  \n",
    "- ta bort kr i b-price\n",
    "- gör om datatyp\n",
    "\n",
    "b_pr_m2 :  \n",
    "- ta bort kr/m2 på alla hus\n",
    "\n",
    "b_sale_date:\n",
    "gör om till date_time\n",
    "\n",
    "\n",
    "\n",
    "\n"
   ]
  },
  {
   "cell_type": "code",
   "execution_count": 3,
   "id": "bd1b482c",
   "metadata": {
    "scrolled": true
   },
   "outputs": [
    {
     "data": {
      "text/html": [
       "<div>\n",
       "<style scoped>\n",
       "    .dataframe tbody tr th:only-of-type {\n",
       "        vertical-align: middle;\n",
       "    }\n",
       "\n",
       "    .dataframe tbody tr th {\n",
       "        vertical-align: top;\n",
       "    }\n",
       "\n",
       "    .dataframe thead th {\n",
       "        text-align: right;\n",
       "    }\n",
       "</style>\n",
       "<table border=\"1\" class=\"dataframe\">\n",
       "  <thead>\n",
       "    <tr style=\"text-align: right;\">\n",
       "      <th></th>\n",
       "      <th>Unnamed: 0</th>\n",
       "      <th>b_loc</th>\n",
       "      <th>b_size</th>\n",
       "      <th>b_price</th>\n",
       "      <th>b_pr_m2</th>\n",
       "      <th>b_sale_rslt</th>\n",
       "      <th>b_sale_date</th>\n",
       "    </tr>\n",
       "  </thead>\n",
       "  <tbody>\n",
       "    <tr>\n",
       "      <th>0</th>\n",
       "      <td>0</td>\n",
       "      <td>Kärleksstigen 28</td>\n",
       "      <td>6 rum, 161 m²</td>\n",
       "      <td>2 500 000 kr</td>\n",
       "      <td>15 500 kr/m²</td>\n",
       "      <td>0.0</td>\n",
       "      <td>2022-07-15</td>\n",
       "    </tr>\n",
       "    <tr>\n",
       "      <th>1</th>\n",
       "      <td>1</td>\n",
       "      <td>Hagagatan 7</td>\n",
       "      <td>4 rum, 122 m²</td>\n",
       "      <td>1 100 000 kr</td>\n",
       "      <td>9 000 kr/m²</td>\n",
       "      <td>-7.9</td>\n",
       "      <td>2022-07-14</td>\n",
       "    </tr>\n",
       "    <tr>\n",
       "      <th>2</th>\n",
       "      <td>2</td>\n",
       "      <td>Uddabergsvägen 15</td>\n",
       "      <td>4 rum, 119 m²</td>\n",
       "      <td>4 680 000 kr</td>\n",
       "      <td>39 300 kr/m²</td>\n",
       "      <td>4.1</td>\n",
       "      <td>2022-07-13</td>\n",
       "    </tr>\n",
       "    <tr>\n",
       "      <th>3</th>\n",
       "      <td>3</td>\n",
       "      <td>Lerdala Åbod gatan</td>\n",
       "      <td>2 rum, 73 m²</td>\n",
       "      <td>1 650 000 kr</td>\n",
       "      <td>22 600 kr/m²</td>\n",
       "      <td>-2.1</td>\n",
       "      <td>2022-07-12</td>\n",
       "    </tr>\n",
       "    <tr>\n",
       "      <th>4</th>\n",
       "      <td>4</td>\n",
       "      <td>Rönnbärsvägen 21</td>\n",
       "      <td>7 rum, 164 m²</td>\n",
       "      <td>2 300 000 kr</td>\n",
       "      <td>14 000 kr/m²</td>\n",
       "      <td>4.8</td>\n",
       "      <td>2022-07-12</td>\n",
       "    </tr>\n",
       "  </tbody>\n",
       "</table>\n",
       "</div>"
      ],
      "text/plain": [
       "   Unnamed: 0               b_loc         b_size       b_price       b_pr_m2  \\\n",
       "0           0    Kärleksstigen 28  6 rum, 161 m²  2 500 000 kr  15 500 kr/m²   \n",
       "1           1         Hagagatan 7  4 rum, 122 m²  1 100 000 kr   9 000 kr/m²   \n",
       "2           2   Uddabergsvägen 15  4 rum, 119 m²  4 680 000 kr  39 300 kr/m²   \n",
       "3           3  Lerdala Åbod gatan   2 rum, 73 m²  1 650 000 kr  22 600 kr/m²   \n",
       "4           4    Rönnbärsvägen 21  7 rum, 164 m²  2 300 000 kr  14 000 kr/m²   \n",
       "\n",
       "   b_sale_rslt b_sale_date  \n",
       "0          0.0  2022-07-15  \n",
       "1         -7.9  2022-07-14  \n",
       "2          4.1  2022-07-13  \n",
       "3         -2.1  2022-07-12  \n",
       "4          4.8  2022-07-12  "
      ]
     },
     "execution_count": 3,
     "metadata": {},
     "output_type": "execute_result"
    }
   ],
   "source": [
    "bost_df.head()"
   ]
  },
  {
   "cell_type": "code",
   "execution_count": 4,
   "id": "965c8c8b",
   "metadata": {},
   "outputs": [
    {
     "data": {
      "text/html": [
       "<div>\n",
       "<style scoped>\n",
       "    .dataframe tbody tr th:only-of-type {\n",
       "        vertical-align: middle;\n",
       "    }\n",
       "\n",
       "    .dataframe tbody tr th {\n",
       "        vertical-align: top;\n",
       "    }\n",
       "\n",
       "    .dataframe thead th {\n",
       "        text-align: right;\n",
       "    }\n",
       "</style>\n",
       "<table border=\"1\" class=\"dataframe\">\n",
       "  <thead>\n",
       "    <tr style=\"text-align: right;\">\n",
       "      <th></th>\n",
       "      <th>Unnamed: 0</th>\n",
       "      <th>b_sale_rslt</th>\n",
       "    </tr>\n",
       "  </thead>\n",
       "  <tbody>\n",
       "    <tr>\n",
       "      <th>count</th>\n",
       "      <td>175.000000</td>\n",
       "      <td>175.000000</td>\n",
       "    </tr>\n",
       "    <tr>\n",
       "      <th>mean</th>\n",
       "      <td>87.000000</td>\n",
       "      <td>3.477714</td>\n",
       "    </tr>\n",
       "    <tr>\n",
       "      <th>std</th>\n",
       "      <td>50.662281</td>\n",
       "      <td>11.136820</td>\n",
       "    </tr>\n",
       "    <tr>\n",
       "      <th>min</th>\n",
       "      <td>0.000000</td>\n",
       "      <td>-23.600000</td>\n",
       "    </tr>\n",
       "    <tr>\n",
       "      <th>25%</th>\n",
       "      <td>43.500000</td>\n",
       "      <td>-4.000000</td>\n",
       "    </tr>\n",
       "    <tr>\n",
       "      <th>50%</th>\n",
       "      <td>87.000000</td>\n",
       "      <td>0.000000</td>\n",
       "    </tr>\n",
       "    <tr>\n",
       "      <th>75%</th>\n",
       "      <td>130.500000</td>\n",
       "      <td>9.800000</td>\n",
       "    </tr>\n",
       "    <tr>\n",
       "      <th>max</th>\n",
       "      <td>174.000000</td>\n",
       "      <td>43.300000</td>\n",
       "    </tr>\n",
       "  </tbody>\n",
       "</table>\n",
       "</div>"
      ],
      "text/plain": [
       "       Unnamed: 0  b_sale_rslt\n",
       "count  175.000000   175.000000\n",
       "mean    87.000000     3.477714\n",
       "std     50.662281    11.136820\n",
       "min      0.000000   -23.600000\n",
       "25%     43.500000    -4.000000\n",
       "50%     87.000000     0.000000\n",
       "75%    130.500000     9.800000\n",
       "max    174.000000    43.300000"
      ]
     },
     "execution_count": 4,
     "metadata": {},
     "output_type": "execute_result"
    }
   ],
   "source": [
    "bost_df.describe()"
   ]
  },
  {
   "cell_type": "code",
   "execution_count": null,
   "id": "6a085934",
   "metadata": {},
   "outputs": [],
   "source": []
  },
  {
   "cell_type": "markdown",
   "id": "7270a8fa",
   "metadata": {},
   "source": [
    "**Define** \n",
    "Ta bort column 0\n",
    "<!-- bost_df.reset_index() -->\n",
    "Code :"
   ]
  },
  {
   "cell_type": "code",
   "execution_count": 5,
   "id": "6c05ca7b",
   "metadata": {},
   "outputs": [],
   "source": [
    "#Drop column 0\n",
    "bost_df.drop(bost_df.iloc[:,0:1],axis=1,inplace=True)\n",
    "# Osäker på om denna behövs:\n",
    "#bost_df.reset_index()"
   ]
  },
  {
   "cell_type": "markdown",
   "id": "fb2563cb",
   "metadata": {},
   "source": [
    "Test:"
   ]
  },
  {
   "cell_type": "code",
   "execution_count": 6,
   "id": "c362fe8d",
   "metadata": {
    "scrolled": true
   },
   "outputs": [
    {
     "data": {
      "text/html": [
       "<div>\n",
       "<style scoped>\n",
       "    .dataframe tbody tr th:only-of-type {\n",
       "        vertical-align: middle;\n",
       "    }\n",
       "\n",
       "    .dataframe tbody tr th {\n",
       "        vertical-align: top;\n",
       "    }\n",
       "\n",
       "    .dataframe thead th {\n",
       "        text-align: right;\n",
       "    }\n",
       "</style>\n",
       "<table border=\"1\" class=\"dataframe\">\n",
       "  <thead>\n",
       "    <tr style=\"text-align: right;\">\n",
       "      <th></th>\n",
       "      <th>b_loc</th>\n",
       "      <th>b_size</th>\n",
       "      <th>b_price</th>\n",
       "      <th>b_pr_m2</th>\n",
       "      <th>b_sale_rslt</th>\n",
       "      <th>b_sale_date</th>\n",
       "    </tr>\n",
       "  </thead>\n",
       "  <tbody>\n",
       "    <tr>\n",
       "      <th>0</th>\n",
       "      <td>Kärleksstigen 28</td>\n",
       "      <td>6 rum, 161 m²</td>\n",
       "      <td>2 500 000 kr</td>\n",
       "      <td>15 500 kr/m²</td>\n",
       "      <td>0.0</td>\n",
       "      <td>2022-07-15</td>\n",
       "    </tr>\n",
       "    <tr>\n",
       "      <th>1</th>\n",
       "      <td>Hagagatan 7</td>\n",
       "      <td>4 rum, 122 m²</td>\n",
       "      <td>1 100 000 kr</td>\n",
       "      <td>9 000 kr/m²</td>\n",
       "      <td>-7.9</td>\n",
       "      <td>2022-07-14</td>\n",
       "    </tr>\n",
       "  </tbody>\n",
       "</table>\n",
       "</div>"
      ],
      "text/plain": [
       "              b_loc         b_size       b_price       b_pr_m2  b_sale_rslt  \\\n",
       "0  Kärleksstigen 28  6 rum, 161 m²  2 500 000 kr  15 500 kr/m²          0.0   \n",
       "1       Hagagatan 7  4 rum, 122 m²  1 100 000 kr   9 000 kr/m²         -7.9   \n",
       "\n",
       "  b_sale_date  \n",
       "0  2022-07-15  \n",
       "1  2022-07-14  "
      ]
     },
     "execution_count": 6,
     "metadata": {},
     "output_type": "execute_result"
    }
   ],
   "source": [
    "bost_df.head(2)"
   ]
  },
  {
   "cell_type": "markdown",
   "id": "0a37db49",
   "metadata": {},
   "source": [
    "**Define:**  \n",
    "    Dela på antal rum och kvm  \n",
    "    Code:"
   ]
  },
  {
   "cell_type": "code",
   "execution_count": 7,
   "id": "602edbb7",
   "metadata": {},
   "outputs": [],
   "source": [
    "#dela på b_size\n",
    "bost_df[['ant_rum','kvm']]=bost_df.b_size.str.split(',',expand=True)"
   ]
  },
  {
   "cell_type": "markdown",
   "id": "e1dee9ec",
   "metadata": {},
   "source": [
    "**Define**  \n",
    "Ta bort ' m²' från kvm\n",
    "Ta bort kr/m² från b_pr_m2\n",
    "Ta bort lrono från \n",
    "Code:"
   ]
  },
  {
   "cell_type": "code",
   "execution_count": 38,
   "id": "8c48cdb2",
   "metadata": {},
   "outputs": [],
   "source": [
    "bost_df.rename(columns = {'b_size':'b_size_m2', 'b_price':'b_price_kr','kvm':'kvm_kr_m2'}, inplace = True)"
   ]
  },
  {
   "cell_type": "code",
   "execution_count": 8,
   "id": "64233b26",
   "metadata": {},
   "outputs": [],
   "source": [
    "bost_df.kvm=bost_df.kvm.str.replace(' m²','')"
   ]
  },
  {
   "cell_type": "code",
   "execution_count": 15,
   "id": "fd6aa3d6",
   "metadata": {},
   "outputs": [],
   "source": [
    "bost_df.b_pr_m2=bost_df.b_pr_m2.str.replace(' kr/m²','')"
   ]
  },
  {
   "cell_type": "code",
   "execution_count": 17,
   "id": "2f0a17d1",
   "metadata": {},
   "outputs": [],
   "source": [
    "bost_df.b_price=bost_df.b_price.str.replace(' kr','')"
   ]
  },
  {
   "cell_type": "markdown",
   "id": "75850bbd",
   "metadata": {},
   "source": [
    "**Define**\n",
    "- Ta bort rum från ant_rum kolumnen  \n",
    "Code:"
   ]
  },
  {
   "cell_type": "code",
   "execution_count": 22,
   "id": "20cf3519",
   "metadata": {},
   "outputs": [],
   "source": [
    "bost_df.ant_rum=bost_df.ant_rum.str.replace(' rum','')"
   ]
  },
  {
   "cell_type": "markdown",
   "id": "66ce2af0",
   "metadata": {},
   "source": [
    "Test:"
   ]
  },
  {
   "cell_type": "code",
   "execution_count": 39,
   "id": "717cdb6f",
   "metadata": {
    "scrolled": true
   },
   "outputs": [
    {
     "data": {
      "text/html": [
       "<div>\n",
       "<style scoped>\n",
       "    .dataframe tbody tr th:only-of-type {\n",
       "        vertical-align: middle;\n",
       "    }\n",
       "\n",
       "    .dataframe tbody tr th {\n",
       "        vertical-align: top;\n",
       "    }\n",
       "\n",
       "    .dataframe thead th {\n",
       "        text-align: right;\n",
       "    }\n",
       "</style>\n",
       "<table border=\"1\" class=\"dataframe\">\n",
       "  <thead>\n",
       "    <tr style=\"text-align: right;\">\n",
       "      <th></th>\n",
       "      <th>b_loc</th>\n",
       "      <th>b_size_m2</th>\n",
       "      <th>b_price_kr</th>\n",
       "      <th>b_pr_m2</th>\n",
       "      <th>b_sale_rslt</th>\n",
       "      <th>b_sale_date</th>\n",
       "      <th>ant_rum</th>\n",
       "      <th>kvm_kr_m2</th>\n",
       "      <th>kv_m</th>\n",
       "    </tr>\n",
       "  </thead>\n",
       "  <tbody>\n",
       "    <tr>\n",
       "      <th>0</th>\n",
       "      <td>Kärleksstigen 28</td>\n",
       "      <td>6 rum, 161 m²</td>\n",
       "      <td>2 500 000</td>\n",
       "      <td>15 500</td>\n",
       "      <td>0.0</td>\n",
       "      <td>2022-07-15</td>\n",
       "      <td>6</td>\n",
       "      <td>15 500</td>\n",
       "      <td>161</td>\n",
       "    </tr>\n",
       "    <tr>\n",
       "      <th>1</th>\n",
       "      <td>Hagagatan 7</td>\n",
       "      <td>4 rum, 122 m²</td>\n",
       "      <td>1 100 000</td>\n",
       "      <td>9 000</td>\n",
       "      <td>-7.9</td>\n",
       "      <td>2022-07-14</td>\n",
       "      <td>4</td>\n",
       "      <td>9 000</td>\n",
       "      <td>122</td>\n",
       "    </tr>\n",
       "    <tr>\n",
       "      <th>2</th>\n",
       "      <td>Uddabergsvägen 15</td>\n",
       "      <td>4 rum, 119 m²</td>\n",
       "      <td>4 680 000</td>\n",
       "      <td>39 300</td>\n",
       "      <td>4.1</td>\n",
       "      <td>2022-07-13</td>\n",
       "      <td>4</td>\n",
       "      <td>39 300</td>\n",
       "      <td>119</td>\n",
       "    </tr>\n",
       "    <tr>\n",
       "      <th>3</th>\n",
       "      <td>Lerdala Åbod gatan</td>\n",
       "      <td>2 rum, 73 m²</td>\n",
       "      <td>1 650 000</td>\n",
       "      <td>22 600</td>\n",
       "      <td>-2.1</td>\n",
       "      <td>2022-07-12</td>\n",
       "      <td>2</td>\n",
       "      <td>22 600</td>\n",
       "      <td>73</td>\n",
       "    </tr>\n",
       "    <tr>\n",
       "      <th>4</th>\n",
       "      <td>Rönnbärsvägen 21</td>\n",
       "      <td>7 rum, 164 m²</td>\n",
       "      <td>2 300 000</td>\n",
       "      <td>14 000</td>\n",
       "      <td>4.8</td>\n",
       "      <td>2022-07-12</td>\n",
       "      <td>7</td>\n",
       "      <td>14 000</td>\n",
       "      <td>164</td>\n",
       "    </tr>\n",
       "  </tbody>\n",
       "</table>\n",
       "</div>"
      ],
      "text/plain": [
       "                b_loc      b_size_m2 b_price_kr b_pr_m2  b_sale_rslt  \\\n",
       "0    Kärleksstigen 28  6 rum, 161 m²  2 500 000  15 500          0.0   \n",
       "1         Hagagatan 7  4 rum, 122 m²  1 100 000   9 000         -7.9   \n",
       "2   Uddabergsvägen 15  4 rum, 119 m²  4 680 000  39 300          4.1   \n",
       "3  Lerdala Åbod gatan   2 rum, 73 m²  1 650 000  22 600         -2.1   \n",
       "4    Rönnbärsvägen 21  7 rum, 164 m²  2 300 000  14 000          4.8   \n",
       "\n",
       "  b_sale_date ant_rum kvm_kr_m2  kv_m  \n",
       "0  2022-07-15       6    15 500   161  \n",
       "1  2022-07-14       4     9 000   122  \n",
       "2  2022-07-13       4    39 300   119  \n",
       "3  2022-07-12       2    22 600    73  \n",
       "4  2022-07-12       7    14 000   164  "
      ]
     },
     "execution_count": 39,
     "metadata": {},
     "output_type": "execute_result"
    }
   ],
   "source": [
    "bost_df.head()"
   ]
  },
  {
   "cell_type": "code",
   "execution_count": 36,
   "id": "aee95608",
   "metadata": {
    "scrolled": true
   },
   "outputs": [],
   "source": [
    "bost_df['kv_m']=bost_df.b_size_m2.str.split(',',expand=True)[1].str.replace(' m²','')"
   ]
  },
  {
   "cell_type": "markdown",
   "id": "3ae084bd",
   "metadata": {},
   "source": [
    "### Drop kolumns: 'b_size_m2','b_pr_m2'"
   ]
  },
  {
   "cell_type": "code",
   "execution_count": 41,
   "id": "f27eec7d",
   "metadata": {},
   "outputs": [],
   "source": [
    "bost_df.drop(['b_size_m2','b_pr_m2'],axis=1,inplace=True)"
   ]
  },
  {
   "cell_type": "markdown",
   "id": "5ab08970",
   "metadata": {},
   "source": [
    "Test:\n",
    "    "
   ]
  },
  {
   "cell_type": "code",
   "execution_count": 59,
   "id": "cbe53906",
   "metadata": {
    "scrolled": false
   },
   "outputs": [
    {
     "data": {
      "text/html": [
       "<div>\n",
       "<style scoped>\n",
       "    .dataframe tbody tr th:only-of-type {\n",
       "        vertical-align: middle;\n",
       "    }\n",
       "\n",
       "    .dataframe tbody tr th {\n",
       "        vertical-align: top;\n",
       "    }\n",
       "\n",
       "    .dataframe thead th {\n",
       "        text-align: right;\n",
       "    }\n",
       "</style>\n",
       "<table border=\"1\" class=\"dataframe\">\n",
       "  <thead>\n",
       "    <tr style=\"text-align: right;\">\n",
       "      <th></th>\n",
       "      <th>b_loc</th>\n",
       "      <th>b_price_kr</th>\n",
       "      <th>b_sale_rslt</th>\n",
       "      <th>b_sale_date</th>\n",
       "      <th>ant_rum</th>\n",
       "      <th>kvm_kr_m2</th>\n",
       "      <th>kv_m</th>\n",
       "    </tr>\n",
       "  </thead>\n",
       "  <tbody>\n",
       "    <tr>\n",
       "      <th>0</th>\n",
       "      <td>Kärleksstigen 28</td>\n",
       "      <td>2 500 000</td>\n",
       "      <td>0.0</td>\n",
       "      <td>2022-07-15</td>\n",
       "      <td>6</td>\n",
       "      <td>15 500</td>\n",
       "      <td>161</td>\n",
       "    </tr>\n",
       "    <tr>\n",
       "      <th>1</th>\n",
       "      <td>Hagagatan 7</td>\n",
       "      <td>1 100 000</td>\n",
       "      <td>-7.9</td>\n",
       "      <td>2022-07-14</td>\n",
       "      <td>4</td>\n",
       "      <td>9 000</td>\n",
       "      <td>122</td>\n",
       "    </tr>\n",
       "    <tr>\n",
       "      <th>2</th>\n",
       "      <td>Uddabergsvägen 15</td>\n",
       "      <td>4 680 000</td>\n",
       "      <td>4.1</td>\n",
       "      <td>2022-07-13</td>\n",
       "      <td>4</td>\n",
       "      <td>39 300</td>\n",
       "      <td>119</td>\n",
       "    </tr>\n",
       "    <tr>\n",
       "      <th>3</th>\n",
       "      <td>Lerdala Åbod gatan</td>\n",
       "      <td>1 650 000</td>\n",
       "      <td>-2.1</td>\n",
       "      <td>2022-07-12</td>\n",
       "      <td>2</td>\n",
       "      <td>22 600</td>\n",
       "      <td>73</td>\n",
       "    </tr>\n",
       "    <tr>\n",
       "      <th>4</th>\n",
       "      <td>Rönnbärsvägen 21</td>\n",
       "      <td>2 300 000</td>\n",
       "      <td>4.8</td>\n",
       "      <td>2022-07-12</td>\n",
       "      <td>7</td>\n",
       "      <td>14 000</td>\n",
       "      <td>164</td>\n",
       "    </tr>\n",
       "    <tr>\n",
       "      <th>5</th>\n",
       "      <td>Getaryggsvägen 24</td>\n",
       "      <td>7 000 000</td>\n",
       "      <td>7.8</td>\n",
       "      <td>2022-07-11</td>\n",
       "      <td>8</td>\n",
       "      <td>43 200</td>\n",
       "      <td>162</td>\n",
       "    </tr>\n",
       "    <tr>\n",
       "      <th>6</th>\n",
       "      <td>Orkidévägen 8</td>\n",
       "      <td>3 150 000</td>\n",
       "      <td>14.5</td>\n",
       "      <td>2022-07-08</td>\n",
       "      <td>5</td>\n",
       "      <td>32 100</td>\n",
       "      <td>98</td>\n",
       "    </tr>\n",
       "    <tr>\n",
       "      <th>7</th>\n",
       "      <td>Våmb Ekhyddan</td>\n",
       "      <td>1 400 000</td>\n",
       "      <td>-17.4</td>\n",
       "      <td>2022-07-08</td>\n",
       "      <td>5</td>\n",
       "      <td>8 300</td>\n",
       "      <td>169</td>\n",
       "    </tr>\n",
       "    <tr>\n",
       "      <th>8</th>\n",
       "      <td>Sjogerstad Mariedal</td>\n",
       "      <td>2 550 000</td>\n",
       "      <td>-8.8</td>\n",
       "      <td>2022-07-08</td>\n",
       "      <td>4</td>\n",
       "      <td>22 200</td>\n",
       "      <td>115</td>\n",
       "    </tr>\n",
       "    <tr>\n",
       "      <th>9</th>\n",
       "      <td>Lunne Äppelbo</td>\n",
       "      <td>1 200 000</td>\n",
       "      <td>20.6</td>\n",
       "      <td>2022-07-08</td>\n",
       "      <td>4</td>\n",
       "      <td>12 100</td>\n",
       "      <td>99</td>\n",
       "    </tr>\n",
       "  </tbody>\n",
       "</table>\n",
       "</div>"
      ],
      "text/plain": [
       "                 b_loc b_price_kr  b_sale_rslt b_sale_date ant_rum kvm_kr_m2  \\\n",
       "0     Kärleksstigen 28  2 500 000          0.0  2022-07-15       6    15 500   \n",
       "1          Hagagatan 7  1 100 000         -7.9  2022-07-14       4     9 000   \n",
       "2    Uddabergsvägen 15  4 680 000          4.1  2022-07-13       4    39 300   \n",
       "3   Lerdala Åbod gatan  1 650 000         -2.1  2022-07-12       2    22 600   \n",
       "4     Rönnbärsvägen 21  2 300 000          4.8  2022-07-12       7    14 000   \n",
       "5    Getaryggsvägen 24  7 000 000          7.8  2022-07-11       8    43 200   \n",
       "6        Orkidévägen 8  3 150 000         14.5  2022-07-08       5    32 100   \n",
       "7        Våmb Ekhyddan  1 400 000        -17.4  2022-07-08       5     8 300   \n",
       "8  Sjogerstad Mariedal  2 550 000         -8.8  2022-07-08       4    22 200   \n",
       "9        Lunne Äppelbo  1 200 000         20.6  2022-07-08       4    12 100   \n",
       "\n",
       "   kv_m  \n",
       "0   161  \n",
       "1   122  \n",
       "2   119  \n",
       "3    73  \n",
       "4   164  \n",
       "5   162  \n",
       "6    98  \n",
       "7   169  \n",
       "8   115  \n",
       "9    99  "
      ]
     },
     "execution_count": 59,
     "metadata": {},
     "output_type": "execute_result"
    }
   ],
   "source": [
    "bost_df.head(10)"
   ]
  },
  {
   "cell_type": "markdown",
   "id": "e4969a78",
   "metadata": {},
   "source": [
    "### Fix Antal rum"
   ]
  },
  {
   "cell_type": "code",
   "execution_count": 44,
   "id": "012d686e",
   "metadata": {},
   "outputs": [],
   "source": [
    "bost_df['ant_rum']=bost_df['ant_rum'].replace('None',np.nan)"
   ]
  },
  {
   "cell_type": "code",
   "execution_count": 54,
   "id": "b0938c10",
   "metadata": {
    "scrolled": true
   },
   "outputs": [
    {
     "data": {
      "text/plain": [
       "0      6\n",
       "1      4\n",
       "2      4\n",
       "3      2\n",
       "4      7\n",
       "      ..\n",
       "156    6\n",
       "162    4\n",
       "163    6\n",
       "164    5\n",
       "173    6\n",
       "Name: ant_rum, Length: 74, dtype: object"
      ]
     },
     "execution_count": 54,
     "metadata": {},
     "output_type": "execute_result"
    }
   ],
   "source": [
    "bost_df.ant_rum.dropna()"
   ]
  },
  {
   "cell_type": "markdown",
   "id": "32bfde5e",
   "metadata": {},
   "source": [
    "Convert to integers ,\n",
    "problems to do cast to int from string"
   ]
  },
  {
   "cell_type": "code",
   "execution_count": 55,
   "id": "83dc1937",
   "metadata": {
    "scrolled": true
   },
   "outputs": [],
   "source": [
    "bost_df['ant_rum']=bost_df['ant_rum'].str.strip()"
   ]
  },
  {
   "cell_type": "code",
   "execution_count": 57,
   "id": "613e4727",
   "metadata": {},
   "outputs": [
    {
     "data": {
      "text/plain": [
       "0      6.0\n",
       "1      4.0\n",
       "2      4.0\n",
       "3      2.0\n",
       "4      7.0\n",
       "      ... \n",
       "170    NaN\n",
       "171    NaN\n",
       "172    NaN\n",
       "173    6.0\n",
       "174    NaN\n",
       "Name: ant_rum, Length: 175, dtype: float64"
      ]
     },
     "execution_count": 57,
     "metadata": {},
     "output_type": "execute_result"
    }
   ],
   "source": [
    "bost_df.ant_rum.astype('float')"
   ]
  },
  {
   "cell_type": "code",
   "execution_count": 61,
   "id": "394114b7",
   "metadata": {},
   "outputs": [],
   "source": [
    "bost_df.ant_rum=bost_df.ant_rum.astype('float')"
   ]
  },
  {
   "cell_type": "markdown",
   "id": "2570e893",
   "metadata": {},
   "source": [
    "Try to replace NaN to -1 istället för att kunna konvertera dessa till int"
   ]
  },
  {
   "cell_type": "code",
   "execution_count": 67,
   "id": "7287f180",
   "metadata": {},
   "outputs": [],
   "source": [
    "bost_df.ant_rum=bost_df.ant_rum.replace(np.nan,-1)\n",
    "#bost_df.replace(np.nan, -1)"
   ]
  },
  {
   "cell_type": "code",
   "execution_count": 86,
   "id": "0e1a238b",
   "metadata": {},
   "outputs": [
    {
     "data": {
      "text/plain": [
       "143   -1\n",
       "Name: ant_rum, dtype: int32"
      ]
     },
     "execution_count": 86,
     "metadata": {},
     "output_type": "execute_result"
    }
   ],
   "source": [
    "bost_df.ant_rum.sample()"
   ]
  },
  {
   "cell_type": "code",
   "execution_count": null,
   "id": "727107e9",
   "metadata": {},
   "outputs": [],
   "source": [
    "# make string = int "
   ]
  },
  {
   "cell_type": "code",
   "execution_count": 76,
   "id": "2a333fd6",
   "metadata": {},
   "outputs": [],
   "source": [
    "bost_df.ant_rum=bost_df.ant_rum.astype('int')"
   ]
  },
  {
   "cell_type": "code",
   "execution_count": 108,
   "id": "fd072bc9",
   "metadata": {
    "scrolled": false
   },
   "outputs": [
    {
     "name": "stdout",
     "output_type": "stream",
     "text": [
      "<class 'pandas.core.frame.DataFrame'>\n",
      "RangeIndex: 175 entries, 0 to 174\n",
      "Data columns (total 7 columns):\n",
      " #   Column       Non-Null Count  Dtype  \n",
      "---  ------       --------------  -----  \n",
      " 0   b_loc        175 non-null    object \n",
      " 1   b_price_kr   175 non-null    int32  \n",
      " 2   b_sale_rslt  175 non-null    float64\n",
      " 3   b_sale_date  175 non-null    object \n",
      " 4   ant_rum      175 non-null    int32  \n",
      " 5   kvm_kr_m2    175 non-null    object \n",
      " 6   kv_m         175 non-null    object \n",
      "dtypes: float64(1), int32(2), object(4)\n",
      "memory usage: 8.3+ KB\n"
     ]
    }
   ],
   "source": [
    "bost_df.info()"
   ]
  },
  {
   "cell_type": "markdown",
   "id": "df36ff4c",
   "metadata": {},
   "source": [
    "problem med mellanslag i bost_pris, måste ordnas innan konvertering"
   ]
  },
  {
   "cell_type": "markdown",
   "id": "90ed942e",
   "metadata": {},
   "source": [
    "### Fix b_price_kr"
   ]
  },
  {
   "cell_type": "code",
   "execution_count": 99,
   "id": "a85d5705",
   "metadata": {},
   "outputs": [],
   "source": [
    "bost_df['b_price_kr']=bost_df['b_price_kr'].str.replace(' ','')"
   ]
  },
  {
   "cell_type": "code",
   "execution_count": 100,
   "id": "fa22ff44",
   "metadata": {
    "scrolled": false
   },
   "outputs": [
    {
     "data": {
      "text/plain": [
       "0      2500000\n",
       "1      1100000\n",
       "2      4680000\n",
       "3      1650000\n",
       "4      2300000\n",
       "        ...   \n",
       "170    5100000\n",
       "171    2350000\n",
       "172    2500000\n",
       "173     950000\n",
       "174    2600000\n",
       "Name: b_price_kr, Length: 175, dtype: object"
      ]
     },
     "execution_count": 100,
     "metadata": {},
     "output_type": "execute_result"
    }
   ],
   "source": [
    "bost_df['b_price_kr']"
   ]
  },
  {
   "cell_type": "code",
   "execution_count": 101,
   "id": "9787580e",
   "metadata": {},
   "outputs": [],
   "source": [
    "bost_df['b_price_kr']=bost_df['b_price_kr'].astype(int)"
   ]
  },
  {
   "cell_type": "code",
   "execution_count": 105,
   "id": "b066d336",
   "metadata": {
    "scrolled": true
   },
   "outputs": [
    {
     "data": {
      "text/html": [
       "<div>\n",
       "<style scoped>\n",
       "    .dataframe tbody tr th:only-of-type {\n",
       "        vertical-align: middle;\n",
       "    }\n",
       "\n",
       "    .dataframe tbody tr th {\n",
       "        vertical-align: top;\n",
       "    }\n",
       "\n",
       "    .dataframe thead th {\n",
       "        text-align: right;\n",
       "    }\n",
       "</style>\n",
       "<table border=\"1\" class=\"dataframe\">\n",
       "  <thead>\n",
       "    <tr style=\"text-align: right;\">\n",
       "      <th></th>\n",
       "      <th>b_loc</th>\n",
       "      <th>b_price_kr</th>\n",
       "      <th>b_sale_rslt</th>\n",
       "      <th>b_sale_date</th>\n",
       "      <th>ant_rum</th>\n",
       "      <th>kvm_kr_m2</th>\n",
       "      <th>kv_m</th>\n",
       "    </tr>\n",
       "  </thead>\n",
       "  <tbody>\n",
       "    <tr>\n",
       "      <th>0</th>\n",
       "      <td>Kärleksstigen 28</td>\n",
       "      <td>2500000</td>\n",
       "      <td>0.0</td>\n",
       "      <td>2022-07-15</td>\n",
       "      <td>6</td>\n",
       "      <td>15 500</td>\n",
       "      <td>161</td>\n",
       "    </tr>\n",
       "    <tr>\n",
       "      <th>1</th>\n",
       "      <td>Hagagatan 7</td>\n",
       "      <td>1100000</td>\n",
       "      <td>-7.9</td>\n",
       "      <td>2022-07-14</td>\n",
       "      <td>4</td>\n",
       "      <td>9 000</td>\n",
       "      <td>122</td>\n",
       "    </tr>\n",
       "    <tr>\n",
       "      <th>2</th>\n",
       "      <td>Uddabergsvägen 15</td>\n",
       "      <td>4680000</td>\n",
       "      <td>4.1</td>\n",
       "      <td>2022-07-13</td>\n",
       "      <td>4</td>\n",
       "      <td>39 300</td>\n",
       "      <td>119</td>\n",
       "    </tr>\n",
       "    <tr>\n",
       "      <th>3</th>\n",
       "      <td>Lerdala Åbod gatan</td>\n",
       "      <td>1650000</td>\n",
       "      <td>-2.1</td>\n",
       "      <td>2022-07-12</td>\n",
       "      <td>2</td>\n",
       "      <td>22 600</td>\n",
       "      <td>73</td>\n",
       "    </tr>\n",
       "    <tr>\n",
       "      <th>4</th>\n",
       "      <td>Rönnbärsvägen 21</td>\n",
       "      <td>2300000</td>\n",
       "      <td>4.8</td>\n",
       "      <td>2022-07-12</td>\n",
       "      <td>7</td>\n",
       "      <td>14 000</td>\n",
       "      <td>164</td>\n",
       "    </tr>\n",
       "  </tbody>\n",
       "</table>\n",
       "</div>"
      ],
      "text/plain": [
       "                b_loc  b_price_kr  b_sale_rslt b_sale_date  ant_rum kvm_kr_m2  \\\n",
       "0    Kärleksstigen 28     2500000          0.0  2022-07-15        6    15 500   \n",
       "1         Hagagatan 7     1100000         -7.9  2022-07-14        4     9 000   \n",
       "2   Uddabergsvägen 15     4680000          4.1  2022-07-13        4    39 300   \n",
       "3  Lerdala Åbod gatan     1650000         -2.1  2022-07-12        2    22 600   \n",
       "4    Rönnbärsvägen 21     2300000          4.8  2022-07-12        7    14 000   \n",
       "\n",
       "   kv_m  \n",
       "0   161  \n",
       "1   122  \n",
       "2   119  \n",
       "3    73  \n",
       "4   164  "
      ]
     },
     "execution_count": 105,
     "metadata": {},
     "output_type": "execute_result"
    }
   ],
   "source": [
    "bost_df.head()"
   ]
  },
  {
   "cell_type": "markdown",
   "id": "b6ccbe82",
   "metadata": {},
   "source": [
    "### Fix datetime"
   ]
  },
  {
   "cell_type": "code",
   "execution_count": null,
   "id": "3a5f35c6",
   "metadata": {},
   "outputs": [],
   "source": [
    "pd.to_datetime()"
   ]
  },
  {
   "cell_type": "code",
   "execution_count": 112,
   "id": "947609c4",
   "metadata": {
    "scrolled": true
   },
   "outputs": [],
   "source": [
    "bost_df['b_sale_date']=pd.to_datetime(bost_df['b_sale_date'])"
   ]
  },
  {
   "cell_type": "markdown",
   "id": "d2b5e7c9",
   "metadata": {},
   "source": [
    "### Fix kvm_kr_m2"
   ]
  },
  {
   "cell_type": "code",
   "execution_count": 118,
   "id": "b406f10c",
   "metadata": {},
   "outputs": [],
   "source": [
    "bost_df['kvm_kr_m2']=bost_df['kvm_kr_m2'].str.replace(' ','')"
   ]
  },
  {
   "cell_type": "code",
   "execution_count": 120,
   "id": "a8ac0c99",
   "metadata": {},
   "outputs": [],
   "source": [
    "bost_df['kvm_kr_m2']=bost_df['kvm_kr_m2'].astype(int)"
   ]
  },
  {
   "cell_type": "markdown",
   "id": "3d019aa7",
   "metadata": {},
   "source": [
    "### Fix kv_m"
   ]
  },
  {
   "cell_type": "code",
   "execution_count": 123,
   "id": "4b0ca063",
   "metadata": {},
   "outputs": [],
   "source": [
    "bost_df['kv_m']=bost_df['kv_m'].str.strip()"
   ]
  },
  {
   "cell_type": "code",
   "execution_count": null,
   "id": "4bcf9615",
   "metadata": {},
   "outputs": [],
   "source": [
    "bost_df['kv_m']=bost_df['kv_m'][]"
   ]
  },
  {
   "cell_type": "markdown",
   "id": "bea4436d",
   "metadata": {},
   "source": [
    "#### Replace all that is not a digit with ''"
   ]
  },
  {
   "cell_type": "code",
   "execution_count": 131,
   "id": "c94014e5",
   "metadata": {},
   "outputs": [
    {
     "ename": "AttributeError",
     "evalue": "Can only use .str accessor with string values!",
     "output_type": "error",
     "traceback": [
      "\u001b[1;31m---------------------------------------------------------------------------\u001b[0m",
      "\u001b[1;31mAttributeError\u001b[0m                            Traceback (most recent call last)",
      "\u001b[1;32m~\\AppData\\Local\\Temp/ipykernel_536/349159416.py\u001b[0m in \u001b[0;36m<module>\u001b[1;34m\u001b[0m\n\u001b[1;32m----> 1\u001b[1;33m \u001b[0mbost_df\u001b[0m\u001b[1;33m[\u001b[0m\u001b[1;34m'kv_m'\u001b[0m\u001b[1;33m]\u001b[0m\u001b[1;33m=\u001b[0m\u001b[0mbost_df\u001b[0m\u001b[1;33m[\u001b[0m\u001b[1;34m'kv_m'\u001b[0m\u001b[1;33m]\u001b[0m\u001b[1;33m.\u001b[0m\u001b[0mstr\u001b[0m\u001b[1;33m.\u001b[0m\u001b[0mextractall\u001b[0m\u001b[1;33m(\u001b[0m\u001b[1;34m'(\\d+)'\u001b[0m\u001b[1;33m)\u001b[0m\u001b[1;33m.\u001b[0m\u001b[0munstack\u001b[0m\u001b[1;33m(\u001b[0m\u001b[1;33m)\u001b[0m\u001b[1;33m.\u001b[0m\u001b[0mastype\u001b[0m\u001b[1;33m(\u001b[0m\u001b[0mint\u001b[0m\u001b[1;33m)\u001b[0m\u001b[1;33m\u001b[0m\u001b[1;33m\u001b[0m\u001b[0m\n\u001b[0m",
      "\u001b[1;32m~\\anaconda3\\lib\\site-packages\\pandas\\core\\generic.py\u001b[0m in \u001b[0;36m__getattr__\u001b[1;34m(self, name)\u001b[0m\n\u001b[0;32m   5485\u001b[0m         ):\n\u001b[0;32m   5486\u001b[0m             \u001b[1;32mreturn\u001b[0m \u001b[0mself\u001b[0m\u001b[1;33m[\u001b[0m\u001b[0mname\u001b[0m\u001b[1;33m]\u001b[0m\u001b[1;33m\u001b[0m\u001b[1;33m\u001b[0m\u001b[0m\n\u001b[1;32m-> 5487\u001b[1;33m         \u001b[1;32mreturn\u001b[0m \u001b[0mobject\u001b[0m\u001b[1;33m.\u001b[0m\u001b[0m__getattribute__\u001b[0m\u001b[1;33m(\u001b[0m\u001b[0mself\u001b[0m\u001b[1;33m,\u001b[0m \u001b[0mname\u001b[0m\u001b[1;33m)\u001b[0m\u001b[1;33m\u001b[0m\u001b[1;33m\u001b[0m\u001b[0m\n\u001b[0m\u001b[0;32m   5488\u001b[0m \u001b[1;33m\u001b[0m\u001b[0m\n\u001b[0;32m   5489\u001b[0m     \u001b[1;32mdef\u001b[0m \u001b[0m__setattr__\u001b[0m\u001b[1;33m(\u001b[0m\u001b[0mself\u001b[0m\u001b[1;33m,\u001b[0m \u001b[0mname\u001b[0m\u001b[1;33m:\u001b[0m \u001b[0mstr\u001b[0m\u001b[1;33m,\u001b[0m \u001b[0mvalue\u001b[0m\u001b[1;33m)\u001b[0m \u001b[1;33m->\u001b[0m \u001b[1;32mNone\u001b[0m\u001b[1;33m:\u001b[0m\u001b[1;33m\u001b[0m\u001b[1;33m\u001b[0m\u001b[0m\n",
      "\u001b[1;32m~\\anaconda3\\lib\\site-packages\\pandas\\core\\accessor.py\u001b[0m in \u001b[0;36m__get__\u001b[1;34m(self, obj, cls)\u001b[0m\n\u001b[0;32m    179\u001b[0m             \u001b[1;31m# we're accessing the attribute of the class, i.e., Dataset.geo\u001b[0m\u001b[1;33m\u001b[0m\u001b[1;33m\u001b[0m\u001b[0m\n\u001b[0;32m    180\u001b[0m             \u001b[1;32mreturn\u001b[0m \u001b[0mself\u001b[0m\u001b[1;33m.\u001b[0m\u001b[0m_accessor\u001b[0m\u001b[1;33m\u001b[0m\u001b[1;33m\u001b[0m\u001b[0m\n\u001b[1;32m--> 181\u001b[1;33m         \u001b[0maccessor_obj\u001b[0m \u001b[1;33m=\u001b[0m \u001b[0mself\u001b[0m\u001b[1;33m.\u001b[0m\u001b[0m_accessor\u001b[0m\u001b[1;33m(\u001b[0m\u001b[0mobj\u001b[0m\u001b[1;33m)\u001b[0m\u001b[1;33m\u001b[0m\u001b[1;33m\u001b[0m\u001b[0m\n\u001b[0m\u001b[0;32m    182\u001b[0m         \u001b[1;31m# Replace the property with the accessor object. Inspired by:\u001b[0m\u001b[1;33m\u001b[0m\u001b[1;33m\u001b[0m\u001b[0m\n\u001b[0;32m    183\u001b[0m         \u001b[1;31m# https://www.pydanny.com/cached-property.html\u001b[0m\u001b[1;33m\u001b[0m\u001b[1;33m\u001b[0m\u001b[0m\n",
      "\u001b[1;32m~\\anaconda3\\lib\\site-packages\\pandas\\core\\strings\\accessor.py\u001b[0m in \u001b[0;36m__init__\u001b[1;34m(self, data)\u001b[0m\n\u001b[0;32m    166\u001b[0m         \u001b[1;32mfrom\u001b[0m \u001b[0mpandas\u001b[0m\u001b[1;33m.\u001b[0m\u001b[0mcore\u001b[0m\u001b[1;33m.\u001b[0m\u001b[0marrays\u001b[0m\u001b[1;33m.\u001b[0m\u001b[0mstring_\u001b[0m \u001b[1;32mimport\u001b[0m \u001b[0mStringDtype\u001b[0m\u001b[1;33m\u001b[0m\u001b[1;33m\u001b[0m\u001b[0m\n\u001b[0;32m    167\u001b[0m \u001b[1;33m\u001b[0m\u001b[0m\n\u001b[1;32m--> 168\u001b[1;33m         \u001b[0mself\u001b[0m\u001b[1;33m.\u001b[0m\u001b[0m_inferred_dtype\u001b[0m \u001b[1;33m=\u001b[0m \u001b[0mself\u001b[0m\u001b[1;33m.\u001b[0m\u001b[0m_validate\u001b[0m\u001b[1;33m(\u001b[0m\u001b[0mdata\u001b[0m\u001b[1;33m)\u001b[0m\u001b[1;33m\u001b[0m\u001b[1;33m\u001b[0m\u001b[0m\n\u001b[0m\u001b[0;32m    169\u001b[0m         \u001b[0mself\u001b[0m\u001b[1;33m.\u001b[0m\u001b[0m_is_categorical\u001b[0m \u001b[1;33m=\u001b[0m \u001b[0mis_categorical_dtype\u001b[0m\u001b[1;33m(\u001b[0m\u001b[0mdata\u001b[0m\u001b[1;33m.\u001b[0m\u001b[0mdtype\u001b[0m\u001b[1;33m)\u001b[0m\u001b[1;33m\u001b[0m\u001b[1;33m\u001b[0m\u001b[0m\n\u001b[0;32m    170\u001b[0m         \u001b[0mself\u001b[0m\u001b[1;33m.\u001b[0m\u001b[0m_is_string\u001b[0m \u001b[1;33m=\u001b[0m \u001b[0misinstance\u001b[0m\u001b[1;33m(\u001b[0m\u001b[0mdata\u001b[0m\u001b[1;33m.\u001b[0m\u001b[0mdtype\u001b[0m\u001b[1;33m,\u001b[0m \u001b[0mStringDtype\u001b[0m\u001b[1;33m)\u001b[0m\u001b[1;33m\u001b[0m\u001b[1;33m\u001b[0m\u001b[0m\n",
      "\u001b[1;32m~\\anaconda3\\lib\\site-packages\\pandas\\core\\strings\\accessor.py\u001b[0m in \u001b[0;36m_validate\u001b[1;34m(data)\u001b[0m\n\u001b[0;32m    223\u001b[0m \u001b[1;33m\u001b[0m\u001b[0m\n\u001b[0;32m    224\u001b[0m         \u001b[1;32mif\u001b[0m \u001b[0minferred_dtype\u001b[0m \u001b[1;32mnot\u001b[0m \u001b[1;32min\u001b[0m \u001b[0mallowed_types\u001b[0m\u001b[1;33m:\u001b[0m\u001b[1;33m\u001b[0m\u001b[1;33m\u001b[0m\u001b[0m\n\u001b[1;32m--> 225\u001b[1;33m             \u001b[1;32mraise\u001b[0m \u001b[0mAttributeError\u001b[0m\u001b[1;33m(\u001b[0m\u001b[1;34m\"Can only use .str accessor with string values!\"\u001b[0m\u001b[1;33m)\u001b[0m\u001b[1;33m\u001b[0m\u001b[1;33m\u001b[0m\u001b[0m\n\u001b[0m\u001b[0;32m    226\u001b[0m         \u001b[1;32mreturn\u001b[0m \u001b[0minferred_dtype\u001b[0m\u001b[1;33m\u001b[0m\u001b[1;33m\u001b[0m\u001b[0m\n\u001b[0;32m    227\u001b[0m \u001b[1;33m\u001b[0m\u001b[0m\n",
      "\u001b[1;31mAttributeError\u001b[0m: Can only use .str accessor with string values!"
     ]
    }
   ],
   "source": [
    "bost_df['kv_m']=bost_df['kv_m'].str.extractall('(\\d+)').unstack().astype(int)"
   ]
  },
  {
   "cell_type": "code",
   "execution_count": 136,
   "id": "4e32aaac",
   "metadata": {
    "scrolled": true
   },
   "outputs": [
    {
     "data": {
      "text/plain": [
       "b_loc                  object\n",
       "b_price_kr              int32\n",
       "b_sale_rslt           float64\n",
       "b_sale_date    datetime64[ns]\n",
       "ant_rum                 int32\n",
       "kvm_kr_m2               int32\n",
       "kv_m                    int32\n",
       "dtype: object"
      ]
     },
     "execution_count": 136,
     "metadata": {},
     "output_type": "execute_result"
    }
   ],
   "source": [
    "bost_df.dtypes"
   ]
  },
  {
   "cell_type": "code",
   "execution_count": 137,
   "id": "5ae24ba1",
   "metadata": {},
   "outputs": [
    {
     "data": {
      "text/html": [
       "<div>\n",
       "<style scoped>\n",
       "    .dataframe tbody tr th:only-of-type {\n",
       "        vertical-align: middle;\n",
       "    }\n",
       "\n",
       "    .dataframe tbody tr th {\n",
       "        vertical-align: top;\n",
       "    }\n",
       "\n",
       "    .dataframe thead th {\n",
       "        text-align: right;\n",
       "    }\n",
       "</style>\n",
       "<table border=\"1\" class=\"dataframe\">\n",
       "  <thead>\n",
       "    <tr style=\"text-align: right;\">\n",
       "      <th></th>\n",
       "      <th>b_loc</th>\n",
       "      <th>b_price_kr</th>\n",
       "      <th>b_sale_rslt</th>\n",
       "      <th>b_sale_date</th>\n",
       "      <th>ant_rum</th>\n",
       "      <th>kvm_kr_m2</th>\n",
       "      <th>kv_m</th>\n",
       "    </tr>\n",
       "  </thead>\n",
       "  <tbody>\n",
       "    <tr>\n",
       "      <th>0</th>\n",
       "      <td>Kärleksstigen 28</td>\n",
       "      <td>2500000</td>\n",
       "      <td>0.0</td>\n",
       "      <td>2022-07-15</td>\n",
       "      <td>6</td>\n",
       "      <td>15500</td>\n",
       "      <td>161</td>\n",
       "    </tr>\n",
       "    <tr>\n",
       "      <th>1</th>\n",
       "      <td>Hagagatan 7</td>\n",
       "      <td>1100000</td>\n",
       "      <td>-7.9</td>\n",
       "      <td>2022-07-14</td>\n",
       "      <td>4</td>\n",
       "      <td>9000</td>\n",
       "      <td>122</td>\n",
       "    </tr>\n",
       "    <tr>\n",
       "      <th>2</th>\n",
       "      <td>Uddabergsvägen 15</td>\n",
       "      <td>4680000</td>\n",
       "      <td>4.1</td>\n",
       "      <td>2022-07-13</td>\n",
       "      <td>4</td>\n",
       "      <td>39300</td>\n",
       "      <td>119</td>\n",
       "    </tr>\n",
       "    <tr>\n",
       "      <th>3</th>\n",
       "      <td>Lerdala Åbod gatan</td>\n",
       "      <td>1650000</td>\n",
       "      <td>-2.1</td>\n",
       "      <td>2022-07-12</td>\n",
       "      <td>2</td>\n",
       "      <td>22600</td>\n",
       "      <td>73</td>\n",
       "    </tr>\n",
       "    <tr>\n",
       "      <th>4</th>\n",
       "      <td>Rönnbärsvägen 21</td>\n",
       "      <td>2300000</td>\n",
       "      <td>4.8</td>\n",
       "      <td>2022-07-12</td>\n",
       "      <td>7</td>\n",
       "      <td>14000</td>\n",
       "      <td>164</td>\n",
       "    </tr>\n",
       "  </tbody>\n",
       "</table>\n",
       "</div>"
      ],
      "text/plain": [
       "                b_loc  b_price_kr  b_sale_rslt b_sale_date  ant_rum  \\\n",
       "0    Kärleksstigen 28     2500000          0.0  2022-07-15        6   \n",
       "1         Hagagatan 7     1100000         -7.9  2022-07-14        4   \n",
       "2   Uddabergsvägen 15     4680000          4.1  2022-07-13        4   \n",
       "3  Lerdala Åbod gatan     1650000         -2.1  2022-07-12        2   \n",
       "4    Rönnbärsvägen 21     2300000          4.8  2022-07-12        7   \n",
       "\n",
       "   kvm_kr_m2  kv_m  \n",
       "0      15500   161  \n",
       "1       9000   122  \n",
       "2      39300   119  \n",
       "3      22600    73  \n",
       "4      14000   164  "
      ]
     },
     "execution_count": 137,
     "metadata": {},
     "output_type": "execute_result"
    }
   ],
   "source": [
    "bost_df.head()"
   ]
  },
  {
   "cell_type": "code",
   "execution_count": 138,
   "id": "25d1140b",
   "metadata": {},
   "outputs": [],
   "source": [
    "#### Save finished wranglel file to new CSV"
   ]
  },
  {
   "cell_type": "code",
   "execution_count": 139,
   "id": "73e8f382",
   "metadata": {},
   "outputs": [],
   "source": [
    "bost_df.to_csv('wrangled_bost_p.csv',sep=',',encoding='utf-8')"
   ]
  },
  {
   "cell_type": "code",
   "execution_count": 142,
   "id": "de9fe01f",
   "metadata": {},
   "outputs": [],
   "source": [
    "#### Beräkna utgångspriset på fastigheten\n",
    "# enligt rutan nedan kan man inte använda procent talet direkt utan måste konvertera detta först så att det passar beräkningen."
   ]
  },
  {
   "cell_type": "code",
   "execution_count": 143,
   "id": "72acfc3c",
   "metadata": {},
   "outputs": [],
   "source": [
    "bost_df['ack_calc_res']=bost_df['b_sale_rslt']*0.01"
   ]
  },
  {
   "cell_type": "code",
   "execution_count": 144,
   "id": "ee9ee55e",
   "metadata": {},
   "outputs": [
    {
     "data": {
      "text/html": [
       "<div>\n",
       "<style scoped>\n",
       "    .dataframe tbody tr th:only-of-type {\n",
       "        vertical-align: middle;\n",
       "    }\n",
       "\n",
       "    .dataframe tbody tr th {\n",
       "        vertical-align: top;\n",
       "    }\n",
       "\n",
       "    .dataframe thead th {\n",
       "        text-align: right;\n",
       "    }\n",
       "</style>\n",
       "<table border=\"1\" class=\"dataframe\">\n",
       "  <thead>\n",
       "    <tr style=\"text-align: right;\">\n",
       "      <th></th>\n",
       "      <th>b_loc</th>\n",
       "      <th>b_price_kr</th>\n",
       "      <th>b_sale_rslt</th>\n",
       "      <th>b_sale_date</th>\n",
       "      <th>ant_rum</th>\n",
       "      <th>kvm_kr_m2</th>\n",
       "      <th>kv_m</th>\n",
       "      <th>ack_calc_res</th>\n",
       "    </tr>\n",
       "  </thead>\n",
       "  <tbody>\n",
       "    <tr>\n",
       "      <th>0</th>\n",
       "      <td>Kärleksstigen 28</td>\n",
       "      <td>2500000</td>\n",
       "      <td>0.0</td>\n",
       "      <td>2022-07-15</td>\n",
       "      <td>6</td>\n",
       "      <td>15500</td>\n",
       "      <td>161</td>\n",
       "      <td>0.000</td>\n",
       "    </tr>\n",
       "    <tr>\n",
       "      <th>1</th>\n",
       "      <td>Hagagatan 7</td>\n",
       "      <td>1100000</td>\n",
       "      <td>-7.9</td>\n",
       "      <td>2022-07-14</td>\n",
       "      <td>4</td>\n",
       "      <td>9000</td>\n",
       "      <td>122</td>\n",
       "      <td>-0.079</td>\n",
       "    </tr>\n",
       "    <tr>\n",
       "      <th>2</th>\n",
       "      <td>Uddabergsvägen 15</td>\n",
       "      <td>4680000</td>\n",
       "      <td>4.1</td>\n",
       "      <td>2022-07-13</td>\n",
       "      <td>4</td>\n",
       "      <td>39300</td>\n",
       "      <td>119</td>\n",
       "      <td>0.041</td>\n",
       "    </tr>\n",
       "    <tr>\n",
       "      <th>3</th>\n",
       "      <td>Lerdala Åbod gatan</td>\n",
       "      <td>1650000</td>\n",
       "      <td>-2.1</td>\n",
       "      <td>2022-07-12</td>\n",
       "      <td>2</td>\n",
       "      <td>22600</td>\n",
       "      <td>73</td>\n",
       "      <td>-0.021</td>\n",
       "    </tr>\n",
       "    <tr>\n",
       "      <th>4</th>\n",
       "      <td>Rönnbärsvägen 21</td>\n",
       "      <td>2300000</td>\n",
       "      <td>4.8</td>\n",
       "      <td>2022-07-12</td>\n",
       "      <td>7</td>\n",
       "      <td>14000</td>\n",
       "      <td>164</td>\n",
       "      <td>0.048</td>\n",
       "    </tr>\n",
       "    <tr>\n",
       "      <th>...</th>\n",
       "      <td>...</td>\n",
       "      <td>...</td>\n",
       "      <td>...</td>\n",
       "      <td>...</td>\n",
       "      <td>...</td>\n",
       "      <td>...</td>\n",
       "      <td>...</td>\n",
       "      <td>...</td>\n",
       "    </tr>\n",
       "    <tr>\n",
       "      <th>170</th>\n",
       "      <td>Berg Högsböla 1</td>\n",
       "      <td>5100000</td>\n",
       "      <td>13.3</td>\n",
       "      <td>2022-01-10</td>\n",
       "      <td>-1</td>\n",
       "      <td>23200</td>\n",
       "      <td>220</td>\n",
       "      <td>0.133</td>\n",
       "    </tr>\n",
       "    <tr>\n",
       "      <th>171</th>\n",
       "      <td>Alvägen 4</td>\n",
       "      <td>2350000</td>\n",
       "      <td>42.9</td>\n",
       "      <td>2022-01-10</td>\n",
       "      <td>-1</td>\n",
       "      <td>22600</td>\n",
       "      <td>104</td>\n",
       "      <td>0.429</td>\n",
       "    </tr>\n",
       "    <tr>\n",
       "      <th>172</th>\n",
       "      <td>Ringstigen 11</td>\n",
       "      <td>2500000</td>\n",
       "      <td>0.2</td>\n",
       "      <td>2022-01-10</td>\n",
       "      <td>-1</td>\n",
       "      <td>27800</td>\n",
       "      <td>90</td>\n",
       "      <td>0.002</td>\n",
       "    </tr>\n",
       "    <tr>\n",
       "      <th>173</th>\n",
       "      <td>Vristulven Sjöberga</td>\n",
       "      <td>950000</td>\n",
       "      <td>0.0</td>\n",
       "      <td>2022-01-07</td>\n",
       "      <td>6</td>\n",
       "      <td>7600</td>\n",
       "      <td>125</td>\n",
       "      <td>0.000</td>\n",
       "    </tr>\n",
       "    <tr>\n",
       "      <th>174</th>\n",
       "      <td>Åkleby Gård</td>\n",
       "      <td>2600000</td>\n",
       "      <td>8.6</td>\n",
       "      <td>2022-01-07</td>\n",
       "      <td>-1</td>\n",
       "      <td>18800</td>\n",
       "      <td>138</td>\n",
       "      <td>0.086</td>\n",
       "    </tr>\n",
       "  </tbody>\n",
       "</table>\n",
       "<p>175 rows × 8 columns</p>\n",
       "</div>"
      ],
      "text/plain": [
       "                   b_loc  b_price_kr  b_sale_rslt b_sale_date  ant_rum  \\\n",
       "0       Kärleksstigen 28     2500000          0.0  2022-07-15        6   \n",
       "1            Hagagatan 7     1100000         -7.9  2022-07-14        4   \n",
       "2      Uddabergsvägen 15     4680000          4.1  2022-07-13        4   \n",
       "3     Lerdala Åbod gatan     1650000         -2.1  2022-07-12        2   \n",
       "4       Rönnbärsvägen 21     2300000          4.8  2022-07-12        7   \n",
       "..                   ...         ...          ...         ...      ...   \n",
       "170      Berg Högsböla 1     5100000         13.3  2022-01-10       -1   \n",
       "171            Alvägen 4     2350000         42.9  2022-01-10       -1   \n",
       "172        Ringstigen 11     2500000          0.2  2022-01-10       -1   \n",
       "173  Vristulven Sjöberga      950000          0.0  2022-01-07        6   \n",
       "174          Åkleby Gård     2600000          8.6  2022-01-07       -1   \n",
       "\n",
       "     kvm_kr_m2  kv_m  ack_calc_res  \n",
       "0        15500   161         0.000  \n",
       "1         9000   122        -0.079  \n",
       "2        39300   119         0.041  \n",
       "3        22600    73        -0.021  \n",
       "4        14000   164         0.048  \n",
       "..         ...   ...           ...  \n",
       "170      23200   220         0.133  \n",
       "171      22600   104         0.429  \n",
       "172      27800    90         0.002  \n",
       "173       7600   125         0.000  \n",
       "174      18800   138         0.086  \n",
       "\n",
       "[175 rows x 8 columns]"
      ]
     },
     "execution_count": 144,
     "metadata": {},
     "output_type": "execute_result"
    }
   ],
   "source": [
    "bost_df\n"
   ]
  },
  {
   "cell_type": "code",
   "execution_count": 158,
   "id": "d5943a65",
   "metadata": {
    "scrolled": true
   },
   "outputs": [],
   "source": [
    "bost_df['starting_price']=(bost_df.b_price_kr/(1-bost_df.ack_calc_res)).round()\n"
   ]
  },
  {
   "cell_type": "code",
   "execution_count": 176,
   "id": "4a4bdf8a",
   "metadata": {},
   "outputs": [],
   "source": [
    "for item in bost_df.ack_calc_res:\n",
    "    \n",
    "    if item < 0:\n",
    "        bost_df['starting_price']=(bost_df.b_price_kr/(1-bost_df.ack_calc_res)).round()\n",
    "    else:\n",
    "        bost_df['starting_price']=(bost_df.b_price_kr * (1-bost_df.ack_calc_res)).round()\n",
    "        "
   ]
  },
  {
   "cell_type": "code",
   "execution_count": 159,
   "id": "d8281615",
   "metadata": {
    "scrolled": true
   },
   "outputs": [
    {
     "data": {
      "text/plain": [
       "0      2500000.0\n",
       "1      1019462.0\n",
       "2      4880083.0\n",
       "3      1616063.0\n",
       "4      2415966.0\n",
       "         ...    \n",
       "170    5882353.0\n",
       "171    4115587.0\n",
       "172    2505010.0\n",
       "173     950000.0\n",
       "174    2844639.0\n",
       "Name: starting_price, Length: 175, dtype: float64"
      ]
     },
     "execution_count": 159,
     "metadata": {},
     "output_type": "execute_result"
    }
   ],
   "source": [
    "bost_df.starting_price"
   ]
  },
  {
   "cell_type": "code",
   "execution_count": 160,
   "id": "54ef7480",
   "metadata": {
    "scrolled": true
   },
   "outputs": [
    {
     "data": {
      "text/plain": [
       "0      2500000\n",
       "1      1019462\n",
       "2      4880083\n",
       "3      1616063\n",
       "4      2415966\n",
       "        ...   \n",
       "170    5882353\n",
       "171    4115587\n",
       "172    2505010\n",
       "173     950000\n",
       "174    2844639\n",
       "Name: starting_price, Length: 175, dtype: int32"
      ]
     },
     "execution_count": 160,
     "metadata": {},
     "output_type": "execute_result"
    }
   ],
   "source": [
    "bost_df.starting_price.astype(int)"
   ]
  },
  {
   "cell_type": "code",
   "execution_count": 177,
   "id": "25b9d3d0",
   "metadata": {
    "scrolled": false
   },
   "outputs": [
    {
     "data": {
      "text/html": [
       "<div>\n",
       "<style scoped>\n",
       "    .dataframe tbody tr th:only-of-type {\n",
       "        vertical-align: middle;\n",
       "    }\n",
       "\n",
       "    .dataframe tbody tr th {\n",
       "        vertical-align: top;\n",
       "    }\n",
       "\n",
       "    .dataframe thead th {\n",
       "        text-align: right;\n",
       "    }\n",
       "</style>\n",
       "<table border=\"1\" class=\"dataframe\">\n",
       "  <thead>\n",
       "    <tr style=\"text-align: right;\">\n",
       "      <th></th>\n",
       "      <th>b_loc</th>\n",
       "      <th>b_price_kr</th>\n",
       "      <th>b_sale_rslt</th>\n",
       "      <th>b_sale_date</th>\n",
       "      <th>ant_rum</th>\n",
       "      <th>kvm_kr_m2</th>\n",
       "      <th>kv_m</th>\n",
       "      <th>ack_calc_res</th>\n",
       "      <th>starting_price</th>\n",
       "    </tr>\n",
       "  </thead>\n",
       "  <tbody>\n",
       "    <tr>\n",
       "      <th>0</th>\n",
       "      <td>Kärleksstigen 28</td>\n",
       "      <td>2500000</td>\n",
       "      <td>0.0</td>\n",
       "      <td>2022-07-15</td>\n",
       "      <td>6</td>\n",
       "      <td>15500</td>\n",
       "      <td>161</td>\n",
       "      <td>0.000</td>\n",
       "      <td>2500000.0</td>\n",
       "    </tr>\n",
       "    <tr>\n",
       "      <th>1</th>\n",
       "      <td>Hagagatan 7</td>\n",
       "      <td>1100000</td>\n",
       "      <td>-7.9</td>\n",
       "      <td>2022-07-14</td>\n",
       "      <td>4</td>\n",
       "      <td>9000</td>\n",
       "      <td>122</td>\n",
       "      <td>-0.079</td>\n",
       "      <td>1186900.0</td>\n",
       "    </tr>\n",
       "    <tr>\n",
       "      <th>2</th>\n",
       "      <td>Uddabergsvägen 15</td>\n",
       "      <td>4680000</td>\n",
       "      <td>4.1</td>\n",
       "      <td>2022-07-13</td>\n",
       "      <td>4</td>\n",
       "      <td>39300</td>\n",
       "      <td>119</td>\n",
       "      <td>0.041</td>\n",
       "      <td>4488120.0</td>\n",
       "    </tr>\n",
       "    <tr>\n",
       "      <th>3</th>\n",
       "      <td>Lerdala Åbod gatan</td>\n",
       "      <td>1650000</td>\n",
       "      <td>-2.1</td>\n",
       "      <td>2022-07-12</td>\n",
       "      <td>2</td>\n",
       "      <td>22600</td>\n",
       "      <td>73</td>\n",
       "      <td>-0.021</td>\n",
       "      <td>1684650.0</td>\n",
       "    </tr>\n",
       "    <tr>\n",
       "      <th>4</th>\n",
       "      <td>Rönnbärsvägen 21</td>\n",
       "      <td>2300000</td>\n",
       "      <td>4.8</td>\n",
       "      <td>2022-07-12</td>\n",
       "      <td>7</td>\n",
       "      <td>14000</td>\n",
       "      <td>164</td>\n",
       "      <td>0.048</td>\n",
       "      <td>2189600.0</td>\n",
       "    </tr>\n",
       "  </tbody>\n",
       "</table>\n",
       "</div>"
      ],
      "text/plain": [
       "                b_loc  b_price_kr  b_sale_rslt b_sale_date  ant_rum  \\\n",
       "0    Kärleksstigen 28     2500000          0.0  2022-07-15        6   \n",
       "1         Hagagatan 7     1100000         -7.9  2022-07-14        4   \n",
       "2   Uddabergsvägen 15     4680000          4.1  2022-07-13        4   \n",
       "3  Lerdala Åbod gatan     1650000         -2.1  2022-07-12        2   \n",
       "4    Rönnbärsvägen 21     2300000          4.8  2022-07-12        7   \n",
       "\n",
       "   kvm_kr_m2  kv_m  ack_calc_res  starting_price  \n",
       "0      15500   161         0.000       2500000.0  \n",
       "1       9000   122        -0.079       1186900.0  \n",
       "2      39300   119         0.041       4488120.0  \n",
       "3      22600    73        -0.021       1684650.0  \n",
       "4      14000   164         0.048       2189600.0  "
      ]
     },
     "execution_count": 177,
     "metadata": {},
     "output_type": "execute_result"
    }
   ],
   "source": [
    "bost_df.head()"
   ]
  },
  {
   "cell_type": "code",
   "execution_count": 178,
   "id": "17aeb8c2",
   "metadata": {},
   "outputs": [
    {
     "data": {
      "text/html": [
       "<div>\n",
       "<style scoped>\n",
       "    .dataframe tbody tr th:only-of-type {\n",
       "        vertical-align: middle;\n",
       "    }\n",
       "\n",
       "    .dataframe tbody tr th {\n",
       "        vertical-align: top;\n",
       "    }\n",
       "\n",
       "    .dataframe thead th {\n",
       "        text-align: right;\n",
       "    }\n",
       "</style>\n",
       "<table border=\"1\" class=\"dataframe\">\n",
       "  <thead>\n",
       "    <tr style=\"text-align: right;\">\n",
       "      <th></th>\n",
       "      <th>b_loc</th>\n",
       "      <th>b_price_kr</th>\n",
       "      <th>b_sale_rslt</th>\n",
       "      <th>b_sale_date</th>\n",
       "      <th>ant_rum</th>\n",
       "      <th>kvm_kr_m2</th>\n",
       "      <th>kv_m</th>\n",
       "      <th>ack_calc_res</th>\n",
       "      <th>starting_price</th>\n",
       "    </tr>\n",
       "  </thead>\n",
       "  <tbody>\n",
       "    <tr>\n",
       "      <th>133</th>\n",
       "      <td>Våmbsvägen 18</td>\n",
       "      <td>3850000</td>\n",
       "      <td>-3.0</td>\n",
       "      <td>2022-03-01</td>\n",
       "      <td>-1</td>\n",
       "      <td>27700</td>\n",
       "      <td>139</td>\n",
       "      <td>-0.030</td>\n",
       "      <td>3965500.0</td>\n",
       "    </tr>\n",
       "    <tr>\n",
       "      <th>91</th>\n",
       "      <td>Granängsvägen 23</td>\n",
       "      <td>2900000</td>\n",
       "      <td>-4.0</td>\n",
       "      <td>2022-04-13</td>\n",
       "      <td>-1</td>\n",
       "      <td>23000</td>\n",
       "      <td>126</td>\n",
       "      <td>-0.040</td>\n",
       "      <td>3016000.0</td>\n",
       "    </tr>\n",
       "    <tr>\n",
       "      <th>71</th>\n",
       "      <td>Knopstigen 2</td>\n",
       "      <td>3700000</td>\n",
       "      <td>-5.0</td>\n",
       "      <td>2022-05-06</td>\n",
       "      <td>-1</td>\n",
       "      <td>37000</td>\n",
       "      <td>100</td>\n",
       "      <td>-0.050</td>\n",
       "      <td>3885000.0</td>\n",
       "    </tr>\n",
       "    <tr>\n",
       "      <th>35</th>\n",
       "      <td>Bankälla Tomten 2</td>\n",
       "      <td>1385000</td>\n",
       "      <td>0.0</td>\n",
       "      <td>2022-06-09</td>\n",
       "      <td>4</td>\n",
       "      <td>13700</td>\n",
       "      <td>101</td>\n",
       "      <td>0.000</td>\n",
       "      <td>1385000.0</td>\n",
       "    </tr>\n",
       "    <tr>\n",
       "      <th>31</th>\n",
       "      <td>Våmb Solhem</td>\n",
       "      <td>3150000</td>\n",
       "      <td>5.5</td>\n",
       "      <td>2022-06-13</td>\n",
       "      <td>4</td>\n",
       "      <td>29700</td>\n",
       "      <td>106</td>\n",
       "      <td>0.055</td>\n",
       "      <td>2976750.0</td>\n",
       "    </tr>\n",
       "    <tr>\n",
       "      <th>11</th>\n",
       "      <td>Skolvägen 9</td>\n",
       "      <td>2100000</td>\n",
       "      <td>-12.3</td>\n",
       "      <td>2022-07-04</td>\n",
       "      <td>-1</td>\n",
       "      <td>16200</td>\n",
       "      <td>130</td>\n",
       "      <td>-0.123</td>\n",
       "      <td>2358300.0</td>\n",
       "    </tr>\n",
       "    <tr>\n",
       "      <th>1</th>\n",
       "      <td>Hagagatan 7</td>\n",
       "      <td>1100000</td>\n",
       "      <td>-7.9</td>\n",
       "      <td>2022-07-14</td>\n",
       "      <td>4</td>\n",
       "      <td>9000</td>\n",
       "      <td>122</td>\n",
       "      <td>-0.079</td>\n",
       "      <td>1186900.0</td>\n",
       "    </tr>\n",
       "    <tr>\n",
       "      <th>100</th>\n",
       "      <td>Gärdesvägen 5</td>\n",
       "      <td>2950000</td>\n",
       "      <td>18.2</td>\n",
       "      <td>2022-04-01</td>\n",
       "      <td>6</td>\n",
       "      <td>26300</td>\n",
       "      <td>112</td>\n",
       "      <td>0.182</td>\n",
       "      <td>2413100.0</td>\n",
       "    </tr>\n",
       "    <tr>\n",
       "      <th>7</th>\n",
       "      <td>Våmb Ekhyddan</td>\n",
       "      <td>1400000</td>\n",
       "      <td>-17.4</td>\n",
       "      <td>2022-07-08</td>\n",
       "      <td>5</td>\n",
       "      <td>8300</td>\n",
       "      <td>169</td>\n",
       "      <td>-0.174</td>\n",
       "      <td>1643600.0</td>\n",
       "    </tr>\n",
       "    <tr>\n",
       "      <th>81</th>\n",
       "      <td>Seglarstigen 3</td>\n",
       "      <td>750000</td>\n",
       "      <td>7.9</td>\n",
       "      <td>2022-04-29</td>\n",
       "      <td>-1</td>\n",
       "      <td>20800</td>\n",
       "      <td>36</td>\n",
       "      <td>0.079</td>\n",
       "      <td>690750.0</td>\n",
       "    </tr>\n",
       "  </tbody>\n",
       "</table>\n",
       "</div>"
      ],
      "text/plain": [
       "                 b_loc  b_price_kr  b_sale_rslt b_sale_date  ant_rum  \\\n",
       "133      Våmbsvägen 18     3850000         -3.0  2022-03-01       -1   \n",
       "91    Granängsvägen 23     2900000         -4.0  2022-04-13       -1   \n",
       "71        Knopstigen 2     3700000         -5.0  2022-05-06       -1   \n",
       "35   Bankälla Tomten 2     1385000          0.0  2022-06-09        4   \n",
       "31         Våmb Solhem     3150000          5.5  2022-06-13        4   \n",
       "11         Skolvägen 9     2100000        -12.3  2022-07-04       -1   \n",
       "1          Hagagatan 7     1100000         -7.9  2022-07-14        4   \n",
       "100      Gärdesvägen 5     2950000         18.2  2022-04-01        6   \n",
       "7        Våmb Ekhyddan     1400000        -17.4  2022-07-08        5   \n",
       "81      Seglarstigen 3      750000          7.9  2022-04-29       -1   \n",
       "\n",
       "     kvm_kr_m2  kv_m  ack_calc_res  starting_price  \n",
       "133      27700   139        -0.030       3965500.0  \n",
       "91       23000   126        -0.040       3016000.0  \n",
       "71       37000   100        -0.050       3885000.0  \n",
       "35       13700   101         0.000       1385000.0  \n",
       "31       29700   106         0.055       2976750.0  \n",
       "11       16200   130        -0.123       2358300.0  \n",
       "1         9000   122        -0.079       1186900.0  \n",
       "100      26300   112         0.182       2413100.0  \n",
       "7         8300   169        -0.174       1643600.0  \n",
       "81       20800    36         0.079        690750.0  "
      ]
     },
     "execution_count": 178,
     "metadata": {},
     "output_type": "execute_result"
    }
   ],
   "source": [
    "bost_df.sample(10)"
   ]
  },
  {
   "cell_type": "code",
   "execution_count": null,
   "id": "517ebc3e",
   "metadata": {},
   "outputs": [],
   "source": [
    "#### "
   ]
  },
  {
   "cell_type": "code",
   "execution_count": null,
   "id": "3c703a01",
   "metadata": {},
   "outputs": [],
   "source": []
  }
 ],
 "metadata": {
  "kernelspec": {
   "display_name": "Python 3 (ipykernel)",
   "language": "python",
   "name": "python3"
  },
  "language_info": {
   "codemirror_mode": {
    "name": "ipython",
    "version": 3
   },
   "file_extension": ".py",
   "mimetype": "text/x-python",
   "name": "python",
   "nbconvert_exporter": "python",
   "pygments_lexer": "ipython3",
   "version": "3.9.7"
  }
 },
 "nbformat": 4,
 "nbformat_minor": 5
}
